{
 "cells": [
  {
   "cell_type": "markdown",
   "metadata": {},
   "source": [
    "# Homework 1\n",
    "\n",
    "#### EE-556 Mathematics of Data - Fall 2024"
   ]
  },
  {
   "cell_type": "markdown",
   "metadata": {},
   "source": [
    "In this homework, we consider a binary classification task that we will model using logistic regression. Your goal will be to find a classifier using first-order methods and accelerated gradient descent methods. The first part will consist of more theoretical questions, and the second one will ask you to implement these methods."
   ]
  },
  {
   "cell_type": "markdown",
   "metadata": {},
   "source": [
    "<div class=\"alert alert-info\">\n",
    "  ℹ️ <strong>Information on group based work:</strong>\n",
    "</div>\n",
    "\n",
    "- You are to deliver only 1 notebook per group.\n",
    "- Asking assistance beyond your group is ok, but answers should be individual to the group.\n",
    "- In the event that there was <span style=\"color: red;\">disproportional work done</span> by different group members, let the TAs know."
   ]
  },
  {
   "cell_type": "markdown",
   "metadata": {},
   "source": [
    "<div style=\"border: 1px solid #f00; background-color: #fdd; padding: 10px; border-radius: 5px;\">\n",
    "  ⚠️ Do not forget: Write who are the people in your group as well as their respective SCIPER numbers\n",
    "</div>"
   ]
  },
  {
   "cell_type": "markdown",
   "metadata": {},
   "source": [
    "Person 1 **Name**: || Person 1 **SCIPER**:\n",
    "\n",
    "\n",
    "Person 2 **Name**: || Person 2 **SCIPER**:\n",
    "\n",
    "\n",
    "Person 3 **Name**: || Person 3 **SCIPER**:"
   ]
  },
  {
   "cell_type": "markdown",
   "metadata": {},
   "source": [
    "## 1. Logistic Regression - 15 Points"
   ]
  },
  {
   "cell_type": "markdown",
   "metadata": {},
   "source": [
    "Logistic regression is a classic approach to _binary classification_. Before we dive in, let us first define the standard logistic function $\\sigma$ on which most of what follows is built:\n",
    "\n",
    "\\begin{equation*}\n",
    "    \\sigma : x \\mapsto \\frac{1}{1 + \\exp{(-x)}}.\n",
    "\\end{equation*}\n",
    "\n",
    "In logistic regression, we model the _conditional probability_ of observing a class label $b$ given a set of features $\\mathbf{a}$. More formally, if we observe $n$ independent samples\n",
    "\n",
    "\\begin{equation*}\n",
    "    \\{(\\mathbf{a}_i,b_i)\\}_{i=1}^n,\n",
    "\\end{equation*}\n",
    "\n",
    "where $\\mathbf{a}_i\\in\\mathbb{R}^p$ and $b_i\\in\\{-1, +1\\}$ is the class label, we _assume_ that $b_i$ given $\\mathbf{a}_i$ is a symmetric Bernouilli random variable with parameter $\\sigma(\\mathbf{a}_i^T\\mathbf{x}^\\natural)$, for some unknown $\\mathbf{x}^\\natural \\in \\mathbb{R}^p$. In other words, we assume that there exists an $\\mathbf{x}^\\natural \\in \\mathbb{R}^p$ such that\n",
    "\n",
    "\\begin{equation*}\n",
    "    \\mathbb{P}(b_i = 1 \\mid \\mathbf{a}_i) = \\sigma(\\mathbf{a}_i^T\\mathbf{x}^\\natural) \\quad \\text{ and } \\quad \\mathbb{P}(b_i = -1 \\mid \\mathbf{a}_i) = 1 - \\sigma(\\mathbf{a}_i^T\\mathbf{x}^\\natural)=  \\sigma( - \\mathbf{a}_i^T\\mathbf{x}^\\natural).\n",
    "\\end{equation*}\n",
    "\n",
    "This is our statistical model. It can be written in a more compact form as follows,\n",
    "\n",
    "\\begin{equation*}\n",
    "    \\mathbb{P}(b_i = j \\mid \\mathbf{a}_i) = \\sigma(j \\cdot \\mathbf{a}_i^T\\mathbf{x}^\\natural), \\quad j \\in \\{+1, -1\\}.\n",
    "\\end{equation*}\n",
    "\n",
    "Our goal now is to determine the unknown $\\mathbf{x}^\\natural$ by constructing an estimator."
   ]
  },
  {
   "cell_type": "markdown",
   "metadata": {},
   "source": [
    "__(a)__ (1 point) We are provided with a set of $n$ independent observations. Show that the negative log-likelihood $f$ can be written as:\n",
    "\n",
    "\\begin{equation*}\n",
    "\t\\begin{aligned}\n",
    "\t\tf(\\mathbf{x}) = -\\log(\\mathbb{P}(b_1, \\dots, b_n | a_1, \\dots, a_n)) & = \\sum_{i=1}^n  \\log(1 + \\exp(- b_i \\mathbf{a}_i^T\\mathbf{x})).\n",
    "\t\\end{aligned}\n",
    "\\end{equation*}\n"
   ]
  },
  {
   "cell_type": "markdown",
   "metadata": {},
   "source": [
    "\\begin{equation*}\n",
    "\t\\begin{aligned}\n",
    "            -\\log(\\mathbb{P}(b_1, \\dots, b_n | a_1, \\dots, a_n)) = -log(\\prod_{i=1}^{n} \\sigma(\\mathbf{b}_i\\cdot\\mathbf{a}_i^T\\mathbf{x})) \\newline\n",
    "            =  -log(\\prod_{i=1}^{n} \\frac{1}{1 + \\exp{(-\\mathbf{b}_i\\cdot\\mathbf{a}_i^Tx)}}) \n",
    "            \n",
    "            = log(\\prod_{i=1}^{n} {1 + \\exp{(-\\mathbf{b}_i\\cdot\\mathbf{a}_i^Tx)}})\n",
    "            \\newline\n",
    "            = \\sum_{i=1}^n  \\log(1 + \\exp(- b_i \\mathbf{a}_i^T\\mathbf{x}))\n",
    "            \n",
    "    \\end{aligned}\n",
    "\\end{equation*}"
   ]
  },
  {
   "cell_type": "markdown",
   "metadata": {},
   "source": [
    "__(b)__ (2 point) Show that the function $u \\mapsto \\log(1 + \\exp(-u))$ is convex. Deduce that $f$ is convex."
   ]
  },
  {
   "cell_type": "markdown",
   "metadata": {},
   "source": [
    "Then we can see that f is a sum of convex functions of the type $u \\mapsto \\log(1 + \\exp(-u))$ . The way we have shown that the funciton is convex, could be used to show that the sum of convex functions is also convex. "
   ]
  },
  {
   "cell_type": "markdown",
   "metadata": {},
   "source": [
    "You have just established that the negative log-likelihood is a convex function. So in principle, any local minimum of the maximum likelihood estimator, which is defined as\n",
    "\n",
    "\\begin{equation*}\n",
    "    \\mathbf{x}^\\star_{ML} = \\arg\\min_{\\mathbf{x} \\in \\mathbb{R}^p} f(\\mathbf{x}),\n",
    "\\end{equation*}\n",
    "\n",
    "is a global minimum so it can serve as an estimator of $\\mathbf{x}^\\natural$. But, does the minimum always exist? We will ponder this question in the following three points.\n",
    "\n",
    "__(c)__ (1 point) Explain the difference between infima and minima.  Give an example of a convex function, defined over $\\mathbb{R}$, that does not attain its infimum. "
   ]
  },
  {
   "cell_type": "markdown",
   "metadata": {},
   "source": [
    "The minima of a funciton are the points where the derrivative of the function at the point is equal to zero and where the curvature (second derivative) is positive. \n",
    "The infimum is a global value that defines the lower bound of a function. There is only one infima but they can be several minima. \n",
    "\n",
    "Foe example the exponential function has it's infimum at 0 but it will never attain it for values in $\\mathbb{R}$"
   ]
  },
  {
   "cell_type": "markdown",
   "metadata": {},
   "source": []
  },
  {
   "cell_type": "markdown",
   "metadata": {},
   "source": []
  },
  {
   "cell_type": "markdown",
   "metadata": {},
   "source": [
    "__(d)__ (1 point) Let us assume that there exists $\\mathbf{x}_0 \\in \\mathbb{R}^p$ such that \n",
    "\n",
    "\\begin{equation*}\n",
    "    \\forall i\\in\\{1, \\dots, n\\}, \\quad \\quad b_i \\mathbf{a}_i^T\\mathbf{x}_0 > 0.\n",
    "\\end{equation*}\n",
    "\n",
    "This is called _complete separation_ in the literature. Can you think of a geometric reason why this name is appropriate? Think of a 2D example where this can happen (i.e $p=2$) and describe why _complete separation_ is an appropriate name.\n",
    "\n"
   ]
  },
  {
   "cell_type": "markdown",
   "metadata": {},
   "source": [
    "I think that the name complete separation is a very appropriate because this equation separates the geometric space in two distinct spaces. Especially in 2D this would be a line that separates the space between two regions: above or under the line."
   ]
  },
  {
   "cell_type": "markdown",
   "metadata": {},
   "source": [
    "From this, you should see that it is likely that our data satisfies the complete separation assumption. Unfortunately, as you will show in the following question, this can become an obstacle."
   ]
  },
  {
   "cell_type": "markdown",
   "metadata": {},
   "source": [
    "__(e)__ (1 point) In a _complete separation_ setting, i.e, there exists $\\mathbf{x}_0$ such that \n",
    "\n",
    "\\begin{equation*}\n",
    "    \\forall i\\in\\{1, \\dots, n\\}, \\quad \\quad b_i \\mathbf{a}_i^T\\mathbf{x}_0 > 0,\n",
    "\\end{equation*}\n",
    "\n",
    "prove that the function $f$ does not attain its minimum. \n",
    "\n",
    "__Hint__: If the function did have a minimum, would it be above, below or equal to zero? Then think of how $f(2 \\mathbf{x}_0)$ compares with $f(\\mathbf{x}_0)$, how about $f(\\alpha \\mathbf{x}_0)$ for $\\alpha \\rightarrow + \\infty$ ? "
   ]
  },
  {
   "cell_type": "markdown",
   "metadata": {},
   "source": [
    "So if we have the complete separation setting, we will have \n",
    "\\begin{equation*}\n",
    "    \\begin{aligned}\n",
    "        \\quad \\quad b_i \\mathbf{a}_i^T\\mathbf{x}_0 > 0, \\forall i\\in\\{1, \\dots, n\\},  \\newline\n",
    "        0 \\leq \\exp(- b_i \\mathbf{a}_i^T\\mathbf{x}_0)) \\leq 1 \\newline\n",
    "         \\sum_{i=1}^n log(1) \\leq \\sum_{i=1}^n  \\log(1 + \\exp(- b_i \\mathbf{a}_i^T\\mathbf{x}_0)) \\leq \\sum_{i=1}^n log(2) \n",
    "    \\end{aligned}\n",
    "\\end{equation*}\n",
    "\n",
    "Unfortunately, we know that log(x) is a monotonically increasing function. Thus, the minimum does not exist in $\\mathbb{R}$, and $f(2 \\mathbf{x}_0)$ is always greater than $f(\\mathbf{x}_0)$. Thus if we are in this complete separation regime we won't attain the minimum in the part where we are bigger than zero. \n"
   ]
  },
  {
   "cell_type": "markdown",
   "metadata": {},
   "source": [
    "As you have just shown convex functions do not always attain their infimum. So it is possible for the maximum-likelihood estimator $\\mathbf{x}^\\star_{ML}$ to not exist. We will resolve this issue by adding a regularizer. "
   ]
  },
  {
   "cell_type": "markdown",
   "metadata": {},
   "source": [
    "In what follows, we consider the function\n",
    "\n",
    "\\begin{equation*}\n",
    "\tf_\\mu(\\mathbf{x}) = f(\\mathbf{x}) + \\frac{\\mu}{2}\\|\\mathbf{x}\\|_2^2\n",
    "\\end{equation*}\n",
    "with $\\mu> 0$.\n",
    "\n",
    "__(f)__ (1 point) Show that the gradient of $f_\\mu$ can be expressed as \n",
    "\\begin{equation}\n",
    "\t\\nabla f_\\mu(\\mathbf{x}) = \\sum_{i=1}^n -b_i \\sigma(-b_i \\cdot \\mathbf{a}_i^T\\mathbf{x})\\mathbf{a}_i + \\mu \\mathbf{x}.\n",
    "\\tag{1}\n",
    "\\end{equation}\n",
    "__Hint__: Lecture 3 shows you how to proceed with this question."
   ]
  },
  {
   "cell_type": "markdown",
   "metadata": {},
   "source": [
    "\\begin{equation*}\n",
    "\t\\nabla  f_\\mu(\\mathbf{x}) = \\nabla (f(\\mathbf{x}) + \\frac{\\mu}{2}\\|\\mathbf{x}\\|_2^2)  \\newline\n",
    "    = \\nabla (\\sum_{i=1}^n  \\log(1 + \\exp(- b_i \\mathbf{a}_i^T\\mathbf{x}))) + \\nabla (\\frac{\\mu}{2}\\|\\mathbf{x}\\|_2^2) \\newline\n",
    "     = \\sum_{i=1}^n (\\nabla \\log(1 + \\exp(- b_i \\mathbf{a}_i^T\\mathbf{x}))) + \\frac{\\mu}{2}\\nabla (\\|\\mathbf{x}\\|_2^2) \n",
    "\\end{equation*}\n"
   ]
  },
  {
   "cell_type": "markdown",
   "metadata": {},
   "source": [
    "__(g)__ (1 point) Show that the Hessian of $f_\\mu$ can be expressed as \n",
    "\\begin{equation}\n",
    "\t\\nabla^2 f_\\mu(\\mathbf{x}) = \\sum_{i=1}^{n} \\sigma(-b_i \\cdot \\mathbf{a}_i^T\\mathbf{x})(1 - \\sigma(-b_i \\cdot \\mathbf{a}_i^T\\mathbf{x}))\\mathbf{a}_i\\mathbf{a}_i^T + \\mu \\mathbf{I}.\n",
    "\\tag{2}\n",
    "\\end{equation}"
   ]
  },
  {
   "cell_type": "markdown",
   "metadata": {},
   "source": []
  },
  {
   "cell_type": "markdown",
   "metadata": {},
   "source": [
    "It is convenient to observe that we can write the Hessian in a more compact form by defining the matrix\n",
    "\\begin{equation}\n",
    "\t\\mathbf{A} = \\begin{bmatrix}\n",
    "        \\leftarrow &  \\mathbf{a}_1^T & \\rightarrow \\\\\n",
    "        \\leftarrow &  \\mathbf{a}_2^T & \\rightarrow \\\\\n",
    "         &  \\ldots &  \\\\\n",
    "        \\leftarrow &  \\mathbf{a}_n^T & \\rightarrow \\\\\n",
    "  \\end{bmatrix}.\n",
    "\\end{equation}\n",
    "It is easy to see that we have\n",
    "\\begin{equation}\n",
    "\t\\nabla^2 f_\\mu(\\mathbf{x}) =  \\mathbf{A}^T \\text{Diag}\\left(\\sigma(-b_i \\cdot \\mathbf{a}_i^T\\mathbf{x})(1 - \\sigma(-b_i \\cdot \\mathbf{a}_i^T\\mathbf{x})) \\right)\\mathbf{A}+ \\mu \\mathbf{I}.\n",
    "\\end{equation}\n"
   ]
  },
  {
   "cell_type": "markdown",
   "metadata": {},
   "source": [
    "__(h)__ (1 point) Show that $f_\\mu$ is $\\mu$-strongly convex. "
   ]
  },
  {
   "cell_type": "markdown",
   "metadata": {},
   "source": [
    "We have to prove:\n",
    "\\begin{equation}\n",
    "\\nabla^2 f(\\mathbf{x}) \\ge \\mu \\mathbf{I}, \\ \\forall \\mathbf{x} \\in \\mathbb{R}^p\n",
    "\\end{equation}\n",
    "Given:\n",
    "\\begin{equation}\n",
    "\t\\nabla^2 f_\\mu(\\mathbf{x}) = \\sum_{i=1}^{n} \\sigma(-b_i \\cdot \\mathbf{a}_i^T\\mathbf{x})(1 - \\sigma(-b_i \\cdot \\mathbf{a}_i^T\\mathbf{x}))\\mathbf{a}_i\\mathbf{a}_i^T + \\mu \\mathbf{I}.\n",
    "\\tag{2}\n",
    "\\end{equation}\n",
    "Thus, that $f_\\mu$ is $\\mu$-strongly convex implies:\n",
    "\\begin{equation}\n",
    "\t\\sum_{i=1}^{n} \\sigma(-b_i \\cdot \\mathbf{a}_i^T\\mathbf{x})(1 - \\sigma(-b_i \\cdot \\mathbf{a}_i^T\\mathbf{x}))\\mathbf{a}_i\\mathbf{a}_i^T \\ge 0\n",
    "\t\\tag{3}\n",
    "\\end{equation}\n",
    "\n",
    "By definition of $\\sigma()$:\n",
    "\\begin{equation}\n",
    "\t0 \\le \\sigma(-b_i \\cdot \\mathbf{a}_i^T\\mathbf{x})(1 - \\sigma(-b_i \\cdot \\mathbf{a}_i^T\\mathbf{x}))\n",
    "\t\\tag{4}\n",
    "\\end{equation}\n",
    "\n",
    "If each $\\mathbf{a}_i\\mathbf{a}_i^T$ is positive semi definite the sum $\\sum_{i=1}^{n} \\mathbf{a}_i\\mathbf{a}_i^T$ positive semi definite is sufficient. $\\mathbf{a}_i\\mathbf{a}_i^T$ has rank $1$ and is thus by definition positive semi definite. \n",
    "\n",
    "Hence, \n",
    "\\begin{equation}\n",
    "\\nabla^2 f_\\mu(\\mathbf{x}) = \\sum_{i=1}^{n} \\sigma(-b_i \\cdot \\mathbf{a}_i^T\\mathbf{x})(1 - \\sigma(-b_i \\cdot \\mathbf{a}_i^T\\mathbf{x}))\\mathbf{a}_i\\mathbf{a}_i^T + \\mu \\mathbf{I} \\ge \\mu \\mathbf{I} \\end{equation}\n",
    "\n",
    "QED\n"
   ]
  },
  {
   "cell_type": "markdown",
   "metadata": {},
   "source": [
    "__(i)__ (3 points) Is it possible for a strongly convex function to not attain its minimum ? <a name=\"cite_ref-1\"></a>[<sup>[1]</sup>](#cite_note-1) Justify your reasoning."
   ]
  },
  {
   "cell_type": "markdown",
   "metadata": {},
   "source": [
"By definition, the formula for strong convexity guarantees that a strongly convex fuction always has a unique minimum or a unique infimum. Though it will depend whether you are looking at a closed or open set. 
On a closed and convex set, the minimum is reachable. On the contrary, on an open set, the minimum might be reached at - inf or + inf, meaning that it isn't attainable."


   ]
  },
  {
   "cell_type": "markdown",
   "metadata": {},
   "source": [
    "We will now show that $f_\\mu$ is smooth, i.e, $\\nabla f_\\mu$ is L-Lipschitz with respect to the Euclidean norm, with \n",
    "\\begin{equation}\n",
    "\tL = \\|A\\|^2_F + \\mu \\text{, where }\\|\\cdot\\|_F\\text{ denotes the Frobenius norm. }\n",
    "\\end{equation}"
   ]
  },
  {
   "cell_type": "markdown",
   "metadata": {},
   "source": [
    "(1 point for all three questions)"
   ]
  },
  {
   "cell_type": "markdown",
   "metadata": {},
   "source": [
    "__(j-1)__ Show that $\\lambda_{\\max}(\\mathbf{a}_i\\mathbf{a}_i^T) = \\left\\| \\mathbf{a}_i\\right\\|_2^2$, where $\\lambda_{\\max}(\\cdot)$ denotes the largest eigenvalue."
   ]
  },
  {
   "cell_type": "markdown",
   "metadata": {},
   "source": [
    "since $\\mathbf{a}_i\\mathbf{a}_i^T$ is a matrix contructed as an outer product of itself, the eigenvector of the product is vector $\\mathbf{a}_i$\n",
    "$$\n",
    "\\mathbf{a}_i \\mathbf{a}_i^T \\mathbf{a}_i= \n",
    "\\begin{bmatrix}\n",
    "    a_{i,1} \\\\\n",
    "    a_{i,2} \\\\\n",
    "    \\vdots \\\\\n",
    "    a_{i,p}\n",
    "\\end{bmatrix}\n",
    "\\begin{bmatrix}\n",
    "    a_{i,1} & a_{i,2} & \\dots & a_{i,p}\n",
    "\\end{bmatrix}\n",
    "\\mathbf{a}_i\n",
    "=\n",
    "\\begin{bmatrix}\n",
    "    a_{i,1}^2 & a_{i,1} a_{i,2} & \\dots & a_{i,1} a_{i,p} \\\\\n",
    "    a_{i,2} a_{i,1} & a_{i,2}^2 & \\dots & a_{i,2} a_{i,p} \\\\\n",
    "    \\vdots & \\vdots & \\ddots & \\vdots \\\\\n",
    "    a_{i,p} a_{i,1} & a_{i,p} a_{i,2} & \\dots & a_{i,p}^2\n",
    "\\end{bmatrix}\n",
    "\\mathbf{a}_i\n",
    "$$\n",
    "$$\n",
    "\\mathbf{a}_i \\mathbf{a}_i^T \\mathbf{a}_i = \n",
    "\\begin{bmatrix}\n",
    "    a_{i,1}^3 + a_{i,1} a_{i,2} a_{i,2} + \\cdots + a_{i,1} a_{i,p} a_{i,p} \\\\\n",
    "    a_{i,2} a_{i,1} a_{i,1} + a_{i,2}^3 + \\cdots + a_{i,2} a_{i,p} a_{i,p} \\\\\n",
    "    \\vdots \\\\\n",
    "    a_{i,p} a_{i,1} a_{i,1} + a_{i,p} a_{i,2} a_{i,2} + \\cdots + a_{i,p}^3\n",
    "\\end{bmatrix}\n",
    "$$\n",
    "Simplifying each term, we find that the  j-th entry in this vector is:\n",
    "\n",
    "$$\n",
    "\\sum_{k=1}^p a_{i,j} a_{i,k}^2 = a_{i,j} \\sum_{k=1}^p a_{i,k}^2.\n",
    "$$\n",
    "\n",
    "Thus, we can write:\n",
    "\n",
    "$$\n",
    "\\mathbf{a}_i \\mathbf{a}_i^T \\mathbf{a}_i = \\left( \\sum_{k=1}^p a_{i,k}^2 \\right) \\mathbf{a}_i = \\|\\mathbf{a}_i\\|_2^2 \\mathbf{a}_i.\n",
    "$$\n",
    "\n",
    "This confirms that the largest (and only) eigenvalue is  $|\\mathbf{a}_i\\|_2^2$"
   ]
  },
  {
   "cell_type": "markdown",
   "metadata": {},
   "source": [
    "__(j-2)__ Using [2](#mjx-eqn-eq2), show that $\\lambda_{\\max}(\\nabla^2 f_\\mu(\\mathbf{x})) \\leq \\sum_{i=1}^{n} \\|\\mathbf{a}_i\\|_2^2 + \\mu$. \n",
    "\n",
    "__Hint__: Recall that $\\lambda_{\\max}(\\cdot)$ verifies the triangle inequality."
   ]
  },
  {
   "cell_type": "markdown",
   "metadata": {},
   "source": [
    "we analyze the expression for $\\nabla^2 f_\\mu(\\mathbf{x})$:\n",
    "\n",
    "$$\n",
    "\\nabla^2 f_\\mu(\\mathbf{x}) = \\mathbf{H} + \\mu \\mathbf{I}, \\quad \\text{where } \\mathbf{H} = \\sum_{i=1}^{n} \\sigma(-b_i \\cdot \\mathbf{a}_i^T \\mathbf{x})(1 - \\sigma(-b_i \\cdot \\mathbf{a}_i^T \\mathbf{x})) \\mathbf{a}_i \\mathbf{a}_i^T.\n",
    "$$\n",
    "\n",
    "The maximum eigenvalue of the regularisation matrix is just $\\mu$ since it's a diagonal matrix \n",
    "\n",
    "$$\n",
    "\\lambda_{\\max}(\\nabla^2 f_\\mu(\\mathbf{x})) \\leq \\lambda_{\\max}(\\mathbf{H}) + \\mu.\n",
    "$$\n",
    "\n",
    "Next, since $\\sigma(z)(1 - \\sigma(z)) \\leq \\frac{1}{4}$, it follows that\n",
    "\n",
    "$$\n",
    "\\lambda_{\\max}(\\mathbf{H}) \\leq \\sum_{i=1}^{n} \\frac{1}{4} \\|\\mathbf{a}_i\\|_2^2.\n",
    "$$\n",
    "\n",
    "Thus, we get:\n",
    "\n",
    "$$\n",
    "\\lambda_{\\max}(\\nabla^2 f_\\mu(\\mathbf{x})) \\leq \\frac{1}{4} \\sum_{i=1}^{n} \\|\\mathbf{a}_i\\|_2^2 + \\mu,\n",
    "$$\n",
    "\n",
    "When dropping the factor, the inequality still holds:\n",
    "\n",
    "$$\n",
    "\\lambda_{\\max}(\\nabla^2 f_\\mu(\\mathbf{x})) \\leq \\sum_{i=1}^{n} \\|\\mathbf{a}_i\\|_2^2 + \\mu.\n",
    "$$\n"
   ]
  },
  {
   "cell_type": "markdown",
   "metadata": {},
   "source": [
    "__(j-3)__ Conclude that $f_\\mu$ is $L$-smooth for $L = \\|A\\|_F^2 + \\mu$."
   ]
  },
  {
   "cell_type": "markdown",
   "metadata": {},
   "source": [
    "A function $f : \\mathbb{R}^n \\to \\mathbb{R}$ is said to be $L$-smooth if:\n",
    "\n",
    "$$\n",
    "\\|\\nabla f(\\mathbf{x}) - \\nabla f(\\mathbf{y})\\|_2 \\leq L \\|\\mathbf{x} - \\mathbf{y}\\|_2 \\quad \\text{for all } \\mathbf{x}, \\mathbf{y} \\in \\mathbb{R}^n.\n",
    "$$\n",
    "\n",
    "This is equivalent to saying that the Hessian of $f$ is bounded above by $L$:\n",
    "\n",
    "$\n",
    "\\lambda_{\\max}(\\nabla^2 f(\\mathbf{x})) \\leq L \\quad \\text{for all } \\mathbf{x}.\n",
    "$\n",
    "\n",
    "We found that:\n",
    "\n",
    "$$\n",
    "\\lambda_{\\max}(\\nabla^2 f_\\mu(\\mathbf{x})) \\leq \\sum_{i=1}^{n} \\|\\mathbf{a}_i\\|_2^2 + \\mu.\n",
    "$$\n",
    "\n",
    "$$\n",
    "\\sum_{i=1}^{n} \\|\\mathbf{a}_i\\|_2^2 = \\|A\\|_F^2.\n",
    "$$\n",
    "\n",
    "Replacing the sum in our earlier inequality, we get:\n",
    "\n",
    "$$\n",
    "\\lambda_{\\max}(\\nabla^2 f_\\mu(\\mathbf{x})) \\leq \\|A\\|_F^2 + \\mu.\n",
    "$$\n",
    "\n",
    "This implies that $f_\\mu$ is $L$-smooth with \n",
    "\n",
    "$$\n",
    "L = \\|A\\|_F^2 + \\mu.\n",
    "$$\n"
   ]
  },
  {
   "cell_type": "markdown",
   "metadata": {},
   "source": [
    "__(l)__ (2 point) To finalize, we introduce the Kullback-Leibler (KL) divergence. The KL divergence is a measure of how one probability distribution differs from a second, reference probability distribution. Along side the examples we saw in slide 18 of Lecture 1, the KL divergence is also a useful loss function to be used in learning frameworks.\n",
    "\n",
    "Write the definition of the Kullback-Leibler (KL) divergence between the true label distribution $q(b_i)$ and the model’s predicted distribution $p(b_i∣\\mathbf{a}_i)$ and show that minimizing the KL divergence between $q(b_i)$ and $p(b_i∣\\mathbf{a}_i)$ is equivalent to minimizing the negative log-likelihood derived in (a)."
   ]
  },
  {
   "cell_type": "markdown",
   "metadata": {},
   "source": []
  },
  {
   "cell_type": "markdown",
   "metadata": {},
   "source": [
    "\n",
    "From your work in this section, you have shown that the maximum likelihood estimator for logistic regression might not exist, but it can be guaranteed to exist by adding a $\\|\\cdot\\|_2^2$ regularizer. Consequently, the estimator for $\\mathbf{x}^\\natural$ we will use will be the solution of the smooth strongly convex problem,\n",
    "\\begin{equation}\n",
    "\t\\mathbf{x}^\\star=\\arg\\min_{\\mathbf{x} \\in \\mathbb{R}^p} f(\\mathbf{x}) + \\frac{\\mu}{2}\\|\\mathbf{x}\\|_2^2.\n",
    "\\tag{3}\n",
    "\\end{equation}"
   ]
  },
  {
   "cell_type": "markdown",
   "metadata": {},
   "source": [
    "<a name=\"cite_note-1\"></a>1. [^](#cite_ref-1) TA's will give you candy if you provide a complete proof."
   ]
  }
 ],
 "metadata": {
  "jupytext": {
   "custom_cell_magics": "kql"
  },
  "kernelspec": {
   "display_name": "Python3",
   "language": "python",
   "name": "python3"
  },
  "language_info": {
   "codemirror_mode": {
    "name": "ipython",
    "version": 3
   },
   "file_extension": ".py",
   "mimetype": "text/x-python",
   "name": "python",
   "nbconvert_exporter": "python",
   "pygments_lexer": "ipython3",
   "version": "3.12.5"
  },
  "widgets": {
   "application/vnd.jupyter.widget-state+json": {
    "state": {},
    "version_major": 2,
    "version_minor": 0
   }
  }
 },
 "nbformat": 4,
 "nbformat_minor": 4
}
