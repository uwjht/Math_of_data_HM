{
 "cells": [
  {
   "cell_type": "code",
   "execution_count": 1,
   "id": "96a60fb5",
   "metadata": {
    "ExecuteTime": {
     "end_time": "2023-11-15T01:04:50.697433Z",
     "start_time": "2023-11-15T01:04:48.717409Z"
    }
   },
   "outputs": [],
   "source": [
    "from IPython.display import Image\n",
    "from ipywidgets import interact, SelectionSlider\n",
    "from lib.utils import *"
   ]
  },
  {
   "cell_type": "markdown",
   "id": "3794b923",
   "metadata": {},
   "source": [
    "## 2. Generative Adversarial Networks - 35 points\n",
    "\n",
    "Please review Lecture 11 for the notation and the setup in this exercise, and the supplementary lecture on deep learning with PyTorch for the coding tricks.\n",
    "\n",
    "After the LLM boom, Kocho realized his coding skills have become useless and he wants to make a career change. As Kocho cannot dance, he had to drop his dream of becoming a tiktok influencer. Kocho realized a lot of young people was creating clothing brands, and in his poor understanding of supply and demand, he thought this meant there was a high demand. But Kocho only knows how to code! How is he supposed to design clothes? Apparently there is this kind of AI called Wasserstein Generative Adversarial Networks (WGANs) that can do it for him. \n",
    "\n",
    "Your goal in this notebook is to fill in the gaps in Kocho's knowledge on how to get his WGAN to work. Specifically, both his generator neural network $h_\\mathbf{x}$ (that outputs fake images) and dual variable neural network $d_\\mathbf{y}$ (that scores images) are defined as convolutional neural networks in the following function classes:\n",
    "\n",
    "\\begin{equation}\n",
    "\\begin{aligned}\n",
    "    \\mathcal{H} & :=\\{h: \\mathbb{R}^{D} \\to [0, 1]^{28 \\times 28}| h_{\\mathbf{x}}(\\omega)=\\sigma(c^T(\\texttt{relu}(c^T(\\texttt{relu}(c^T(\\texttt{relu}(c^T(\\omega; X_1, \\mu_1));X_2, \\mu_2));X_3,\\mu_3));X_4, \\mu_4))\\}, \\\\\n",
    "    \\qquad \\mathcal{D} & := \\{d: [0, 1]^{28 \\times 28} \\to \\mathbb{R} | d_{\\mathbf{y}}({\\bf a})= Y_3 \\cdot \\texttt{relu}(c(\\texttt{relu}(c({\\bf a};Y_1,\\nu_1));Y_2,\\nu_2)) + \\nu_3\n",
    "    \\},\n",
    "\\end{aligned}\n",
    "\\end{equation}\n",
    "\n",
    "where $\\mathbf{x} =[\\mu_1;\\mu_2;\\mu_3;\\mu_4;{X_1};{X_2};{X_3};X_4]$ are the \"generator\" parameters, $\\mathbf{y} =[\\nu_1;\\nu_2;\\nu_3;{Y_1};{Y_2}; Y_3] $ are the\n",
    "\"dual\" or the \"discriminator\" parameters, $c$ and $c^T$ are the learnable 2d convolution and transposed convolution operators, $D$ is the noise dimension (a hyperparameter) and $\\sigma$ is the sigmoid function.\n",
    "\n",
    "In the following cells, you will implement the two neural networks as well as the spectral normalization ([Myato 2018](https://arxiv.org/abs/1802.05957)) and weight clipping ([Petzka 2017](https://arxiv.org/abs/1709.08894)) methods for enforcing a Lipschitz constraint on the dual variable."
   ]
  },
  {
   "cell_type": "markdown",
   "id": "99068ced",
   "metadata": {},
   "source": [
    "**(1)** (3 points) Implement the convolutional neural network for the generator below. See `torch.nn.Sequential` docs for a start."
   ]
  },
  {
   "cell_type": "code",
   "execution_count": 2,
   "id": "a7c78c0c",
   "metadata": {
    "ExecuteTime": {
     "end_time": "2023-11-15T01:04:50.713433Z",
     "start_time": "2023-11-15T01:04:50.699410Z"
    }
   },
   "outputs": [],
   "source": [
    "class Generator(nn.Module):\n",
    "\n",
    "    def __init__(self, noise_dim=100):\n",
    "        super().__init__()\n",
    "        \n",
    "        self.inner = ... # FILL\n",
    "\n",
    "    def forward(self, omega):\n",
    "        return self.inner(omega)"
   ]
  },
  {
   "cell_type": "markdown",
   "metadata": {},
   "source": [
    "A critical aspect of WGANs is Lipschitzness of the discriminator. We know that the Lipschitz constant of a linear layer in the form $\\mathbf{b} = \\mathbf{W}\\mathbf{a}$ is given by $\\left|\\left|\\mathbf{W}\\right|\\right|_{2}$. We also know that a 2D circular convolution with kernel $\\mathbf{K} \\in \\mathbb{R}^{k\\times k}$ can be represented as a linear transformation of the flattened image, i.e., $\\text{flat}(\\mathbf{b}) = \\mathbf{W}_{\\mathbf{K}}\\text{flat}(\\mathbf{a})$ ([Sedghi 2019](https://arxiv.org/abs/1805.10408)). But what happens if we increase the `stride` parameter of the convolutional operator? The stride of the convolutional layer just results in a downsamplig of the output. In this exercise we will compute the Lipschitz constant of convolutional layers with `stride=2`.\n",
    "\n",
    "**Example**\n",
    "The 1D circular convolution $\\mathbf{b} = \\mathbf{k} \\circledast \\mathbf{a}$ with the kernel $\\mathbf{k} = [k_1, k_2, k_3] \\in \\mathbb{R}^{3}$ and $\\mathbf{a} \\in \\mathbb{R}^{d}, \\mathbf{b} \\in \\mathbb{R}^{d}$ can be written as:\n",
    "\n",
    "$$\n",
    "    \\mathbf{b} = \\left(\\begin{matrix}\n",
    "        k_2 & k_3 & 0 & \\cdots & & 0 & k_1\\\\\n",
    "        k_1 & k_2 & k_3 & 0 & \\cdots & & 0 \\\\\n",
    "        0 & k_1 & k_2 & k_3 & 0 & \\cdots & 0 \\\\\n",
    "        &&&\\vdots \\\\\n",
    "        0 & \\cdots &  & 0 & k_1 & k_2 & k_3 \\\\\n",
    "        k_3 & \\cdots &  & 0 & 0 & k_1 & k_2 \\\\\n",
    "    \\end{matrix}\\right)\\mathbf{a} = \\mathbf{W}_{\\mathbf{k}}\\mathbf{a}\\,,\n",
    "$$\n",
    "where $\\mathbf{W}_{\\mathbf{k}} \\in \\mathbb{R}^{d\\times d}$. With `stride=2`, the operation results in:\n",
    "$$\n",
    "    \\hat{\\mathbf{b}} = \\left(\\begin{matrix}\n",
    "        k_2 & k_3 & 0 & \\cdots & & & & 0 & k_1\\\\\n",
    "        0 & k_1 & k_2 & k_3 & 0 & \\cdots & & & 0 \\\\\n",
    "        0 & 0 & 0 & k_1 & k_2 & k_3 & 0 & \\cdots & 0 \\\\\n",
    "        &&&&\\vdots \\\\\n",
    "        0 & \\cdots & & & & 0 & k_1 & k_2 & k_3 \\\\\n",
    "        k_3 & \\cdots & & & & 0 & 0 & k_1 & k_2 \\\\\n",
    "    \\end{matrix}\\right)\\mathbf{a} = \\hat{\\mathbf{W}}_{\\mathbf{k}}\\mathbf{a}\n",
    "$$\n",
    "where $\\hat{\\mathbf{W}}_{\\mathbf{k}} \\in \\mathbb{R}^{d/2\\times d}$ and $d$ must be divisible by $2$.\n",
    "\n",
    "**(2)** (2 points) What is the Lipschitz constant of the convolutional layer with `stride=2` from the previous example?\n",
    "\n",
    "**Hint** Try finding a matrix $\\mathbf{S}\\in \\mathbb{R}^{d/2 \\times d}$ so that $\\hat{\\mathbf{W}}_{\\mathbf{k}} = \\mathbf{S}\\mathbf{W}_{\\mathbf{k}}$, what is $\\mathbf{S}\\mathbf{S}^{\\top}$?\n",
    "\n"
   ]
  },
  {
   "cell_type": "markdown",
   "metadata": {},
   "source": [
    "<span style=\"color:red\">\n",
    "\n",
    "**Solution**\n",
    "\n",
    "...\n",
    "</span>"
   ]
  },
  {
   "cell_type": "markdown",
   "id": "5763439b",
   "metadata": {},
   "source": [
    "Now that we know how the stride affects the Lipschitz constant, we are ready to perform `spectral_normalization` and `weight_clipping`.\n",
    "\n",
    "**(3)** (14 points) Implement below the convolutional network with circular padding for the discriminator and implement the spectral normalization and weight clipping methods. Use the findings from Theorem 6 in [Sedghi 2019](https://arxiv.org/abs/1805.10408) regarding the singular values of the linear form of a convolutional layer and check the pseudocode in the summary of results. Note that `torch.fft.fft(W,dim=-1)` computes the Discrete Fourier Transform along the last dimension of the tensor `W`. Be careful with the input image size at each layer! Also note that since the we are interested in the maximum singular value, we can simply use `torch.linalg.norm(..., ord=2)` instead of computing the SVD.\n",
    "\n",
    "**Remark:** The `spectral_normalization` and `weight_clipping` methods do not need to return a value. They should modify the appropriate parameters in $\\mathbf{y}$ of the dual network $d_{\\mathbf{y}}$ in place. Make sure to distinguish between convolutional and linear layers when performing spectral normalization. Remember not to track gradients in those operations. "
   ]
  },
  {
   "cell_type": "code",
   "execution_count": 3,
   "id": "1bdfbdd0",
   "metadata": {
    "ExecuteTime": {
     "end_time": "2023-11-15T01:04:50.729451Z",
     "start_time": "2023-11-15T01:04:50.715410Z"
    }
   },
   "outputs": [],
   "source": [
    "class DualVariable(nn.Module):\n",
    "\n",
    "    def __init__(self, c=1e-2, mode=\"spectral_norm\"):\n",
    "        super().__init__()\n",
    "        self.c = c\n",
    "        self.mode = mode\n",
    "        \n",
    "        self.inner = ... # FILL\n",
    "\n",
    "    def forward(self, x):\n",
    "        return self.inner(x)\n",
    "\n",
    "    def enforce_lipschitz(self):\n",
    "        if self.mode == \"spectral_norm\":\n",
    "            self.spectral_normalisation()\n",
    "        elif self.mode == \"weight_clip\":\n",
    "            self.weight_clipping()\n",
    "        else:\n",
    "            raise ValueError(\"Invalid enforce_lipschitz mode\")\n",
    "\n",
    "    def spectral_normalisation(self):\n",
    "        \"\"\"\n",
    "        Perform spectral normalisation, forcing the singular values of the linear form of the layer to be upper bounded by c.\n",
    "        \"\"\"\n",
    "        # FILL\n",
    "        pass\n",
    "    \n",
    "    def weight_clipping(self):\n",
    "        \"\"\"\n",
    "        Perform weight clipping, forcing the absolute values of the parameters to be upper bounded by c.\n",
    "        \"\"\"\n",
    "        # FILL\n",
    "        pass\n"
   ]
  },
  {
   "cell_type": "markdown",
   "metadata": {},
   "source": [
    "**(4)** (1 point) Torch implements spectral normalization through `torch.nn.utils.parametrizations.spectral_norm`. Check the norm of the convolutional layer before and after normalization. What do you observe? Can you explain why torch fails?\n",
    "\n",
    "**Hint** Compute the norm of the kernel vector, how does it change after `torch.nn.utils.parametrizations.spectral_norm`?"
   ]
  },
  {
   "cell_type": "code",
   "execution_count": null,
   "metadata": {},
   "outputs": [],
   "source": [
    "def circulant(tensor, d=5):\n",
    "    \"\"\"get the circulant matrix arising from circular convolution with tensor over d-dimensional inputs.\n",
    "    E.g. tensor=[0,1,2], dim=0 --> [[0,1,2],[2,0,1],[1,2,0]]\"\"\"\n",
    "    S = len(tensor)\n",
    "    tensor = torch.cat([tensor[1:], torch.zeros(d-S), torch.tensor([tensor[0]])])\n",
    "    \n",
    "    tmp = torch.cat([tensor.flip((0,)), torch.narrow(tensor.flip((0,)), dim=0, start=0, length=d-1)])\n",
    "    return tmp.unfold(0, d, 1).flip((-1,))\n",
    "\n",
    "#Define input\n",
    "d=5\n",
    "x = torch.rand(d)\n",
    "\n",
    "#Initialize convolutional kernel\n",
    "conv = nn.Conv1d(1,1, kernel_size=3, stride=1, padding=1,padding_mode='circular', bias=False)\n",
    "print(\"Kernel:\\n\",conv.weight.data)\n",
    "\n",
    "#Compute the circulant matrix\n",
    "circ = circulant(conv.weight.data.squeeze(), d=d)\n",
    "print(\"Circulant matrix representation:\\n\", circ)\n",
    "\n",
    "#Check that the convolution is equivalent to the matrix-vector product\n",
    "print(\"Error:\", torch.norm(conv(x.unsqueeze(0)).squeeze() - circ @ x))\n",
    "\n",
    "spectral_norm_before = # FILL\n",
    "kernel_norm_before = # FILL\n",
    "\n",
    "print('Spectral norm before', spectral_norm_before)\n",
    "print('Kernel norm before', kernel_norm_before)\n",
    "\n",
    "#Same convolutional kernel with torch's spectral normalization parametrization\n",
    "conv_norm = nn.Conv1d(1,1, kernel_size=3, stride=1, padding=1,padding_mode='circular', bias=False)\n",
    "conv_norm.weight.data = conv.weight.data.clone()\n",
    "\n",
    "conv_norm = torch.nn.utils.parametrizations.spectral_norm(conv_norm)\n",
    "print(\"Kernel after normalization:\\n\",conv_norm.weight.data)\n",
    "\n",
    "circ_norm = circulant(conv_norm.weight.data.squeeze(), d=d)\n",
    "\n",
    "spectral_norm_after = # FILL\n",
    "kernel_norm_after = # FILL\n",
    "print('Spectral norm after', spectral_norm_after)\n",
    "print('Kernel norm after', kernel_norm_after)\n",
    "\n"
   ]
  },
  {
   "cell_type": "markdown",
   "metadata": {},
   "source": [
    "<span style=\"color:red\">\n",
    "\n",
    "**Comments**\n",
    "\n",
    "...\n",
    "</span>"
   ]
  },
  {
   "cell_type": "markdown",
   "id": "db6b5f67",
   "metadata": {},
   "source": [
    "**(5)** (1 point) Implement a stochastic estimate of the objective function of the WGAN minimax game (in the cell below):\n",
    "\n",
    "$$\n",
    "\\min_{\\mathbf{x} \\in \\mathcal{X}} \\max_{\\mathbf{y} \\in \\mathcal{Y}} \n",
    "\\mathbb{E}[d_{\\mathbf{y}}({\\bf a})] - \\mathbb{E}[d_{\\mathbf{y}}(h_{\\mathbf{x}}(\\omega))] = \n",
    "\\min_{h \\in \\mathcal{H}} \\max_{d \\in \\mathcal{F}}\n",
    "\\mathbb{E}[d({\\bf a})] - \\mathbb{E}[d(h(\\omega))],\n",
    "$$"
   ]
  },
  {
   "cell_type": "code",
   "execution_count": 5,
   "id": "7b1f885e",
   "metadata": {
    "ExecuteTime": {
     "end_time": "2023-11-15T01:04:50.760481Z",
     "start_time": "2023-11-15T01:04:50.730412Z"
    }
   },
   "outputs": [],
   "source": [
    "def objective(d, g, data_sample, noise_sample):\n",
    "    return ... # FILL"
   ]
  },
  {
   "cell_type": "markdown",
   "id": "2be9bb52",
   "metadata": {},
   "source": [
    "**(6)** (10 points) Implement an alternating gradient ascent/descent update, training the generator 1 time for every `d_ratio` dual updates. More specifically, you will implement the conceptual algorithm below using the parameters of the neural networks\n",
    "\n",
    "$$\n",
    "\\begin{aligned}\n",
    "d^{k+1} &= \\text{EnforceLipschitz} (d^k + \\gamma \\text{SG}_d(d^k, h^k)), & (\\text{if}~k~\\text{mod}~d_{\\text{ratio}} \\neq 0)\\\\\n",
    "h^{k+1} &= h^{k} - \\gamma \\text{SG}_h(d^{k+1}, h^k) & (\\text{if}~ k~\\text{mod}~d_{\\text{ratio}} =0),\n",
    "\\end{aligned}\n",
    "$$\n",
    "\n",
    "where $\\text{SG}$ is the stochastic gradient oracle. To perform the optimization, you have two `torch` optimizers `d_optim` and `g_optim`, which have a `.step()` method that updates the discriminator and generator parameters respectively.\n",
    "\n",
    "Use the objective function you have just written. The iteration count is held by the `step_k` argument. The argument `d_ratio` defines how many more times we train the discriminator than train the generator. \n",
    "\n",
    "For later, to display the progress, write the function so that it returns the value of the objective function.\n",
    "\n",
    "**Hints**: Don't forget that the generator seeks to minimize and the discriminator seeks to maximize. Torch optimizers step in the _negative_ gradient direction, keep that in mind."
   ]
  },
  {
   "cell_type": "code",
   "execution_count": 6,
   "id": "02f06a39",
   "metadata": {
    "ExecuteTime": {
     "end_time": "2023-11-15T01:04:50.775441Z",
     "start_time": "2023-11-15T01:04:50.762443Z"
    }
   },
   "outputs": [],
   "source": [
    "def alternating_update(step_k, d, g, d_optim, g_optim, noise_samples, real_samples, d_ratio=2):\n",
    "    # FILL\n",
    "    pass"
   ]
  },
  {
   "cell_type": "markdown",
   "id": "974e2137",
   "metadata": {},
   "source": [
    "With all the ingredients in hand, we can train Kocho's WGAN.\n",
    "\n",
    "The following cell defines the two networks."
   ]
  },
  {
   "cell_type": "code",
   "execution_count": 7,
   "id": "44778994",
   "metadata": {
    "ExecuteTime": {
     "end_time": "2023-11-15T01:04:50.916459Z",
     "start_time": "2023-11-15T01:04:50.777443Z"
    }
   },
   "outputs": [],
   "source": [
    "# Hyperparameters\n",
    "n_epochs = ... # How many passes over the digit image dataset\n",
    "noise_dim = ... # Noise dimension for the generator\n",
    "mode = \"spectral_norm\" # \"weight_clip\" # choice for enforce_lipschitz\n",
    "c = 2.0 if mode == \"spectral_norm\" else 1e-2 # hyperparameter for the enforce_lipschitz methods\n",
    "\n",
    "device = \"cpu\" # Change this if you can and want to use a GPU device \n",
    "d = DualVariable(c=c, mode=mode).to(device)\n",
    "g = Generator(noise_dim=noise_dim).to(device)"
   ]
  },
  {
   "cell_type": "markdown",
   "id": "f0d87451",
   "metadata": {},
   "source": [
    "**(7)** (2 points) Define an optimizer for each of the networks. We recommend choosing `Adam` with a learning rate of $2 \\cdot 10^{-4}$ and $(\\beta_1, \\beta_2)=(0.5, 0.999)$."
   ]
  },
  {
   "cell_type": "code",
   "execution_count": 8,
   "id": "1995ee09",
   "metadata": {
    "ExecuteTime": {
     "end_time": "2023-11-15T01:04:50.932442Z",
     "start_time": "2023-11-15T01:04:50.917408Z"
    }
   },
   "outputs": [],
   "source": [
    "d_optim = ...  # maximization\n",
    "g_optim = ...  # minimization"
   ]
  },
  {
   "cell_type": "markdown",
   "id": "e93ec284",
   "metadata": {},
   "source": [
    "The following cell runs the training loop, this might take a few minutes."
   ]
  },
  {
   "cell_type": "code",
   "execution_count": null,
   "id": "97fa5653",
   "metadata": {
    "ExecuteTime": {
     "end_time": "2023-11-15T01:05:05.097875Z",
     "start_time": "2023-11-15T01:04:50.933408Z"
    }
   },
   "outputs": [],
   "source": [
    "train(d, g, d_optim, g_optim, alternating_update, device=device,\n",
    "      n_epochs=n_epochs, num_test_samples=100, noise_dim=noise_dim, f_ratio=2, mode=mode)"
   ]
  },
  {
   "cell_type": "markdown",
   "id": "f48b627d",
   "metadata": {},
   "source": [
    "Once the training is complete, you can visualize the training process in the following cell. Use the slider to scroll through generated image collages from every epoch."
   ]
  },
  {
   "cell_type": "code",
   "execution_count": null,
   "id": "9e142f03",
   "metadata": {
    "ExecuteTime": {
     "end_time": "2023-11-15T01:05:05.101874Z",
     "start_time": "2023-11-15T01:05:05.101874Z"
    }
   },
   "outputs": [],
   "source": [
    "def show_image(epoch):\n",
    "    return Image(f\"generated_images_{mode}/epoch_{epoch}.png\")\n",
    "interact(show_image, epoch=SelectionSlider(\n",
    "    options=range(n_epochs),\n",
    "    value=0,\n",
    "    description=\"Epoch:\",\n",
    "    disabled=False,\n",
    "    continuous_update=False,\n",
    "    orientation=\"horizontal\",\n",
    "    readout=True\n",
    "))"
   ]
  },
  {
   "cell_type": "code",
   "execution_count": null,
   "id": "a520a443-d5c8-4755-9b9c-949459b965c6",
   "metadata": {
    "ExecuteTime": {
     "end_time": "2023-11-15T01:05:05.102841Z",
     "start_time": "2023-11-15T01:05:05.102841Z"
    }
   },
   "outputs": [],
   "source": [
    "Image(f\"generated_images_{mode}/epoch_-1.png\") # real images"
   ]
  },
  {
   "cell_type": "markdown",
   "id": "2b383340",
   "metadata": {},
   "source": [
    "**(8)** (2 points) Briefly comment on what you observe, will Kocho be able to sell any of these hoodies/T-shirts? Play with the network parameter sizes and the other hyperparameters, all while keeping in mind the difficulties of min-max optimization you've analyzed in the previous notebook."
   ]
  },
  {
   "cell_type": "markdown",
   "id": "2ea6b8bd",
   "metadata": {},
   "source": [
    "<span style=\"color:red\">\n",
    "\n",
    "**Comments**\n",
    "\n",
    "...\n",
    "</span>"
   ]
  }
 ],
 "metadata": {
  "jupytext": {
   "custom_cell_magics": "kql",
   "formats": "ipynb,py:percent,md"
  },
  "kernelspec": {
   "display_name": "Python 3 (ipykernel)",
   "language": "python",
   "name": "python3"
  },
  "language_info": {
   "codemirror_mode": {
    "name": "ipython",
    "version": 3
   },
   "file_extension": ".py",
   "mimetype": "text/x-python",
   "name": "python",
   "nbconvert_exporter": "python",
   "pygments_lexer": "ipython3",
   "version": "3.9.6"
  },
  "latex_envs": {
   "LaTeX_envs_menu_present": true,
   "autoclose": false,
   "autocomplete": true,
   "bibliofile": "biblio.bib",
   "cite_by": "apalike",
   "current_citInitial": 1,
   "eqLabelWithNumbers": true,
   "eqNumInitial": 1,
   "hotkeys": {
    "equation": "Ctrl-E",
    "itemize": "Ctrl-I"
   },
   "labels_anchors": false,
   "latex_user_defs": false,
   "report_style_numbering": false,
   "user_envs_cfg": false
  },
  "toc": {
   "base_numbering": 1,
   "nav_menu": {},
   "number_sections": true,
   "sideBar": true,
   "skip_h1_title": false,
   "title_cell": "Table of Contents",
   "title_sidebar": "Contents",
   "toc_cell": false,
   "toc_position": {},
   "toc_section_display": true,
   "toc_window_display": false
  },
  "varInspector": {
   "cols": {
    "lenName": 16,
    "lenType": 16,
    "lenVar": 40
   },
   "kernels_config": {
    "python": {
     "delete_cmd_postfix": "",
     "delete_cmd_prefix": "del ",
     "library": "var_list.py",
     "varRefreshCmd": "print(var_dic_list())"
    },
    "r": {
     "delete_cmd_postfix": ") ",
     "delete_cmd_prefix": "rm(",
     "library": "var_list.r",
     "varRefreshCmd": "cat(var_dic_list()) "
    }
   },
   "types_to_exclude": [
    "module",
    "function",
    "builtin_function_or_method",
    "instance",
    "_Feature"
   ],
   "window_display": false
  },
  "widgets": {
   "application/vnd.jupyter.widget-state+json": {
    "state": {
     "0078da1d5dd44dadae60d64f32a7bfef": {
      "model_module": "@jupyter-widgets/base",
      "model_module_version": "2.0.0",
      "model_name": "LayoutModel",
      "state": {}
     },
     "0219f3bbec9b416db62706fae5bdd1a5": {
      "model_module": "@jupyter-widgets/controls",
      "model_module_version": "2.0.0",
      "model_name": "HTMLModel",
      "state": {
       "layout": "IPY_MODEL_8bc117307c384fd4bb971c799dff8a94",
       "style": "IPY_MODEL_f63d4337046f4e4a81c1502a89217401",
       "value": "Batch: 100%"
      }
     },
     "026fe985d8ca4f0eae5176182e1914ea": {
      "model_module": "@jupyter-widgets/base",
      "model_module_version": "2.0.0",
      "model_name": "LayoutModel",
      "state": {}
     },
     "02ce76165d8546ee875edab950d2cd3c": {
      "model_module": "@jupyter-widgets/base",
      "model_module_version": "2.0.0",
      "model_name": "LayoutModel",
      "state": {}
     },
     "055573a84e33495fb78e22c7c4ace60c": {
      "model_module": "@jupyter-widgets/controls",
      "model_module_version": "2.0.0",
      "model_name": "HTMLStyleModel",
      "state": {
       "description_width": "",
       "font_size": null,
       "text_color": null
      }
     },
     "07053e06988b4886b04cc38579fe610c": {
      "model_module": "@jupyter-widgets/controls",
      "model_module_version": "2.0.0",
      "model_name": "ProgressStyleModel",
      "state": {
       "description_width": ""
      }
     },
     "0854fff283ff45ebab3651c4e3b4ab31": {
      "model_module": "@jupyter-widgets/controls",
      "model_module_version": "2.0.0",
      "model_name": "FloatProgressModel",
      "state": {
       "layout": "IPY_MODEL_670ebd9089274837803fa5b71c8d45b2",
       "max": 198,
       "style": "IPY_MODEL_07053e06988b4886b04cc38579fe610c",
       "value": 198
      }
     },
     "09f094f34c6b4e0499a59279922ddf09": {
      "model_module": "@jupyter-widgets/base",
      "model_module_version": "2.0.0",
      "model_name": "LayoutModel",
      "state": {}
     },
     "0bc1760a86f04c7eb93f3fef1c5384b5": {
      "model_module": "@jupyter-widgets/base",
      "model_module_version": "2.0.0",
      "model_name": "LayoutModel",
      "state": {}
     },
     "0c189271983f4514bd12aed3fd261619": {
      "model_module": "@jupyter-widgets/controls",
      "model_module_version": "2.0.0",
      "model_name": "HTMLModel",
      "state": {
       "layout": "IPY_MODEL_253f7fc8e2534e8cb95aca733951f126",
       "style": "IPY_MODEL_8976383e5064412794ece2bf70015202",
       "value": " 198/198 [00:26&lt;00:00,  7.85it/s, W1:1.1e+01 G]"
      }
     },
     "0c4dc20dd7a54c28b8eb9e550366b2f4": {
      "model_module": "@jupyter-widgets/base",
      "model_module_version": "2.0.0",
      "model_name": "LayoutModel",
      "state": {}
     },
     "0e7e4434482d440d88952895f0f43009": {
      "model_module": "@jupyter-widgets/controls",
      "model_module_version": "2.0.0",
      "model_name": "HTMLStyleModel",
      "state": {
       "description_width": "",
       "font_size": null,
       "text_color": null
      }
     },
     "0f92c4df82834736a21e2aecfae2c62b": {
      "model_module": "@jupyter-widgets/controls",
      "model_module_version": "2.0.0",
      "model_name": "HTMLStyleModel",
      "state": {
       "description_width": "",
       "font_size": null,
       "text_color": null
      }
     },
     "12a5bb123bc548f290e675619fb12c83": {
      "model_module": "@jupyter-widgets/controls",
      "model_module_version": "2.0.0",
      "model_name": "HTMLStyleModel",
      "state": {
       "description_width": "",
       "font_size": null,
       "text_color": null
      }
     },
     "1617726c8ccd4b93b9d2ccc9503f2fec": {
      "model_module": "@jupyter-widgets/base",
      "model_module_version": "2.0.0",
      "model_name": "LayoutModel",
      "state": {}
     },
     "161f48c3a7f84e92a585bb6bffa183c1": {
      "model_module": "@jupyter-widgets/controls",
      "model_module_version": "2.0.0",
      "model_name": "HTMLStyleModel",
      "state": {
       "description_width": "",
       "font_size": null,
       "text_color": null
      }
     },
     "16775e893a5f4239a1a57a406c328f15": {
      "model_module": "@jupyter-widgets/base",
      "model_module_version": "2.0.0",
      "model_name": "LayoutModel",
      "state": {}
     },
     "18e57d306afc41b2a9ffc4c129aec658": {
      "model_module": "@jupyter-widgets/controls",
      "model_module_version": "2.0.0",
      "model_name": "HBoxModel",
      "state": {
       "children": [
        "IPY_MODEL_2f7312baa1d2483b8eb34847b9abec46",
        "IPY_MODEL_24b9c5e144764456a654cf87e172820a",
        "IPY_MODEL_607344176a104a9193662c3f011fe943"
       ],
       "layout": "IPY_MODEL_bce5ee9f9c3f401c88207b3096ba770d"
      }
     },
     "193dc7aafb324fb1a8c331bb08a76b01": {
      "model_module": "@jupyter-widgets/base",
      "model_module_version": "2.0.0",
      "model_name": "LayoutModel",
      "state": {}
     },
     "198303638d6f41079dc0e44adfd91887": {
      "model_module": "@jupyter-widgets/base",
      "model_module_version": "2.0.0",
      "model_name": "LayoutModel",
      "state": {}
     },
     "1b9a8aea85a141d19057f29103d7f8e0": {
      "model_module": "@jupyter-widgets/controls",
      "model_module_version": "2.0.0",
      "model_name": "ProgressStyleModel",
      "state": {
       "description_width": ""
      }
     },
     "1d2ed495cd524a368b82aa2b4c43b6ce": {
      "model_module": "@jupyter-widgets/base",
      "model_module_version": "2.0.0",
      "model_name": "LayoutModel",
      "state": {}
     },
     "1db4296b61f14bd4979c74bf113b5821": {
      "model_module": "@jupyter-widgets/base",
      "model_module_version": "2.0.0",
      "model_name": "LayoutModel",
      "state": {}
     },
     "1fe0ac0855124a62bdda500fd6949ad8": {
      "model_module": "@jupyter-widgets/controls",
      "model_module_version": "2.0.0",
      "model_name": "FloatProgressModel",
      "state": {
       "layout": "IPY_MODEL_f584c73fe1ab4965a661e795916275a3",
       "max": 198,
       "style": "IPY_MODEL_576d805be5c64d67ad163f631140bdf1",
       "value": 198
      }
     },
     "207a1cd35f474c63b4deae7704aba2e3": {
      "model_module": "@jupyter-widgets/controls",
      "model_module_version": "2.0.0",
      "model_name": "HTMLModel",
      "state": {
       "layout": "IPY_MODEL_caed1f53408c41678bde6755fa93d9eb",
       "style": "IPY_MODEL_584fb486bac14fb2a3c6e2ea00c51b29",
       "value": " 198/198 [00:26&lt;00:00,  7.59it/s, W1:3.1 G]"
      }
     },
     "207c9c27916c4114948f845a1b458a39": {
      "model_module": "@jupyter-widgets/controls",
      "model_module_version": "2.0.0",
      "model_name": "HTMLModel",
      "state": {
       "layout": "IPY_MODEL_bfa94cc4c2cb45aa8719fa290001300d",
       "style": "IPY_MODEL_faa123fa90d3471485c1f0d97d035142",
       "value": " 197/198 [00:25&lt;00:00,  7.68it/s, W1:3.2e+01 G]"
      }
     },
     "24b9c5e144764456a654cf87e172820a": {
      "model_module": "@jupyter-widgets/controls",
      "model_module_version": "2.0.0",
      "model_name": "FloatProgressModel",
      "state": {
       "bar_style": "success",
       "layout": "IPY_MODEL_6baaf405ddf54938bda6f7a0d2db5863",
       "max": 20,
       "style": "IPY_MODEL_4902c6a2e8d7408e8e9f818f97cc1450",
       "value": 20
      }
     },
     "253f7fc8e2534e8cb95aca733951f126": {
      "model_module": "@jupyter-widgets/base",
      "model_module_version": "2.0.0",
      "model_name": "LayoutModel",
      "state": {}
     },
     "27bd30e9a0604f3f8e9be1ad0ff7f493": {
      "model_module": "@jupyter-widgets/base",
      "model_module_version": "2.0.0",
      "model_name": "LayoutModel",
      "state": {
       "visibility": "hidden"
      }
     },
     "27d0ae86f82546aeaea831fe8356e193": {
      "model_module": "@jupyter-widgets/base",
      "model_module_version": "2.0.0",
      "model_name": "LayoutModel",
      "state": {}
     },
     "27efa891c0754302b9cde333d6c52cf6": {
      "model_module": "@jupyter-widgets/base",
      "model_module_version": "2.0.0",
      "model_name": "LayoutModel",
      "state": {}
     },
     "2996aeb5579e46768f49a8d70b8f7610": {
      "model_module": "@jupyter-widgets/base",
      "model_module_version": "2.0.0",
      "model_name": "LayoutModel",
      "state": {}
     },
     "2b484b2aab3f4fb9962a1ad079d2def9": {
      "model_module": "@jupyter-widgets/controls",
      "model_module_version": "2.0.0",
      "model_name": "FloatProgressModel",
      "state": {
       "layout": "IPY_MODEL_198303638d6f41079dc0e44adfd91887",
       "max": 198,
       "style": "IPY_MODEL_3e73a93b25c7411dab2dbf4adea17b01",
       "value": 198
      }
     },
     "2b9a4d5b487843408d6d2973b3ae364d": {
      "model_module": "@jupyter-widgets/controls",
      "model_module_version": "2.0.0",
      "model_name": "ProgressStyleModel",
      "state": {
       "description_width": ""
      }
     },
     "2e30d26f7a7e4d9ba1526668b7a42134": {
      "model_module": "@jupyter-widgets/controls",
      "model_module_version": "2.0.0",
      "model_name": "HTMLModel",
      "state": {
       "layout": "IPY_MODEL_3fc613028a9c4517b6d6a1c2e7d42871",
       "style": "IPY_MODEL_a2df445ad12b4967bbe96024d512634e",
       "value": " 198/198 [00:27&lt;00:00,  7.07it/s, W1:3.0 G]"
      }
     },
     "2f7312baa1d2483b8eb34847b9abec46": {
      "model_module": "@jupyter-widgets/controls",
      "model_module_version": "2.0.0",
      "model_name": "HTMLModel",
      "state": {
       "layout": "IPY_MODEL_38e79e0042ef41348f81d28aa396aaea",
       "style": "IPY_MODEL_d1f64044a04547728b67fe14e642d7a0",
       "value": "Epoch: 100%"
      }
     },
     "31121eb23a52417580157c3aab2f47d2": {
      "model_module": "@jupyter-widgets/controls",
      "model_module_version": "2.0.0",
      "model_name": "SelectionSliderModel",
      "state": {
       "_options_labels": [
        "0",
        "1",
        "2",
        "3",
        "4",
        "5",
        "6",
        "7",
        "8",
        "9",
        "10",
        "11",
        "12",
        "13",
        "14",
        "15",
        "16",
        "17",
        "18",
        "19"
       ],
       "behavior": "drag-tap",
       "continuous_update": false,
       "description": "Epoch:",
       "index": 19,
       "layout": "IPY_MODEL_31f7be1aeb454c3abab08aebde46a13e",
       "style": "IPY_MODEL_b79a2986361d4d68b1066f7d474fa890"
      }
     },
     "31935341a9504662b812c3cb4ff875de": {
      "model_module": "@jupyter-widgets/base",
      "model_module_version": "2.0.0",
      "model_name": "LayoutModel",
      "state": {}
     },
     "31f7be1aeb454c3abab08aebde46a13e": {
      "model_module": "@jupyter-widgets/base",
      "model_module_version": "2.0.0",
      "model_name": "LayoutModel",
      "state": {}
     },
     "33fbf3b521dd43b283b62150d41d6c7c": {
      "model_module": "@jupyter-widgets/base",
      "model_module_version": "2.0.0",
      "model_name": "LayoutModel",
      "state": {}
     },
     "37d3d598cf2b4dc3ad60fa6e3724d839": {
      "model_module": "@jupyter-widgets/controls",
      "model_module_version": "2.0.0",
      "model_name": "HTMLModel",
      "state": {
       "layout": "IPY_MODEL_5c65e4390e124da5b58a229081d2a24c",
       "style": "IPY_MODEL_c3cc91fa69e34413acbad390707b4082",
       "value": " 198/198 [00:27&lt;00:00,  6.46it/s, W1:4.9 G]"
      }
     },
     "38c5bfdbb5dd4aeca673b54225889ac8": {
      "model_module": "@jupyter-widgets/controls",
      "model_module_version": "2.0.0",
      "model_name": "HTMLModel",
      "state": {
       "layout": "IPY_MODEL_026fe985d8ca4f0eae5176182e1914ea",
       "style": "IPY_MODEL_a63db6efd2ce4e77ae81c351bdc616e9",
       "value": "Batch: 100%"
      }
     },
     "38e79e0042ef41348f81d28aa396aaea": {
      "model_module": "@jupyter-widgets/base",
      "model_module_version": "2.0.0",
      "model_name": "LayoutModel",
      "state": {}
     },
     "3b755836ccfc4e5889747ec59d618c95": {
      "model_module": "@jupyter-widgets/base",
      "model_module_version": "2.0.0",
      "model_name": "LayoutModel",
      "state": {}
     },
     "3c1ba0a5772648929e41f4c1d72200c5": {
      "model_module": "@jupyter-widgets/controls",
      "model_module_version": "2.0.0",
      "model_name": "FloatProgressModel",
      "state": {
       "layout": "IPY_MODEL_27efa891c0754302b9cde333d6c52cf6",
       "max": 198,
       "style": "IPY_MODEL_2b9a4d5b487843408d6d2973b3ae364d",
       "value": 198
      }
     },
     "3c7bcef407bc478884a638fd47656c43": {
      "model_module": "@jupyter-widgets/base",
      "model_module_version": "2.0.0",
      "model_name": "LayoutModel",
      "state": {
       "visibility": "hidden"
      }
     },
     "3e73a93b25c7411dab2dbf4adea17b01": {
      "model_module": "@jupyter-widgets/controls",
      "model_module_version": "2.0.0",
      "model_name": "ProgressStyleModel",
      "state": {
       "description_width": ""
      }
     },
     "3f5d2aaac213445ab320264e9d40f1d7": {
      "model_module": "@jupyter-widgets/base",
      "model_module_version": "2.0.0",
      "model_name": "LayoutModel",
      "state": {}
     },
     "3fc613028a9c4517b6d6a1c2e7d42871": {
      "model_module": "@jupyter-widgets/base",
      "model_module_version": "2.0.0",
      "model_name": "LayoutModel",
      "state": {}
     },
     "4210b5dea25c44ce9e33c0a32a7d8853": {
      "model_module": "@jupyter-widgets/base",
      "model_module_version": "2.0.0",
      "model_name": "LayoutModel",
      "state": {}
     },
     "4300b1582c5d4baca409cca846b28e06": {
      "model_module": "@jupyter-widgets/controls",
      "model_module_version": "2.0.0",
      "model_name": "HTMLStyleModel",
      "state": {
       "description_width": "",
       "font_size": null,
       "text_color": null
      }
     },
     "440f2d7b43764f789525609f98c63f84": {
      "model_module": "@jupyter-widgets/base",
      "model_module_version": "2.0.0",
      "model_name": "LayoutModel",
      "state": {}
     },
     "44e3084f33e440c0b9d768cda24428e3": {
      "model_module": "@jupyter-widgets/controls",
      "model_module_version": "2.0.0",
      "model_name": "HTMLModel",
      "state": {
       "layout": "IPY_MODEL_55dca611a21c40bda82c7bb5fce29447",
       "style": "IPY_MODEL_4300b1582c5d4baca409cca846b28e06",
       "value": " 198/198 [00:27&lt;00:00,  7.60it/s, W1:6.8 G]"
      }
     },
     "45ed5e1b051d44fd8c509246f6ec2646": {
      "model_module": "@jupyter-widgets/controls",
      "model_module_version": "2.0.0",
      "model_name": "ProgressStyleModel",
      "state": {
       "description_width": ""
      }
     },
     "479b8620a25e4c27822564e1eb5f8645": {
      "model_module": "@jupyter-widgets/base",
      "model_module_version": "2.0.0",
      "model_name": "LayoutModel",
      "state": {}
     },
     "4902c6a2e8d7408e8e9f818f97cc1450": {
      "model_module": "@jupyter-widgets/controls",
      "model_module_version": "2.0.0",
      "model_name": "ProgressStyleModel",
      "state": {
       "description_width": ""
      }
     },
     "4930ba6e83da40d991bcb3771bbe3760": {
      "model_module": "@jupyter-widgets/base",
      "model_module_version": "2.0.0",
      "model_name": "LayoutModel",
      "state": {}
     },
     "4a858d3ee58348f98b6ec66daa88e972": {
      "model_module": "@jupyter-widgets/controls",
      "model_module_version": "2.0.0",
      "model_name": "HTMLStyleModel",
      "state": {
       "description_width": "",
       "font_size": null,
       "text_color": null
      }
     },
     "4acfbc7ffc854d6f8dad063177eaa96a": {
      "model_module": "@jupyter-widgets/base",
      "model_module_version": "2.0.0",
      "model_name": "LayoutModel",
      "state": {
       "visibility": "hidden"
      }
     },
     "4c59d1a94be44a0c876907f15c9cd6a7": {
      "model_module": "@jupyter-widgets/controls",
      "model_module_version": "2.0.0",
      "model_name": "HTMLModel",
      "state": {
       "layout": "IPY_MODEL_1617726c8ccd4b93b9d2ccc9503f2fec",
       "style": "IPY_MODEL_5123b50c41e446188d545b12845b26b2",
       "value": " 198/198 [00:29&lt;00:00,  4.47it/s, W1:2.1 G]"
      }
     },
     "4cb92f1435604ef8ad10000efa649d1a": {
      "model_module": "@jupyter-widgets/base",
      "model_module_version": "2.0.0",
      "model_name": "LayoutModel",
      "state": {
       "visibility": "hidden"
      }
     },
     "4ce7983f6a3d4752a86cfbd40271009d": {
      "model_module": "@jupyter-widgets/controls",
      "model_module_version": "2.0.0",
      "model_name": "HTMLStyleModel",
      "state": {
       "description_width": "",
       "font_size": null,
       "text_color": null
      }
     },
     "4e6871c0ff7f48049a52eff9186b2d20": {
      "model_module": "@jupyter-widgets/controls",
      "model_module_version": "2.0.0",
      "model_name": "ProgressStyleModel",
      "state": {
       "description_width": ""
      }
     },
     "4ef989d6af1148aca44e19216b0abcc9": {
      "model_module": "@jupyter-widgets/base",
      "model_module_version": "2.0.0",
      "model_name": "LayoutModel",
      "state": {
       "visibility": "hidden"
      }
     },
     "50ef6cb875df45e59a67b39ee875e2d9": {
      "model_module": "@jupyter-widgets/controls",
      "model_module_version": "2.0.0",
      "model_name": "HTMLStyleModel",
      "state": {
       "description_width": "",
       "font_size": null,
       "text_color": null
      }
     },
     "5123b50c41e446188d545b12845b26b2": {
      "model_module": "@jupyter-widgets/controls",
      "model_module_version": "2.0.0",
      "model_name": "HTMLStyleModel",
      "state": {
       "description_width": "",
       "font_size": null,
       "text_color": null
      }
     },
     "51510cd8da404e299769ac227180f0a1": {
      "model_module": "@jupyter-widgets/base",
      "model_module_version": "2.0.0",
      "model_name": "LayoutModel",
      "state": {}
     },
     "517500a8d45343fb80f3e294d2797867": {
      "model_module": "@jupyter-widgets/base",
      "model_module_version": "2.0.0",
      "model_name": "LayoutModel",
      "state": {}
     },
     "52c47734a3ac4182b1b9089f83b26a65": {
      "model_module": "@jupyter-widgets/controls",
      "model_module_version": "2.0.0",
      "model_name": "HTMLStyleModel",
      "state": {
       "description_width": "",
       "font_size": null,
       "text_color": null
      }
     },
     "52c7457e5d4f4a5782b0901915e87744": {
      "model_module": "@jupyter-widgets/controls",
      "model_module_version": "2.0.0",
      "model_name": "HTMLStyleModel",
      "state": {
       "description_width": "",
       "font_size": null,
       "text_color": null
      }
     },
     "55dca611a21c40bda82c7bb5fce29447": {
      "model_module": "@jupyter-widgets/base",
      "model_module_version": "2.0.0",
      "model_name": "LayoutModel",
      "state": {}
     },
     "5684e54473aa494db90c3052654ebb58": {
      "model_module": "@jupyter-widgets/controls",
      "model_module_version": "2.0.0",
      "model_name": "FloatProgressModel",
      "state": {
       "layout": "IPY_MODEL_4210b5dea25c44ce9e33c0a32a7d8853",
       "max": 198,
       "style": "IPY_MODEL_c638eb8c3d79449990d8953151a7ef7c",
       "value": 198
      }
     },
     "56d85acea7674ba18b2611e45fffe63e": {
      "model_module": "@jupyter-widgets/controls",
      "model_module_version": "2.0.0",
      "model_name": "HTMLModel",
      "state": {
       "layout": "IPY_MODEL_71020fb7e7f34daf9050d808832fce82",
       "style": "IPY_MODEL_aa7f36cbe8194382b08e22ac4f279677",
       "value": "Batch: 100%"
      }
     },
     "576d805be5c64d67ad163f631140bdf1": {
      "model_module": "@jupyter-widgets/controls",
      "model_module_version": "2.0.0",
      "model_name": "ProgressStyleModel",
      "state": {
       "description_width": ""
      }
     },
     "584fb486bac14fb2a3c6e2ea00c51b29": {
      "model_module": "@jupyter-widgets/controls",
      "model_module_version": "2.0.0",
      "model_name": "HTMLStyleModel",
      "state": {
       "description_width": "",
       "font_size": null,
       "text_color": null
      }
     },
     "589a9c1efe9b4223803d1b59ff80fd81": {
      "model_module": "@jupyter-widgets/base",
      "model_module_version": "2.0.0",
      "model_name": "LayoutModel",
      "state": {}
     },
     "5aa86489887a43e4b01ff2c9d2f1b6da": {
      "model_module": "@jupyter-widgets/base",
      "model_module_version": "2.0.0",
      "model_name": "LayoutModel",
      "state": {}
     },
     "5c65e4390e124da5b58a229081d2a24c": {
      "model_module": "@jupyter-widgets/base",
      "model_module_version": "2.0.0",
      "model_name": "LayoutModel",
      "state": {}
     },
     "5df997785c01448eb591dc92dcabe491": {
      "model_module": "@jupyter-widgets/base",
      "model_module_version": "2.0.0",
      "model_name": "LayoutModel",
      "state": {
       "visibility": "hidden"
      }
     },
     "6063bc2d7dd841939a52f26413782e44": {
      "model_module": "@jupyter-widgets/controls",
      "model_module_version": "2.0.0",
      "model_name": "FloatProgressModel",
      "state": {
       "layout": "IPY_MODEL_0078da1d5dd44dadae60d64f32a7bfef",
       "max": 198,
       "style": "IPY_MODEL_88bc6ffe11e341abb77feeaef4119df7",
       "value": 198
      }
     },
     "607344176a104a9193662c3f011fe943": {
      "model_module": "@jupyter-widgets/controls",
      "model_module_version": "2.0.0",
      "model_name": "HTMLModel",
      "state": {
       "layout": "IPY_MODEL_f25740428c8d496092a51210d4e742a1",
       "style": "IPY_MODEL_b88c19bcd5824e128c9d62adf478a38c",
       "value": " 20/20 [09:16&lt;00:00, 28.36s/it]"
      }
     },
     "625a6e8d46744e77bc18b9dee1b3a9e9": {
      "model_module": "@jupyter-widgets/controls",
      "model_module_version": "2.0.0",
      "model_name": "ProgressStyleModel",
      "state": {
       "description_width": ""
      }
     },
     "641fed38576a410486071e8f71a9550a": {
      "model_module": "@jupyter-widgets/controls",
      "model_module_version": "2.0.0",
      "model_name": "HTMLStyleModel",
      "state": {
       "description_width": "",
       "font_size": null,
       "text_color": null
      }
     },
     "66346b45d1d94776b81e6fa577138792": {
      "model_module": "@jupyter-widgets/controls",
      "model_module_version": "2.0.0",
      "model_name": "ProgressStyleModel",
      "state": {
       "description_width": ""
      }
     },
     "670ebd9089274837803fa5b71c8d45b2": {
      "model_module": "@jupyter-widgets/base",
      "model_module_version": "2.0.0",
      "model_name": "LayoutModel",
      "state": {}
     },
     "6717f6d06ed248bd9036f04edf02733e": {
      "model_module": "@jupyter-widgets/base",
      "model_module_version": "2.0.0",
      "model_name": "LayoutModel",
      "state": {
       "visibility": "hidden"
      }
     },
     "6a889b39365341f4a04a020de2a11c67": {
      "model_module": "@jupyter-widgets/controls",
      "model_module_version": "2.0.0",
      "model_name": "HTMLModel",
      "state": {
       "layout": "IPY_MODEL_a0b7073bd39b46b09dbb04605f3ca412",
       "style": "IPY_MODEL_e8d3d8865d0d47039b1241130b51d6f6",
       "value": "Batch: 100%"
      }
     },
     "6baaf405ddf54938bda6f7a0d2db5863": {
      "model_module": "@jupyter-widgets/base",
      "model_module_version": "2.0.0",
      "model_name": "LayoutModel",
      "state": {}
     },
     "6cdde0c15c8041cd93814c79bc7aef56": {
      "model_module": "@jupyter-widgets/controls",
      "model_module_version": "2.0.0",
      "model_name": "HTMLModel",
      "state": {
       "layout": "IPY_MODEL_5aa86489887a43e4b01ff2c9d2f1b6da",
       "style": "IPY_MODEL_abbc827a05f04bbcac50dfba9c7e83a7",
       "value": " 198/198 [00:27&lt;00:00,  8.06it/s, W1:4.3 G]"
      }
     },
     "6effdcca386b4f3abaddd08c9b93ece3": {
      "model_module": "@jupyter-widgets/controls",
      "model_module_version": "2.0.0",
      "model_name": "HTMLModel",
      "state": {
       "layout": "IPY_MODEL_0c4dc20dd7a54c28b8eb9e550366b2f4",
       "style": "IPY_MODEL_8742347408e3413b88640386747fdefa",
       "value": "Batch: 100%"
      }
     },
     "702833b5b86d4732affc1417e6bc46ee": {
      "model_module": "@jupyter-widgets/controls",
      "model_module_version": "2.0.0",
      "model_name": "HTMLModel",
      "state": {
       "layout": "IPY_MODEL_c218427b659c4102a2df23609a08f26d",
       "style": "IPY_MODEL_da112483152f4add885d1a194d49b1be",
       "value": "Batch: 100%"
      }
     },
     "71020fb7e7f34daf9050d808832fce82": {
      "model_module": "@jupyter-widgets/base",
      "model_module_version": "2.0.0",
      "model_name": "LayoutModel",
      "state": {}
     },
     "754e6067bb6142cda9bebe195cb0f5f8": {
      "model_module": "@jupyter-widgets/controls",
      "model_module_version": "2.0.0",
      "model_name": "FloatProgressModel",
      "state": {
       "layout": "IPY_MODEL_1db4296b61f14bd4979c74bf113b5821",
       "max": 198,
       "style": "IPY_MODEL_4e6871c0ff7f48049a52eff9186b2d20",
       "value": 198
      }
     },
     "770765a8ed96404685c88d5fef62c112": {
      "model_module": "@jupyter-widgets/controls",
      "model_module_version": "2.0.0",
      "model_name": "ProgressStyleModel",
      "state": {
       "description_width": ""
      }
     },
     "770c8e7c05f74fe8a7b4f62ee1df9145": {
      "model_module": "@jupyter-widgets/base",
      "model_module_version": "2.0.0",
      "model_name": "LayoutModel",
      "state": {}
     },
     "7ec62cca52b340a5a5275dddfdc2f73c": {
      "model_module": "@jupyter-widgets/base",
      "model_module_version": "2.0.0",
      "model_name": "LayoutModel",
      "state": {
       "visibility": "hidden"
      }
     },
     "82643cc6cebb407d95b4074bed2f6085": {
      "model_module": "@jupyter-widgets/base",
      "model_module_version": "2.0.0",
      "model_name": "LayoutModel",
      "state": {
       "visibility": "hidden"
      }
     },
     "83baf140334e43599c694aa5b971064e": {
      "model_module": "@jupyter-widgets/base",
      "model_module_version": "2.0.0",
      "model_name": "LayoutModel",
      "state": {
       "visibility": "hidden"
      }
     },
     "8700d1331fe740398956cd64872f251b": {
      "model_module": "@jupyter-widgets/controls",
      "model_module_version": "2.0.0",
      "model_name": "HTMLModel",
      "state": {
       "layout": "IPY_MODEL_ad9cd4eccb1442a4beec176f1d0e5145",
       "style": "IPY_MODEL_c11e314076a24cef8a62f3b171369b1d",
       "value": "Batch: 100%"
      }
     },
     "8742347408e3413b88640386747fdefa": {
      "model_module": "@jupyter-widgets/controls",
      "model_module_version": "2.0.0",
      "model_name": "HTMLStyleModel",
      "state": {
       "description_width": "",
       "font_size": null,
       "text_color": null
      }
     },
     "87a3cb384b53460aabf2989d0faab517": {
      "model_module": "@jupyter-widgets/controls",
      "model_module_version": "2.0.0",
      "model_name": "ProgressStyleModel",
      "state": {
       "description_width": ""
      }
     },
     "88bc6ffe11e341abb77feeaef4119df7": {
      "model_module": "@jupyter-widgets/controls",
      "model_module_version": "2.0.0",
      "model_name": "ProgressStyleModel",
      "state": {
       "description_width": ""
      }
     },
     "894e07558d93495f9ec3e8e42732ddf5": {
      "model_module": "@jupyter-widgets/controls",
      "model_module_version": "2.0.0",
      "model_name": "HTMLModel",
      "state": {
       "layout": "IPY_MODEL_3f5d2aaac213445ab320264e9d40f1d7",
       "style": "IPY_MODEL_aced5ab93da943378f4839c0aac5eab9",
       "value": " 198/198 [00:30&lt;00:00,  7.61it/s, W1:3.9 G]"
      }
     },
     "8976383e5064412794ece2bf70015202": {
      "model_module": "@jupyter-widgets/controls",
      "model_module_version": "2.0.0",
      "model_name": "HTMLStyleModel",
      "state": {
       "description_width": "",
       "font_size": null,
       "text_color": null
      }
     },
     "8b1eefeaa18e4d46b5849b57c06bad60": {
      "model_module": "@jupyter-widgets/controls",
      "model_module_version": "2.0.0",
      "model_name": "HTMLStyleModel",
      "state": {
       "description_width": "",
       "font_size": null,
       "text_color": null
      }
     },
     "8bc117307c384fd4bb971c799dff8a94": {
      "model_module": "@jupyter-widgets/base",
      "model_module_version": "2.0.0",
      "model_name": "LayoutModel",
      "state": {}
     },
     "8d0c861ac99e4a688841904effc5a331": {
      "model_module": "@jupyter-widgets/controls",
      "model_module_version": "2.0.0",
      "model_name": "FloatProgressModel",
      "state": {
       "layout": "IPY_MODEL_9eb5d823367044419143d7c88aabc5b4",
       "max": 198,
       "style": "IPY_MODEL_625a6e8d46744e77bc18b9dee1b3a9e9",
       "value": 198
      }
     },
     "8daba0fd4b5b41dda4b2fbeb39b243b8": {
      "model_module": "@jupyter-widgets/controls",
      "model_module_version": "2.0.0",
      "model_name": "HTMLModel",
      "state": {
       "layout": "IPY_MODEL_ff57a4e5d5bb402f855be73614828dd2",
       "style": "IPY_MODEL_c124b24b80034643b74f52427561674f",
       "value": " 198/198 [00:26&lt;00:00,  7.76it/s, W1:5.4 G]"
      }
     },
     "8fcf4967be354f88a842566f5bf7e506": {
      "model_module": "@jupyter-widgets/controls",
      "model_module_version": "2.0.0",
      "model_name": "ProgressStyleModel",
      "state": {
       "description_width": ""
      }
     },
     "9039f943743c4291a53813cc81b17285": {
      "model_module": "@jupyter-widgets/controls",
      "model_module_version": "2.0.0",
      "model_name": "HTMLModel",
      "state": {
       "layout": "IPY_MODEL_51510cd8da404e299769ac227180f0a1",
       "style": "IPY_MODEL_52c7457e5d4f4a5782b0901915e87744",
       "value": " 198/198 [00:28&lt;00:00,  7.45it/s, W1:1.3e+01 G]"
      }
     },
     "9075bc1e9ea644daa124a4804bd92b01": {
      "model_module": "@jupyter-widgets/base",
      "model_module_version": "2.0.0",
      "model_name": "LayoutModel",
      "state": {}
     },
     "9228f557dfac4c4a8cd78cfd7eee480c": {
      "model_module": "@jupyter-widgets/controls",
      "model_module_version": "2.0.0",
      "model_name": "HTMLModel",
      "state": {
       "layout": "IPY_MODEL_27d0ae86f82546aeaea831fe8356e193",
       "style": "IPY_MODEL_161f48c3a7f84e92a585bb6bffa183c1",
       "value": "Batch: 100%"
      }
     },
     "92e58333789148cb96d7b0d4c4bfe605": {
      "model_module": "@jupyter-widgets/controls",
      "model_module_version": "2.0.0",
      "model_name": "HTMLModel",
      "state": {
       "layout": "IPY_MODEL_a5504f6d258248d3a3dfe78b186817d8",
       "style": "IPY_MODEL_e208083af7604d379a2dc7b46b0bdebf",
       "value": "Batch: 100%"
      }
     },
     "94ce225d67ea431f9d2655d65fb89cd9": {
      "model_module": "@jupyter-widgets/controls",
      "model_module_version": "2.0.0",
      "model_name": "HTMLModel",
      "state": {
       "layout": "IPY_MODEL_e461afe40f6c40a6883331507395ad0c",
       "style": "IPY_MODEL_4ce7983f6a3d4752a86cfbd40271009d",
       "value": "Batch: 100%"
      }
     },
     "95cf4c79c79e4e8db42be8738f1539a4": {
      "model_module": "@jupyter-widgets/controls",
      "model_module_version": "2.0.0",
      "model_name": "FloatProgressModel",
      "state": {
       "layout": "IPY_MODEL_440f2d7b43764f789525609f98c63f84",
       "max": 198,
       "style": "IPY_MODEL_770765a8ed96404685c88d5fef62c112",
       "value": 198
      }
     },
     "95e4da9722c24270855f9491ef433c6b": {
      "model_module": "@jupyter-widgets/base",
      "model_module_version": "2.0.0",
      "model_name": "LayoutModel",
      "state": {
       "visibility": "hidden"
      }
     },
     "964967ea6bc94fb18c0c64ce81b5940f": {
      "model_module": "@jupyter-widgets/controls",
      "model_module_version": "2.0.0",
      "model_name": "FloatProgressModel",
      "state": {
       "layout": "IPY_MODEL_517500a8d45343fb80f3e294d2797867",
       "max": 198,
       "style": "IPY_MODEL_e030d0bae3884b04bc00bbfde40e7b38",
       "value": 198
      }
     },
     "9a3abd9251494aa19f02761df4e412a6": {
      "model_module": "@jupyter-widgets/controls",
      "model_module_version": "2.0.0",
      "model_name": "HTMLModel",
      "state": {
       "layout": "IPY_MODEL_fc5dfb02a17d4147a06ac05b0c61160d",
       "style": "IPY_MODEL_9f6e16b43458431cb2ccbd3363d22cf6",
       "value": "Batch: 100%"
      }
     },
     "9b1edef1c5bb4f03b05308627afedc2d": {
      "model_module": "@jupyter-widgets/controls",
      "model_module_version": "2.0.0",
      "model_name": "HTMLStyleModel",
      "state": {
       "description_width": "",
       "font_size": null,
       "text_color": null
      }
     },
     "9bc634d8cd8c4e6bb3040a575af352ea": {
      "model_module": "@jupyter-widgets/base",
      "model_module_version": "2.0.0",
      "model_name": "LayoutModel",
      "state": {}
     },
     "9c49c17c26464803a05c5b4cb68aef5b": {
      "model_module": "@jupyter-widgets/base",
      "model_module_version": "2.0.0",
      "model_name": "LayoutModel",
      "state": {
       "visibility": "hidden"
      }
     },
     "9e67ba894d4745ffbf29177e4f1c39f8": {
      "model_module": "@jupyter-widgets/controls",
      "model_module_version": "2.0.0",
      "model_name": "HTMLStyleModel",
      "state": {
       "description_width": "",
       "font_size": null,
       "text_color": null
      }
     },
     "9eb5d823367044419143d7c88aabc5b4": {
      "model_module": "@jupyter-widgets/base",
      "model_module_version": "2.0.0",
      "model_name": "LayoutModel",
      "state": {}
     },
     "9f1d1defeb9448069d774ce5df31e91c": {
      "model_module": "@jupyter-widgets/controls",
      "model_module_version": "2.0.0",
      "model_name": "HTMLModel",
      "state": {
       "layout": "IPY_MODEL_ec400ed068444e57873f7519723d2a9c",
       "style": "IPY_MODEL_af8be082095249b080e299d8a4b0c5cd",
       "value": "Batch: 100%"
      }
     },
     "9f1f3fba65f44036b9ec1326b4ded066": {
      "model_module": "@jupyter-widgets/controls",
      "model_module_version": "2.0.0",
      "model_name": "FloatProgressModel",
      "state": {
       "layout": "IPY_MODEL_3b755836ccfc4e5889747ec59d618c95",
       "max": 198,
       "style": "IPY_MODEL_87a3cb384b53460aabf2989d0faab517",
       "value": 198
      }
     },
     "9f6e16b43458431cb2ccbd3363d22cf6": {
      "model_module": "@jupyter-widgets/controls",
      "model_module_version": "2.0.0",
      "model_name": "HTMLStyleModel",
      "state": {
       "description_width": "",
       "font_size": null,
       "text_color": null
      }
     },
     "a0b7073bd39b46b09dbb04605f3ca412": {
      "model_module": "@jupyter-widgets/base",
      "model_module_version": "2.0.0",
      "model_name": "LayoutModel",
      "state": {}
     },
     "a0e0327a0a2b4b59881b56cbbc7bbed6": {
      "model_module": "@jupyter-widgets/controls",
      "model_module_version": "2.0.0",
      "model_name": "VBoxModel",
      "state": {
       "_dom_classes": [
        "widget-interact"
       ],
       "children": [
        "IPY_MODEL_31121eb23a52417580157c3aab2f47d2",
        "IPY_MODEL_d75fd819619743ce9dd267e1676a9e21"
       ],
       "layout": "IPY_MODEL_16775e893a5f4239a1a57a406c328f15"
      }
     },
     "a166cbf47fed420f9f9c7bc7fdc04c76": {
      "model_module": "@jupyter-widgets/controls",
      "model_module_version": "2.0.0",
      "model_name": "HTMLModel",
      "state": {
       "layout": "IPY_MODEL_09f094f34c6b4e0499a59279922ddf09",
       "style": "IPY_MODEL_50ef6cb875df45e59a67b39ee875e2d9",
       "value": "Batch: 100%"
      }
     },
     "a2a7aa7f36c24a7f8a6875bfdb77877f": {
      "model_module": "@jupyter-widgets/base",
      "model_module_version": "2.0.0",
      "model_name": "LayoutModel",
      "state": {}
     },
     "a2df445ad12b4967bbe96024d512634e": {
      "model_module": "@jupyter-widgets/controls",
      "model_module_version": "2.0.0",
      "model_name": "HTMLStyleModel",
      "state": {
       "description_width": "",
       "font_size": null,
       "text_color": null
      }
     },
     "a3317c81c3ab493db48f1100e81be70e": {
      "model_module": "@jupyter-widgets/base",
      "model_module_version": "2.0.0",
      "model_name": "LayoutModel",
      "state": {
       "visibility": "hidden"
      }
     },
     "a470a4cc96334f7b8868bd83d57364be": {
      "model_module": "@jupyter-widgets/base",
      "model_module_version": "2.0.0",
      "model_name": "LayoutModel",
      "state": {}
     },
     "a5504f6d258248d3a3dfe78b186817d8": {
      "model_module": "@jupyter-widgets/base",
      "model_module_version": "2.0.0",
      "model_name": "LayoutModel",
      "state": {}
     },
     "a63db6efd2ce4e77ae81c351bdc616e9": {
      "model_module": "@jupyter-widgets/controls",
      "model_module_version": "2.0.0",
      "model_name": "HTMLStyleModel",
      "state": {
       "description_width": "",
       "font_size": null,
       "text_color": null
      }
     },
     "a757455dd14a4321920766c553090d20": {
      "model_module": "@jupyter-widgets/controls",
      "model_module_version": "2.0.0",
      "model_name": "HTMLModel",
      "state": {
       "layout": "IPY_MODEL_193dc7aafb324fb1a8c331bb08a76b01",
       "style": "IPY_MODEL_f435fc101a1a44ca8ff391d74f99e018",
       "value": "Batch:  99%"
      }
     },
     "a7da668d108a4d0d81165f24455fadb1": {
      "model_module": "@jupyter-widgets/controls",
      "model_module_version": "2.0.0",
      "model_name": "FloatProgressModel",
      "state": {
       "layout": "IPY_MODEL_bae84dd15e234aa2aa08a610e6dc3405",
       "max": 198,
       "style": "IPY_MODEL_d6da8b2ee54149b293f10e673cfc14fc",
       "value": 198
      }
     },
     "a85fc37ed3084c289085fe949e7db130": {
      "model_module": "@jupyter-widgets/controls",
      "model_module_version": "2.0.0",
      "model_name": "HTMLModel",
      "state": {
       "layout": "IPY_MODEL_c7b57adba7af4e749fed92e85d8a0cde",
       "style": "IPY_MODEL_8b1eefeaa18e4d46b5849b57c06bad60",
       "value": " 198/198 [00:28&lt;00:00,  7.38it/s, W1:5.7 G]"
      }
     },
     "a98058f2622147af87074e07e839681f": {
      "model_module": "@jupyter-widgets/base",
      "model_module_version": "2.0.0",
      "model_name": "LayoutModel",
      "state": {}
     },
     "aa37f6e85afa44f8a6c3523f7a6979cc": {
      "model_module": "@jupyter-widgets/controls",
      "model_module_version": "2.0.0",
      "model_name": "FloatProgressModel",
      "state": {
       "layout": "IPY_MODEL_770c8e7c05f74fe8a7b4f62ee1df9145",
       "max": 198,
       "style": "IPY_MODEL_8fcf4967be354f88a842566f5bf7e506",
       "value": 198
      }
     },
     "aa7f36cbe8194382b08e22ac4f279677": {
      "model_module": "@jupyter-widgets/controls",
      "model_module_version": "2.0.0",
      "model_name": "HTMLStyleModel",
      "state": {
       "description_width": "",
       "font_size": null,
       "text_color": null
      }
     },
     "abbc827a05f04bbcac50dfba9c7e83a7": {
      "model_module": "@jupyter-widgets/controls",
      "model_module_version": "2.0.0",
      "model_name": "HTMLStyleModel",
      "state": {
       "description_width": "",
       "font_size": null,
       "text_color": null
      }
     },
     "acaa0c9601cd4c24951f680bfbab8326": {
      "model_module": "@jupyter-widgets/controls",
      "model_module_version": "2.0.0",
      "model_name": "ProgressStyleModel",
      "state": {
       "description_width": ""
      }
     },
     "aced5ab93da943378f4839c0aac5eab9": {
      "model_module": "@jupyter-widgets/controls",
      "model_module_version": "2.0.0",
      "model_name": "HTMLStyleModel",
      "state": {
       "description_width": "",
       "font_size": null,
       "text_color": null
      }
     },
     "ad9cd4eccb1442a4beec176f1d0e5145": {
      "model_module": "@jupyter-widgets/base",
      "model_module_version": "2.0.0",
      "model_name": "LayoutModel",
      "state": {}
     },
     "adc8ee4fc10642fb85916e1212c38fdc": {
      "model_module": "@jupyter-widgets/controls",
      "model_module_version": "2.0.0",
      "model_name": "HTMLStyleModel",
      "state": {
       "description_width": "",
       "font_size": null,
       "text_color": null
      }
     },
     "af8be082095249b080e299d8a4b0c5cd": {
      "model_module": "@jupyter-widgets/controls",
      "model_module_version": "2.0.0",
      "model_name": "HTMLStyleModel",
      "state": {
       "description_width": "",
       "font_size": null,
       "text_color": null
      }
     },
     "b2a3946dffc24c3197713d52b9e7bf5e": {
      "model_module": "@jupyter-widgets/controls",
      "model_module_version": "2.0.0",
      "model_name": "HTMLModel",
      "state": {
       "layout": "IPY_MODEL_a2a7aa7f36c24a7f8a6875bfdb77877f",
       "style": "IPY_MODEL_4a858d3ee58348f98b6ec66daa88e972",
       "value": " 198/198 [00:25&lt;00:00,  7.41it/s, W1:3.2 G]"
      }
     },
     "b4a2482bb446441f8dcd992ac6ed16ac": {
      "model_module": "@jupyter-widgets/base",
      "model_module_version": "2.0.0",
      "model_name": "LayoutModel",
      "state": {
       "visibility": "hidden"
      }
     },
     "b5d275601bd04b37bbc3b58a0499e793": {
      "model_module": "@jupyter-widgets/controls",
      "model_module_version": "2.0.0",
      "model_name": "HTMLModel",
      "state": {
       "layout": "IPY_MODEL_4930ba6e83da40d991bcb3771bbe3760",
       "style": "IPY_MODEL_ec27a265adc84252b1dfa9f2ac3cb124",
       "value": "Batch: 100%"
      }
     },
     "b76ddfc3ad8944758890b7a709120548": {
      "model_module": "@jupyter-widgets/base",
      "model_module_version": "2.0.0",
      "model_name": "LayoutModel",
      "state": {}
     },
     "b79a2986361d4d68b1066f7d474fa890": {
      "model_module": "@jupyter-widgets/controls",
      "model_module_version": "2.0.0",
      "model_name": "SliderStyleModel",
      "state": {
       "description_width": ""
      }
     },
     "b88c19bcd5824e128c9d62adf478a38c": {
      "model_module": "@jupyter-widgets/controls",
      "model_module_version": "2.0.0",
      "model_name": "HTMLStyleModel",
      "state": {
       "description_width": "",
       "font_size": null,
       "text_color": null
      }
     },
     "b8eecb8fbb1d42c1a0db28b6c9b939af": {
      "model_module": "@jupyter-widgets/controls",
      "model_module_version": "2.0.0",
      "model_name": "HTMLModel",
      "state": {
       "layout": "IPY_MODEL_b9ba1be2b19b4f6f93daaf88888f51dc",
       "style": "IPY_MODEL_e97100b4163d44e9b1433a8d88020383",
       "value": "Batch: 100%"
      }
     },
     "b8fc88f3b46a4ce9b10ad180b8928541": {
      "model_module": "@jupyter-widgets/controls",
      "model_module_version": "2.0.0",
      "model_name": "HTMLModel",
      "state": {
       "layout": "IPY_MODEL_33fbf3b521dd43b283b62150d41d6c7c",
       "style": "IPY_MODEL_adc8ee4fc10642fb85916e1212c38fdc",
       "value": "Batch: 100%"
      }
     },
     "b9ba1be2b19b4f6f93daaf88888f51dc": {
      "model_module": "@jupyter-widgets/base",
      "model_module_version": "2.0.0",
      "model_name": "LayoutModel",
      "state": {}
     },
     "bae84dd15e234aa2aa08a610e6dc3405": {
      "model_module": "@jupyter-widgets/base",
      "model_module_version": "2.0.0",
      "model_name": "LayoutModel",
      "state": {}
     },
     "bce5ee9f9c3f401c88207b3096ba770d": {
      "model_module": "@jupyter-widgets/base",
      "model_module_version": "2.0.0",
      "model_name": "LayoutModel",
      "state": {}
     },
     "bd9bb6ba14a442a994771fd25cb8286f": {
      "model_module": "@jupyter-widgets/controls",
      "model_module_version": "2.0.0",
      "model_name": "FloatProgressModel",
      "state": {
       "layout": "IPY_MODEL_589a9c1efe9b4223803d1b59ff80fd81",
       "max": 198,
       "style": "IPY_MODEL_ec4e5569f72544cdba1cce3e64cd4a39",
       "value": 198
      }
     },
     "be33a008a10a41649fb65cdac60fd093": {
      "model_module": "@jupyter-widgets/controls",
      "model_module_version": "2.0.0",
      "model_name": "HTMLModel",
      "state": {
       "layout": "IPY_MODEL_479b8620a25e4c27822564e1eb5f8645",
       "style": "IPY_MODEL_0e7e4434482d440d88952895f0f43009",
       "value": " 198/198 [00:28&lt;00:00,  7.63it/s, W1:5.9 G]"
      }
     },
     "bfa94cc4c2cb45aa8719fa290001300d": {
      "model_module": "@jupyter-widgets/base",
      "model_module_version": "2.0.0",
      "model_name": "LayoutModel",
      "state": {}
     },
     "c11e314076a24cef8a62f3b171369b1d": {
      "model_module": "@jupyter-widgets/controls",
      "model_module_version": "2.0.0",
      "model_name": "HTMLStyleModel",
      "state": {
       "description_width": "",
       "font_size": null,
       "text_color": null
      }
     },
     "c124b24b80034643b74f52427561674f": {
      "model_module": "@jupyter-widgets/controls",
      "model_module_version": "2.0.0",
      "model_name": "HTMLStyleModel",
      "state": {
       "description_width": "",
       "font_size": null,
       "text_color": null
      }
     },
     "c218427b659c4102a2df23609a08f26d": {
      "model_module": "@jupyter-widgets/base",
      "model_module_version": "2.0.0",
      "model_name": "LayoutModel",
      "state": {}
     },
     "c2b1bc25b79f4b9688d99d11692def2b": {
      "model_module": "@jupyter-widgets/controls",
      "model_module_version": "2.0.0",
      "model_name": "FloatProgressModel",
      "state": {
       "layout": "IPY_MODEL_31935341a9504662b812c3cb4ff875de",
       "max": 198,
       "style": "IPY_MODEL_f0ff2239da0b4ac98617def24111e9df",
       "value": 198
      }
     },
     "c36fe6b700924709a50b3f627ba22f97": {
      "model_module": "@jupyter-widgets/controls",
      "model_module_version": "2.0.0",
      "model_name": "HTMLStyleModel",
      "state": {
       "description_width": "",
       "font_size": null,
       "text_color": null
      }
     },
     "c3cc91fa69e34413acbad390707b4082": {
      "model_module": "@jupyter-widgets/controls",
      "model_module_version": "2.0.0",
      "model_name": "HTMLStyleModel",
      "state": {
       "description_width": "",
       "font_size": null,
       "text_color": null
      }
     },
     "c5023889ed4e467294b8695df089ff49": {
      "model_module": "@jupyter-widgets/controls",
      "model_module_version": "2.0.0",
      "model_name": "HTMLModel",
      "state": {
       "layout": "IPY_MODEL_d2de228ee9ea44ee8147453ed58d6802",
       "style": "IPY_MODEL_9e67ba894d4745ffbf29177e4f1c39f8",
       "value": "Batch: 100%"
      }
     },
     "c638eb8c3d79449990d8953151a7ef7c": {
      "model_module": "@jupyter-widgets/controls",
      "model_module_version": "2.0.0",
      "model_name": "ProgressStyleModel",
      "state": {
       "description_width": ""
      }
     },
     "c6a62aa28bcc4e59a7af149c1c59ed6d": {
      "model_module": "@jupyter-widgets/controls",
      "model_module_version": "2.0.0",
      "model_name": "HTMLModel",
      "state": {
       "layout": "IPY_MODEL_d8918086d84b4e059c1a7776c5093b5d",
       "style": "IPY_MODEL_52c47734a3ac4182b1b9089f83b26a65",
       "value": " 198/198 [00:29&lt;00:00,  7.82it/s, W1:2.7 G]"
      }
     },
     "c7b57adba7af4e749fed92e85d8a0cde": {
      "model_module": "@jupyter-widgets/base",
      "model_module_version": "2.0.0",
      "model_name": "LayoutModel",
      "state": {}
     },
     "caed1f53408c41678bde6755fa93d9eb": {
      "model_module": "@jupyter-widgets/base",
      "model_module_version": "2.0.0",
      "model_name": "LayoutModel",
      "state": {}
     },
     "cf7d11df794843d4a2092f656bc09715": {
      "model_module": "@jupyter-widgets/controls",
      "model_module_version": "2.0.0",
      "model_name": "HTMLModel",
      "state": {
       "layout": "IPY_MODEL_2996aeb5579e46768f49a8d70b8f7610",
       "style": "IPY_MODEL_9b1edef1c5bb4f03b05308627afedc2d",
       "value": "Batch: 100%"
      }
     },
     "d057efe9b7ee4f638bf5ae0f6b8a349a": {
      "model_module": "@jupyter-widgets/base",
      "model_module_version": "2.0.0",
      "model_name": "LayoutModel",
      "state": {
       "visibility": "hidden"
      }
     },
     "d1f64044a04547728b67fe14e642d7a0": {
      "model_module": "@jupyter-widgets/controls",
      "model_module_version": "2.0.0",
      "model_name": "HTMLStyleModel",
      "state": {
       "description_width": "",
       "font_size": null,
       "text_color": null
      }
     },
     "d2de228ee9ea44ee8147453ed58d6802": {
      "model_module": "@jupyter-widgets/base",
      "model_module_version": "2.0.0",
      "model_name": "LayoutModel",
      "state": {}
     },
     "d2f7675e0cd54bb49cf27d75ec485ab7": {
      "model_module": "@jupyter-widgets/base",
      "model_module_version": "2.0.0",
      "model_name": "LayoutModel",
      "state": {}
     },
     "d3259f771b5f4d4db965e1b28dff8e69": {
      "model_module": "@jupyter-widgets/controls",
      "model_module_version": "2.0.0",
      "model_name": "FloatProgressModel",
      "state": {
       "layout": "IPY_MODEL_a470a4cc96334f7b8868bd83d57364be",
       "max": 198,
       "style": "IPY_MODEL_e8433f6f9fa64b648d708816d202adb1",
       "value": 198
      }
     },
     "d5d075825c1e4b9fbef1070f999aa0fb": {
      "model_module": "@jupyter-widgets/base",
      "model_module_version": "2.0.0",
      "model_name": "LayoutModel",
      "state": {}
     },
     "d68fe53a9f2a426b9af2b31f88169c86": {
      "model_module": "@jupyter-widgets/base",
      "model_module_version": "2.0.0",
      "model_name": "LayoutModel",
      "state": {}
     },
     "d6da8b2ee54149b293f10e673cfc14fc": {
      "model_module": "@jupyter-widgets/controls",
      "model_module_version": "2.0.0",
      "model_name": "ProgressStyleModel",
      "state": {
       "description_width": ""
      }
     },
     "d75fd819619743ce9dd267e1676a9e21": {
      "model_module": "@jupyter-widgets/output",
      "model_module_version": "1.0.0",
      "model_name": "OutputModel",
      "state": {
       "layout": "IPY_MODEL_a98058f2622147af87074e07e839681f",
       "outputs": [
        {
         "data": {
          "image/png": "iVBORw0KGgoAAAANSUhEUgAAAS4AAAEuCAIAAAC/ImgUAACiz0lEQVR4nOxdd3wU1fbfOzNbspveQxI6hCK9V+lVBBR4oCgoiICCwEOaBQug9CJdQaT3XkRKSCAgLQklCem97262785O2d8f5zkvvzQ2MxOfvrffP/xgsjlz984t5557zvcrkbjgggsuuOCCCy8HQug/3YS/KBBCwjsHIYRhmKuTXQBg/+kG/C3hcDgIghBoBMMwDHP1vwv/gmso8AGGYe7u7gI3NIfDIZfLXbvifyVcr7UK4Dguer907tz54sWLcrmctwWEkFQqVSqVOI47+SdSqVQqlfJ+YuUG+Pj4CN/bq8T/uOPt6+urVCr/062oPRBC27Zte/ToUXBwcF3Y37BhQ3R0tEKhEMtggwYNrFarw+GgKIr3UJZKpTiOO+Og4ji+bt06jUbDMMxvv/3m7u7O74kVnj5v3rxDhw7VxVQMDg6+efPmmTNn/o7ut0A/BSEUHh7OsixFUcOGDROxYS+BUqkMCQkR0uM4jvfs2ZOmabvdfu3atY4dO4q48AOWL19OkmS/fv1EsYZh2N27d+12u8PhYFn2+vXrMpmsVhYg5OPu7i6TyV7adatWrTp79izDMCRJMgzz7rvv8hso8Fcw+UeNGnXkyBG73V5WVjZz5kwRZyOGYa+//rrdbmdZlmXZBg0aiGIWISSTycaMGZOZmRkbGxsbGxscHCz6rksQRE5OzpMnT7p27crbeOvWrVeuXMkwjMViGTJkiLgtlEgkEhzHZTIZeHrQSgzDVCrVwYMH09LSunfvzrvpU6dOVavVFoslPT09KytLo9EsXry4Y8eO9erVc95zqxkjRoygafr7778XbgohFBgYaDKZGIaBqciy7LZt22r19aEPZTIZRFBr+KRUKtVoNDRNm0ymf/7zn2FhYbz7GcMwqVTq5+c3YsSIsrIyiqJYlmUYJjc3t1evXmIFhKdOnUqSJHSLw+HYtGmTQJsSiYQgiC+//NJqtbJ/gKbp4uLiSZMmNWrUSKyNFyH08ccfMwxjMBj4+R0IIV9f32fPntlsNq1We+TIkUGDBqlUKlGa9y+4u7sPGzbs7t27ZrPZarUWFxdv2bJl69atZ86cKS0ttdvtWVlZvXr14tH0oUOH5ufnazSaM2fOdO7cOSQk5KOPPrJarSRJlpWVxcTEjBw5MiAgQOA+OWfOHIvFcvXqVSFGAJ6envHx8SUlJUuWLLl48SIMOJIkeWwsMPRrmAAIoYEDB9psNrvd3qdPH0Ht/mNjeffdd+Pj42mapijKbrdTFGU0GouKikaNGhUUFCRkWCOEPvroI4PBADOcpmmr1Xrz5k2BW66vr++ePXssFgt0NcMwnH1YUAoLC5s2bSp8HfH29n78+LHFYiksLOSxByCEevXqlZqaSpJkTk7OwYMHt27dOnDgwKlTp9bWaaoWAQEBBoNBp9Nx+4DdbrfZbEaj0W630zQNq9SxY8dq2+l+fn6lpaVFRUXbt2/nuhIh9OqrrxYWFhYWFtI0TdN0VlZW+/bt3dzceH+FlStXms3mbdu28bYA8Pb2PnHixKuvvgq7mVwuLy0thXX6/v37Ao1XBkEQeXl5ZrN53rx5wq0hhPr27Xv37l3wda1Wa1xcXG5uLrxBu92elpbG2w1RqVRff/017IcOh8NisZjNZoqiLBZL06ZNebfZ29s7JycH9kOHw8G5IZwDDGMvNjbW19eX91MkEgmGYTt37rRardnZ2TwCFhiGNWrUqKysjCTJ27dvQzxPKpUSBNGqVas2bdqsXLlSaOzQy8srKyvLarUaDIbdu3ffvn176dKlY8eOffvtt7Ozs3NzcxmGYRjGZrONGjWqVi8Sw7C8vDyNRvP48eMKTXR3dx8zZszUqVOTkpJIkrTZbLdu3fLx8eH9LXr06GG32+/cuSPQmZHJZOXDYhiGxcXFwYDQ6XS1tQaNqeH17N+/3263p6eni3J4dnNzu379Ohw4LRbL06dPp02b9vbbb6enp8NXyMzM5DcKJ02alJycDCOBpmmGYfR6fXp6usFgYBgmIyOD3xCUyWRfffWVyWSC5lEUxTAMRVF6vT4pKenp06cajcZqtTIMk5KS0r17dx6P4KBQKHQ6ndFoPHv2LI9B4uHhcfjwYZZlHz58OG3aNH9/fy6AjGHYmDFjLBaLzWbT6/U8fQS5XH7mzBlYRDdu3BgUFMTF7jEMW7VqFUwVkiTtdvvXX39dq+jtmDFjoBOrG2cIIZVKdefOHRg63bp14/MdJBKJRDJjxgy1Wl1QUODl5cXbiKSqabN06VLYCqxWa23t1DwVCYJ4+vQpTdOvvfYa3/b+P2urVq2C8yFsI5MmTcJx3MPDY+HChTRNw1YWEBBQW7Nnz56FScIwjEajuXz5cmRk5KJFi+bPn19QUABTyN/fn0ebZ8yYAbsfzO2cnJwbN26MHTs2ODjY398/PDy8fv36MDxIkpwyZQqPRwAQQhcuXGAYpqioiMcIwTCsQ4cONpuNZdljx45VDsD6+PikpKSwLGuxWFavXs1nYRo3bpzZbCZJcuvWrVXeBISEhGRlZVEUBTN+xIgRTj5GKpWWlJRYrdYePXrU8DGEUGhoKEVRGo1GyIgcNGhQbm5uUlKS6Fc9vr6+Go3G4XAkJiY6/1flT4nV9VijRo3MZrPNZhMeu0IIDRs2DNw8o9F4+/ZtX19f7rl9+/aFaDBN097e3s6blUqlly9fBv/WaDTu3r37rbfeUigUkEKkUqlycnLApVy0aFFt2+zt7c3th/Hx8StXrvT29iYIglvFZDKZm5vbK6+8YrPZGIYJDAys7SM4NG3aFIxs2LCBhwMilUqPHTtG0/StW7dUKlXlF4ph2O7du4uLi9euXctnBMJdH3jP1QWUEEJdunRJSkoymUwWi+XZs2dO3t2FhoZaLJasrKyXTl2pVAqH0mXLltX6O/yBd955hyTJ5ORkIQfOKtG6dWuj0ehwOJ49eyau5Xnz5rEse/fuXeEBCTc3t3PnzsHGdfny5Qrzzd/fPzU1Fe5I/fz8atVCCB/YbLZPP/20wpKBEEpPT4cDXlFRUa0aDJMczocmk6lFixZVdgJCqG3btkajkabpESNG1OoR5Y3s2bMH/JoOHTrwsNC2bVutVsswzIABA6p7RM+ePWfNmsUzfiOTyUpLS0mSPHXqVA3es5ub27Zt20iSpGk6IyPDyUUFQm3ffvvtSz/p5uaWkpJis9nat2/vfOMroF69ejab7fnz56LfWDZq1AhORLNnz+ZnocpBJpPJLly4wLLsK6+8IqyBEoTQ+++/DwkJJElWjsT26tWruLgYZpTzQXyCIJ4/fw4jeMeOHVWOkOnTp8N0qlUiBEKoffv2JEnCND5+/Hh1w48giF69etntdpIk+Z0VEUJjxoyB8+3t27f5rdRnzpxhWbaGo1bfvn3fffdd/olZgYGBZWVlZrN5w4YNNSzMMpls9erVEEpNS0tz5stIpdLi4mKbzebMGiyTycCzEnIuHzFiBMMw8fHxomeW9O7dG24Fevbsyc9ClX0rl8vB7xXidwE8PT2fPHkCJ66kpKQKAwLH8VOnTlEU5XA4cnJynF+qhg0bRlEUTdOJiYnVubVwgoKp2LBhQyctu7m5paWlcSHT1atXV/kxhJBCoSgtLYVQQkhIiJP2y8PLy0un08EdyeLFi3lYkEgkFovF4XDs2LGjytGF43hWVtaZM2ecifFWveS4u7tLpVIMw5o0aVLDrojjOMRREUJarZYkyZc+Lzg42OFwpKSkaLXal37Y09NTKpWWlpY+efLkpR+uDs2aNUMI5ebmsizL20hlIIRWrFiBYZjRaOTdPIfDUeUPIZRSr149YW2UtG7dGhw8s9l8+PDhCi/o1VdfHTNmDEEQDocD3qMzNhFCvXv3RghpNJpPP/1Ur9dX+bHU1FSI3OA4/s477zjZ4LZt29avXx9WKJPJVF1iBo7jo0aN8vb2xjCMoiiz2eykfQ4Yhv3www+enp4SiYSm6VOnTtXWgkQikcvl4Hb6+flV6X/OmTMnODi4b9++BoOBh32JRCJRKBSJiYkkSZrN5k6dOlX5GYRQo0aNtFotrGF5eXnOLKtNmjQhSfLMmTMvDUhAgI5l2RMnTgi5hzh//jzDMN988424u6JMJoMb7fz8fLESgzjL4As0btxYiB0Mw27fvg3Bj5MnT1Z4OwEBAXq9Ht4dTdNbt2518lyK4zi8l9LS0latWtXwsYSEBDhPpqamOmMcw7DIyEjuCjE/P7/KOIdCoTh37hzErhmGefToEY+jR7NmzeCc73A44uPj+Z3JMQyDRVOtVrdo0aLyB8DjoCiK/wBGCM2ePVutVtM0/dlnn1UeagghT0/PnTt36nQ66JFjx445832USiVN02vWrKn5wziODxo0iKZpnU4nJNyC43hkZCTDMHPmzBExaxEhtGPHDkhCmD59ulhmAZDmyrLs4MGDhdgJDAyE0UaS5OzZs7nRgBDq0KED5JfDoL9z547zhxm5XH7z5k2apgsLC318fKqLqXh4eKjVahjrSUlJzlh2d3fPyMiAPzEajQsXLqwwghFCzZo1i42NhfwbuCFo3rw5jze7b98++PoURfG+5XJzc+Mm26pVqyr8FsMweER2dragnJvw8PCTJ0/Ctx06dGj54DtBEO3atbtw4QLc/NA0nZqaWj5DsoauUSgU+fn5BQUFNTQOw7AhQ4YYDAar1Tpv3jwhU4ggCEj1mjFjhoiFAt7e3hqNhmXZgoKC/v37i2UWgBCaPHkyTdNHjx7l3WYMwz799FO73Q43ZiNGjFCpVDiO9+rV69atW3DHCJkrjx49qlWqpLu7e3p6OpwV586dW/k9EgTh4+OTlpYGA5Gm6U8++cQZy02bNoWjl8Ph0Ol0H330ERSFKhSKgICAUaNG3bhxo3wS3KNHj7p168ZjS5TL5Xl5ebAM5ebm8u5kqVQK/gvkCZfvRqlUOnLkSM7pWLJkCb9HSCQSCUJowoQJkOIwY8YMOD1KpdJmzZotX76cexk2my0yMrLmI2V5YBgG+VbVHbW9vb2/+OKL/Px8m822Zs0agZeBBEFcuXLFbrfzDnJWCU9PT0gGPH/+vIeHh4iWAQ0aNKBp+vnz57yXIQ8Pj8ePH0PJi1qtXrRoUe/evfft2weppzAJY2Nje/bsWdtHhIaGZmdnw/izWCxr165VKBSQDCiVSgcNGnTs2DFYo2EURkdHO+nAK5VKiKOwLEuS5KZNm+rXrz9s2LCdO3fm5+ebTCbOKbVYLIsXL+btLvn7+xuNRjA1cOBAfkYkEglCKCsrC74pbFrPnj1r06bNW2+9FRkZmZ+f7/gD9+/fF3Q+atmyZXp6us1mKy0tPXTo0IoVK3bt2vXbb79BboHNZktLS+vQoUOt3iWGYadPn6YoKiUlpbL74e/v/+WXX2q1WpvNVlZW1q5dO/6t/8NmSkqK3W5///33RXRQPT09S0pKKIq6dOlSXRSJenh4kCQZGxsLcQUe8PHxgTs3QElJCTc94K6vUaNG/DrEw8Pj7t27XG1HYWFhYmLili1bli5deubMmfKVGZCd6/xBGiF09epVyPmmaTo/P7+wsNBoNNpsNsglYBjGZDI9fPhQSGorQmj58uWwYxcUFAiMIHTt2tVisUBvUBRlMpmMRiNJkhaLhbuScTgchYWFtbq2rQgMw9avX2+xWCC9EFZBSKjTaDT9+vXjUQMCgUe4DvrnP//p5eXFVegEBQXBIcRqtSYkJHTr1k24S4kQgnq/d999V6Cp8iAIQq/X0zSdk5MjPM5ZGQghm81248YNfj2AEGrRooXFYimfOQ3Iz89fu3atkI6VyWRnz57lqpa42a7RaCwWC8wZuGq+efNmbe/TGjRoUFhYWKHN4JpZrdbCwsKxY8cKTP7GcTw5ORksz5gxQ4gpiUSCEPLz81uyZElqauq5c+egSArazC18DMPcvXtXaNQQx/H58+dzDnFubu6jR48mTpwoJJTSsmXLBw8ewPtLTk6+f//+s2fPHj9+XFpaqtPpSktLeabqVYO8vLzaZnW9FARBZGRk0DRtMBiEpKrXYN9sNmdlZfFudseOHRMTE8vKymAcw/1nSkqK8JQjhNDIkSOvXbum0+ngBguuE4qKikpKSvLy8hISEtavX9+1a1cegw9Os5DXwc1Dm8128+bNqVOnBgQECB8YcrkcYo2882OrMxsQELBw4cLbt2+XlpZygSWKoo4ePSr8ilgi+SNsNWrUqPDwcCh4FW6zUaNGiYmJpaWlZWVlVqsVMu4PHjw4atQo3i5ZlUAI6fX6O3fuiGgTzH733XfgRIlI1VHevt1uNxgM/DKEEEL169ffvHnz8ePHExISfvnlFwjbiNU8yDKVy+Xe3t5dunTp1avX4MGDly1bNnDgwNDQUOEjhCAIf3//d999d8KECQMHDpwzZw54T6I0Hsfx9PR0hmF4p8u9FARBBAcHr1u37v33368yMfWvBYSQXC4PCgpavnw5VO7XRYthewkPDxfdskQiUSgUddTRCoVCrVbv37+fdxCcIAguf/rPAY7jSqXSw8Pjrz7yJBKZTAZ1p//phvyP4W/a43/TZv9d4OpeF1z4S0AULh9RWuKCC/8xuAaxCy644IILLrhQ13D5Gy7UEbj0j/8FiJAhXWXRnQsu8AZXewB5rX9Hwn8e+J/4ki78vQCLO4Zh/v7+bdq0ESux5L8N7u7u48ePr1+/vrj1suVRd6sgQqguhKX+vgPlL9tyDMP69esHZLn79+8PDQ2t671RLpcLHNLVudMEQYgvrQUlxXq9XvR6WQ4+Pj7jxo0TnZ1NIpFgGPbZZ59BlVBQUJAoNpVKpVqtZlk2KytLFIMVgBA6d+7ctWvX6mLhW7lyZVJSUlhYmCjWCILw8PDo0KGDQL5ZANACcpUNJpNp/fr1dbdwhIeHa7XaZcuWCelnVJUIikKhOHz48JAhQ8TN6JQQBFFUVGS1WoVwBFcHhUIB1a5Go5E3cVMNGDNmDPBYkyT55ptvCjeIEOrfv39+fj6wbA0cOFD0sbJo0SKoYhE9d0+pVObl5dnt9jlz5gi3FhISsmzZspKSkrKyMr1ev23btnbt2vHuDRzH586dC3VMXHEDRVEXLlxQKBQymQxo8MXaahBC8fHxdru9qKhINIkLiUQikXh5eQFbgkaj4VEaWhOaNm0K2dtt27YVzahEIpFIpFLpjh07ysrKWJYtKysTPcfax8fn8uXLUEZw8eJFUep9CYI4ePBgcXFxdnb2xYsXJ0yYIK4ThRACAuy8vDzR6eratm2rVqvNZrNA2g6JREIQxKxZs6xWKxAZggCRWq3m7XrI5XJQEOB4bkiS1Gg0aWlp33zzTVJSUnx8fFxc3HvvvSeVSoWPb39/f7PZTNP0/fv3xWXoHDRoECwiqampYtYG4Tj+zTff2O32uLg4cetlMQzr379/cXExKKtcuHBB3DGNYdicOXOAC9BqtY4aNUoUs/Xq1cvOzgZydJvN9vrrr4u7KyqVyt9//91ms3322WcimpVIJAihESNGlJaWlpSUCNxvMQwbP368RqMxmUxqtfr69evffvttcXGxxWLJz8/n4ZUhhObNmwf0TdxUNJlMNpvNYDCYTCYoiYT6o6+//lqg647j+IULF8xmM9AaiLvkzZ07t6SkpLS0VGCNZUXI5XK1Wg27ihDt6wrAMKxevXrXrl0DcRWKokTRQiwPd3d3s9kMq2xBQYGQGvDyWLFiBbAMgdPLuy6+OkybNs1utyclJYkesZDL5ffu3SNJctasWUKMYxj2ySeflJSUGAyGo0ePgiomhmFNmzYF5sVnz57Vtjjr1VdfBZZ+RzlAdStXCc39vLS0lIegYHn4+voCAz1JkrxrtavD7t27KYqKjo4W+eQycuRIk8lkt9vbtm0rShQBIRQaGrpt27aUlJScnByuVLRNmzbCjZd/yo4dOzim6vfff18UsziOA2sY8MQ0b95cFLMc5HL5pUuXKIoSfXxIJJKAgACz2WyxWHr37s3biFQqffPNN81ms16vLy4u7tixI4wK0LT47LPPYGF94403nB+IGIbl5+dXmIcwFTUaTVZWFqj9lf/5ggULeA90hNC4ceMKCwspiqoLNQeQ01i5cqW4R1DJhAkTQCVz6tSpAmc5TMJp06aVlZXl5OTADOdeAD+y5+rQsmVLjvHyxYsXYu3nUqkUyOqB3VD0w62fnx/IqohO2IEQun37NsMwV69e5e2P4Tj+8ccfg6xaUlJSx44dK6wXAQEBq1evBvIb5xfu3r17V56HLMsmJib26dPHy8urXbt2cH7mfpuZmcljoGMY5ubmVq9evcePH9tsNqD81Wg0wsURyj8CmM4nTpwols1/oXfv3rCPV6Z8rBUQQpwyJvDlZGRkwEEO+j0iIkKsNkskkt9//x3enMViefXVV8Uyq1KpUlNTYYVOTU0VyywAfDxQehVxcABkMpnNZrPZbO+99x6/JRUh1K9fP61WS1HU8+fP3dzcKttBCLVs2RIYw8aNG+fMxo5h2NatWytMRVgyym9WCCGgTgTY7fbankhVKlWfPn1atmw5ffr0CxcuFBcXp6WlabVavV4vLsUGyIEtWbJEZAc1LCwM5s/+/fuFuEzBwcFwxIKOTkxM/OabbyB2Cj6kiAdRHMdNJhPM8Li4OBFv59zd3bVaLViOjIwUyyxApVI9ePCAYZhp06aJfkHSsWNHhmFyc3N57+RBQUFPnz5lGCYtLa0GFwYhtGvXLpIk4+PjnXlWUFCQwWCosB8WFBRU/uTAgQM5PjWdTlerm8xmzZqVlJSo1erHjx8PGzbsjTfeaN++vb+//xtvvDFz5kwRx15QUBBFUWVlZU7GbGrhn3DjWKVSsXz1J6RSaXn2K4fDkZeX5+3tzSU3FRQU2O12fsYro3///rCgGo3GsWPHOikL4QwaNmwIYWSHw7F582axzEokEqlUGhQU1K5dO7vd/uLFCxEtSyQSgiAOHDjAsuzx48f59TNMsKZNm7IsO2DAgOLi4ho+7ObmZrfbQZbjpZY7derExXhgHo4bN+7cuXOVP3n//n2bzSaVSh0Ox6VLl4xGo5ONxzBsx44d/v7+QJ5fVlYWExNjtVpxHOd0fpw09dIHrVmzRiKR5OTkWCwWUWz+GwqFAtzIffv28V6q33nnnfKkdJs3b27RokWPHj1g73I4HHv37hWxzStXroTHPXjwQNzgB+wt4Pe2bNlSRMsymezIkSMsyyYnJ4vOdwxkxzqdjnebO3TooNVqaZq+dOlSzV2K4/jChQspiiotLe3YseNLLSckJHD7odFoHD16dHVHWYIgQPeOZdlbt245PxqVSiVwyZEkOXLkyPL2IVdGrJyBpk2bQl7Xjh07hBusCKlUCoMvMTGRd4tLS0u57tZoNBEREZ6enu3bt+dc1vnz54vYZni7LMuKy4MqkUj69+8Pk9xsNot7a9SqVSvIo5g4caK43qmPj09hYSHDMJcuXeJ9lz19+nSImr6UY1ehUGzZsoWiqDVr1jgTHyooKIAxYDAYunbtWsMnMQw7duwYHGeGDBnifOM9PT1tNhtFUbwla5xBo0aNQLkwMTFR5BtFAEIIQpEFBQX8XiRBEOVjX9OmTQO96IYNG3IRahGbjmEYyKHQNC164ljPnj1hKtpsNhETHjw8PDZv3syy7M6dO8XdEnEcHzZsGMMwOTk5rVu35m3n/fffN5vNycnJNRvBcXzIkCGwpqxbt86ZcW82m2EMmM3mmk/1Hh4e8fHxkJjl/OkOIbRlyxYQERE5I7QcfHx8tm7dyjDMrVu3arVM1AIIodjYWFiKJkyYwMNCQEAAN+VYll23bl3Lli27dOmSmJgIP6+VQu1L0bBhQzjcG41G0a/m4uPjYVkpLi4WMVsqICAA6Nid8ehqBX9/f4PBQNO0wCNA27ZtzWZzfHx848aNq5tgIFYVHR3NMMyTJ0+c0TMG6ldYN2NiYmqeum3atIGcm9u3bzvfcgzDCgsLTSbTrl27nP+r2uLVV1+12+12u/0f//hH3T1FMmHCBEhbWbduHY8/RwiB8gnMxqSkpB9++AHUbOAnpaWlYk1FhNDRo0dBg3737t3ieiMYhp07dw7OKpGRkWIZl0qlcLjNzc0VNwNLpVLFxMRABYnA62ZPT8+bN2+WlJRkZWV5eXlVWOMwDPP29p4yZQqkQZvN5jFjxjizDiKEOBJ6i8WiUqmq/CuCIMaOHQv7p91uHzRokPMt9/f3t1gsVqu1LmROACqVKiMjA9KMRAzGVgGlUvno0SOWZZ8/f85vn/H29i4pKYFdUafT5efnc4KbLMtu27ZNrPsGHMdjYmIoijIajeLmDEgkEoIgEhISWJYtLCwU8QpepVKZzWar1frll1+KuNPiOP7VV19ByUvv3r0F9jCGYd9//73NZrPb7RaLZe/evd7e3nK5HCEklUqDg4P3798P0tx2u/27775z/soEpCxgY7TZbBkZGbt37543b964cePq1avXq1evIUOGPHv2zGQyURRls9kWL15cq17q0qWLXq9PSUmpu1MiRMVMJtPYsWNFz+D/f5DL5bt374ZUL2e8jiqhUqkuXbqk0+koiqpQCNOhQwexmurm5gZpkBkZGaJ3vUwmA33FvLw8sVKlMAzbvn273W4vKysTMY2OIIg9e/aAsNGTJ09EoetXqVSJiYkgalRcXPzzzz+/99579evXb9eu3dWrVyGl02g0nj17tlY7Q4cOHbjrZViaubTvsrIyyD2Cn8BmW6vXihCCuHTdeadSqfTXX3+lKOrJkyeiFG3WBBzHHzx4ANcvR44c4X0A8/LyysrKAnef6/eDBw+KewWfkJBAUdTSpUtFn4oQE4ejuYjbONQZffvtt2KdbHEcv3jxIsyN8+fPiyWbgRAKCAi4dOlSaWkpRVEWi8VgMDx8+DA6OhpkW/R6/ZkzZ0JCQmrb897e3lCMUl6JCZZp+InNZrNYLMHBwbVts7u7O+T0NmjQoLZ/6yT69OkDOmhjx46tc3oEhNDFixdhZdLr9UKS64YNG8ZFzCB+3a9fP/FaKpHL5VeuXCkpKRk7dqyIZgG+vr6gr6jRaMTyQ7p37w6HK3FUhyQSDMN++OEHcBTv3r0reokpjuONGjWKiorS6XQ6nc5qtVqtVqPRmJ2d/dFHH/GuJMQwLDw8/Nq1a6AnBXVzZWVlkK786aef8nPHIiIiQPlQ9HgYAMMwEIcUN4xXEzw9PQ8fPpydnV1YWDh58mTe6zdCaNOmTZCk52RiVG0RGhraqFGjuuBEQQhNnTqVJMmCggKxTuetW7dmGKakpEQUaxKJpEmTJmlpaQaD4dSpU6KU2FYHOCUOGjRowoQJ9evXFzHwxgHK9oVY++CDD+x2e1pa2oYNG+qCrsXDw+Pq1au5ubnffvut6MZfAkhN+B/XHhCx8QsWLHjx4sXOnTvFMiiRSNzc3HAc/5MW6b82QL6ee1/iLtA4jru7u69fv97Dw6MuNhUX/lTUERudCy64UDv8TzFhu+BCTfg7zgSuzXV6FKwjyy5IXN3rggsuuOCCCy644IILVaK8o+xyml34q+F/bky64vguuPAfE3WD2L1MJsMwTC6XBwYGNmvWTKFQ/B0nJIZhf8LF7l9ZafDv+NY4qFSqmtsvhGf1z7ijQgh5eXnl5ubyU3TAcfz111/fuHHjyZMnoVgW8n3NZvPly5dFpnCtS3h4eEA9QZ8+feruKbt377ZareUZuv4KIAjinXfeATKU9u3b/6ebU2v06dPHYDCwLPv06VPRtboQQjNnzoyMjBSR0LEKqFSqZs2aZWZmAklxbTkC/f39nz59ajQaoVSUq1eEWjWj0ajX60UnBYH1CXLBRDSL4ziUgERGRvIuHKsZCKGffvqJYZiYmBgeUxH9Id8r4vKMEAoPD580aRJJkvAGFy9e/NLthQcwDOvZs+f+/fsnTZo0ZswYNzc3pVKJ/pBP4/04DMO+/PLLW7duQSm8RqNp1aqViAMDVEkKCgoYhnn06FFoaKhYlv/9AIIglEpl27ZtDx48yGkYnD171vlOkclkUOlcvgSGJMns7GySJO12u9VqNZlMIrYex/Hg4ODJkyc/e/assLAwOjp62rRpYq1VMplsw4YNubm5x44dq4s8Y4lE0qNHD7vdzjDMp59+WtvBhxDy8/M7efJkRkZGz5495XI5QRCenp5wNOC9x/r7+y9fvhzGMcuyRqNx4cKFn3/++bhx48Tdt93d3Xfs2AHyMlCCZLPZsrOzCwoKMjMzr1y5wi8d38vL6/vvv8/Pz8/MzHzw4EFRUdH169dHjhwpSr4uQsjb25sr6TSZTDdv3hSNTcfNzW3KlCm7du16+PDhgQMH1q9fv2XLlsTERLvdbjabayVXOHr0aI5P1uFwmEymM2fOvHjxYtu2beCpwlY5Y8YM4c0OCgqaNWtWcXExOMAggaLVaktLS0mSnDJlivBH+Pj4QL3srl276mIq4ji+ceNGmqbNZjOPEykIpOl0uqdPn/r5+SmVSoVCceDAgQMHDnzzzTeDBw+OiIio7XFAJpMdO3YMWAxpmo6Lixs7duycOXPOnz9PkmRcXJxYeyNQjKelpQHtDec9URQFEjc2m23y5Mk8lqd+/fplZGQYjcacnJyEhASdTgdVuBRFrVy5sl69ekK+QkBAwNGjR6Hcubi4uKSkJC4ubseOHUJnI0KoXr16hYWFMHMoinr69Om2bdu6d+/+wQcf0DSt1Wqdf4abm5tGo+HmYWpq6ttvvy2Xy93d3YODg9VqNfers2fPCmk2juPvvfcexxUAp1CTyZSRkaFWq4E9oKysrEWLFkKeIvmj8JIkybfeekugqSrRoEEDi8VC0/TChQtrOz4wDBs5ciSQU7z11ltcFOH777+HTgCFpsOHD9cqYBYeHg7cfwzDrFix4tNPP4U9FhiKYX6Kctpv0KABELiADww8Glqt1mw2a7VaeK0pKSm1XQERQlevXoV1//z587t27YqLi+MIJWCG89ZoCg0NBcrJ7Ozss2fP+vn5vfrqq0+ePLHZbMePH+e/WBME0a9fP51OBw0F2c0+ffqAbNDdu3cpirp3757zkb2+ffty31mv1zdv3ry8P9OrVy+Qy3SGga8GgMyTTqejafrZs2ejRo3atGnT3bt333zzzaZNm3p7ez958gT2mV69eglcwqdMmWKz2cxmc10oJQ8bNgxEcqKionh4Yq1atSJJ0mAwHDhwoPyOKpPJcnNzgREU6Bg7duzo4+PjpNnQ0FCYijqdbvDgwUFBQfAS4VwHe5dwlj0cx3/44QdQyHn8+PHOnTt37NgRERHRsGHD+vXrv/XWW0CcZTAYaqvW6uXlBYrLFEUdP368Y8eOoaGhixYtio+P51T6UlJSeJBfSqXSmTNnkiRpMpnefPNNd3d3uVzu5eW1bds2iqIoinr11Vf5jDelUnn69GlOWdJms82ZM8fHxwfH8dDQ0JCQEL1eT5LkkCFDnLSOEALxNpiK8+fPr7x2Pnz4kJv2NfPS1vCUI0eOQPX3ypUrvby84NakfCPlcnlmZibDML///ruQqSiVShMTE+soBKdUKm/fvm2320tLS/lxYcybN49hGL1ev3nz5grNa968eVZWltFoBBaPkpKSIUOGOHlS6tGjB7yjnJycpk2bVrD87Nkz+O3WrVt5tJmDr68v0MYVFRV16tSpwtkex/Fx48ZRFMWy7I8//ui8WYTQq6++CqPaarU2bNgQgm1QoPzqq6/CfktRVHp6eq2WPxzHe/furdPpLBYLaLDC0EIIRUREAGfFtWvXaj3eEEIff/yx2WyGmMqdO3deeeWV8lZA1KFWkl0EQVitVpiHNptt/fr1lb8qQRBlZWXgJ+Tk5PDwc0JCQnQ6nc1m69u3LzCRVf4MhmHTpk2zWCxZWVlCpmJQUJDRaKRpes2aNeIGD3EcP3jwIEmShYWFvFUQ582bB2v/rl27Kr8mgiAWLlyo1WohWhYVFdWyZUtnvsXatWvhJRYUFFRW+cYwbPfu3QzDXL58mXefEASxa9cuhmHUavWoUaMqh4IQQiqVCq6RaqWZqVKpCgsLQRinshYAhmE9evSAkDhFUc7zfWEYVr9+/YyMDIPBsHPnzgqOaEhISH5+Pgjg1bpPPD09gTGNpunff/+9cryxU6dONE0nJCQ4bzMgIIDzTkmS7NmzZ5U+jI+Pz9q1aw0Gg81mq+1tlVQqffHiBcMwp0+froHuEoaLyWR68uSJkIgfcOPq9XrRo9X169cH1eulS5fyNjJ06FCLxUJR1KlTp6r7mk2aNIGYO8zGl659BEE8evQIrp26dOlS5Rts0qRJdnb21atXeWc+hIeHA4Pj9OnTq/QIEEIDBgwoKipiGOb69evOW+7Tpw/spStXrqzSC1AoFNeuXbPZbFar1clJjmFY7969nz9/bjKZEhIS/Pz8Ksw3lUoVHR3NsmxaWlqtp+Lnn38Ooerk5OQqYxtz584lSXLevHnO2/zwww8579Rut588ebI66i4cx/fs2UPTdF5envOjHFZKGMHt2rWr4TsTBHH9+nWr1SqEwhkh9PDhQ5qmaxjo/Mz6+PjAwpyRkSGErr9z585wGnz69Gl1JzepVAqxFoZhTp48+VIfp0+fPrCe2my26vw3f3//a9euXb9+nZ+gJY7jZ86cAR7+6ki33N3dZ86cSdM0SZLOB/BlMtmJEyccDofVaq1uXAUFBZ0/fx6c9pfqgnBmz58/Dw7I8OHDK3e1QqFITU1lWfbx48e1O0I3bdoUtn6DwVDdQfPHH38kSXLgwIHOm+UkXyAadvjw4RrOJwih27dvG43GBw8eOH8WbdiwIUgX1cwALZPJoOM++eQT59tfAV5eXiRJ2my2Ll268DZSGd7e3o8fP6Zp2mAwfPjhh0JMDRkyhKIou91+586d6uYYjuNbt26Fl5KRkfHSgQJbosPh0Gg01b2XHj167Nu3b9OmTQMGDODRbHd3d1DyrDIiCEvVRx99BByNer3eScppDMM6duwIgdOUlJQqOwTDsNatW8MtrpNHdAzD/vGPf8Ad+4EDB6pkQG3SpAlQb8fFxdViKmIYBirzNptt5MiRVf4lQghUu4cNG+asXYnkjTfe4O4q7Hb7hQsX3nnnnfr161f3eX9/f7PZ/OLFCyf3HITQP/7xD6vVmpOTU8PqjhAKDg4GnjzeF/0IoXPnzgnUDK0MDMMGDRoEi/3WrVsF3ji3adNGq9VardYakvKUSmVMTAw4nEeOHHmpzaKiIniDd+7cqe4za9eujY6OPn78OD9K/GHDhlEURZLk22+/Xfm3MplsxowZEP+rlcsnk8kuXbrEMIzFYlm+fHmVn/Hy8lq9ejWcy65du+aM2datW4NbQVHUsGHDKjcGrnbh6iU/P78WDlRISAjEl+7fvx8QEFDlZ1599VXIeGrWrJmzdiWSiRMncrsicH4eOXIkLi6uuqHs5uZmNpvVarWTZPgYhk2ZMgVuXGp4PTKZ7ObNm7CG8Q64u7u7G41Gm822YcMGfhYqAyE0d+7c/Px8lmWPHDnSqFEjgQZbtGgBSSrVMdYihMaNGweymVarddq0aS9tISfVXqXAKEKoV69eJpPJaDS+ePGiffv2te1hDMMWL17MMIzBYKjAWYoQaty48d69eznOYoPB4Lx32q1bN4jn7dq1q0rXmiCINWvWQFaqwWBw5nYHIbRx40ZoTHp6epVLz7fffgudxrLsmTNnatEharUa1puWLVtWGblq166dyWSC7NNaLdve3t4FBQVwemEYxmq1ArF0dW5AQEBAWVlZenq68wtJx44dWZbdsGFDdVNRJpP17NkT4mMNGzZ0vvHlgWHYnj17hFwzVAl3d/ejR4+Cmkh1i2CtEBoaCsliVW4vEonEz88PlCpomv75559f2s8+Pj6cEiZJkuW/O0LI399/2bJlJSUloKjx6NGjFi1a1DZKIZVK4XBksVjat2/P3QdAgmFOTg5EmOC+ISUlxXmPaeLEiQzDaDSaysEYhJCvr++BAwdKS0th8New55cHjuORkZHwJ99++22FxiCEli1bxsn40jQ9fvx457pBIlGpVKDrxLJs3759y880DMPeeecduEukaTotLa1x48bO2v0DAQEB3M0hPIUkySqXH4jBDBgwYNKkSU4uJAihFStWsCy7adOmKj+AYdiHH36YnZ0NV/+8Ux8aNWpUWlpqtVpXr14tFssojuNz5syBW76hQ4eKYhPk4EmSrDJEAQookHPz5MkTZ05cIM/CvbuYmJgvv/xy8uTJDx8+hGAmDEpYavnVkQQGBur1ergn69Gjh7e3d5MmTX744Yfi4mLuipthGJPJNG/ePOfvujAM27BhA7iRFQIcBEEMGjQInEyO+d7JZdrDwwNcZZqmywdscBxv2LDhyZMnuds7lmWdP2r9q8XwhaErW7du3aZNmwkTJhw7dsxoNEIXQ4YNb1ZslUrFtY+m6dTU1CpPujyupCDSQ9N0laT0crm8Z8+eEF/VarVffPEFv7AnQujkyZNGozE5OVlEvZ0GDRqkpqZSFPXbb7+JpTrWtGlTkiS1Wm3l9UKpVEZGRoL7Gh8fHxYW5ozBJk2acLsiNyvKZ4dCFMBqtd6/f9/J8GMFdO7c2WQyWSyWAwcOREREDBo06PTp0+BYwhO1Wu1PP/1Ug7pjdTh+/Dg0eMGCBVCngmGYTCZ788034+PjuWGfmZk5YMAAJ417eXkZDAZICI2MjPTw8JBKpS1atNi4cWNZWRncmoAHwUcS5ubNm5zvq1arQZCE6+WkpCSB1PQIocePH3Ovk6Ko5cuXczUv0Dv8jnAEQcTGxjIMU1knA8OwgQMHbt++XavVGo3Gy5cv8461BAYGFhUV6fX6r776Sqxr/aCgoB9//FGn0xUWFla+NOeNRo0akSRpsVgqzAqCID766KP09HSj0ZiRkVH5Hqw6hIaGlhfhc5QDy7KFhYUzZ84UUo2FEFq/fr3JZNLpdGfOnLl27Vp2djak4IKn/csvv/DO1f74449hYGu12mfPnu3Zs+fSpUsxMTGQWwfhnHv37gUEBDhv393dHToEpsagQYMKCgpggeP22KKiogrpMc5izZo1EErm2l1cXDx8+HBRTi8AuHKAbR0OjTdu3Fi2bNnRo0cjIyPr1avHbypKpdJ9+/bRNJ2dnV1+vVAoFF26dIE0YpIkHz58GBERwe91IoQOHTpkNBqjo6NFPCVu3LjRaDSaTKYJEyaImLUD6lQURe3cudPf3x8mSUBAwNdff22z2Ww2m0aj6dixo/NPlMvlrVq12rlzZ0JCgslkunHjhk6n0+v1paWlISEhwkkGcBy/fv065+LCTgg5jPfv3//ss8+E+AshISFcWR9XqcP8AY1Gs2fPHnd391r1P0EQcLzkgpHlXQatVrt582b+4wTDsN9//91sNsOVVFhYmOhVvFKp9NGjR9zKQVGUWq22Wq15eXkxMTG8m04QxOjRo0F+6Pnz5x999FG/fv0mTJhw8+ZNWKtSU1NbtWoVGBjIe9CEhYVlZWWRJPnhhx+KdUr09/fXaDQ0TScnJ4tb7AeF5Hq93mw237t37+DBg0uWLMnNzSVJEuLMzZo141FhhOO4h4eHp6cnQRA4jsN/RWkwjuNQ5seWU/tLSUn54IMParVZVWd89+7dnNPIAQIf/AoDEEKffvop5ymUtwlJ9kIX1saNG9+9e/fw4cN1J2KsUqmgcgQSICmKKigoWLBggcCVNSgoaM+ePQaDAZYSWPm0Wu3Vq1cXLVokfPIEBQVFRUWVlpaKNQ9lMtmPP/5ot9ttNtuoUaNEsVkeOI5fvny5vGIhLN4FBQWtW7euc9qVWgLWjvT0dMjX02q1u3btEq3oViLBcXz79u06nQ5uxeEg/cUXXwh5BEKoQ4cOL1684K4GioqK5syZ8/dTDZLJZJ6ent7e3gRBiEWjhBBSKBTXr1+HTj9z5kz//v1FWblxHMdxXKzBAYkjq1evvnDhwrx580Sv7eCe8uqrr0L1rcPhgBPB1q1b61YsXjCgtPI/3YpaAMMwkFfj9+d/p6/6XwmEkMPh+HOeFRgYCLFri8UC0/LPea4L/yv4T62dojz3z2w8BKj/druNCy7UOf78KeGah381uF6HCy644IILLrjgggsuuOCCCy644MJ/B+DS/D/diloAAvd/a604hUIBX+E/3ZD/LYg7YDAMa9asmTi5Kwih0NDQu3fv2my2yMjIYcOG/TliRgLD7gRBTJkyJSkpSafT5eTk9OvXT7ymSSQSiaen56pVq3hm3NeIsLCw4uJiSFwGogMROxyyhcSyJpFIEELDhw9v2bKliDbLIzAw8E9bTBUKxdmzZ2maXrZsmViXxhMmTIiOjq6yDLDWttzc3DZs2KDRaKASxG63X716te6WakgvjoqKiomJuXz5Mu9R2K5duwsXLnBaCyRJVlnEyA8Yhj148KCkpESr1fKryqsSSqWye/fuFEVBQRCXK5+WluYkk1LNxufPn5+SklJcXJydnd2yZUt4iVWOOed5vebMmfP8+XO9Xl9WVvbs2bOcnJySkpIrV64kJiaWlJSsWbNGSP2Kr6+v1WqdNGlSXc9GYAm4ceMGSHHcunVLFJuQb6jVal977TXhBiUKheLo0aPAoAG1FGaz+aOPPhLBdDWPO3PmDLDoL126lN87kMvlsbGxnFwczMY9e/aI1Ugg1DAajSRJfvPNN8IHCo7jXl5eT58+tVgs2dnZ169f79mz54oVK6Baz2w2Hz16VMjyRxDEvn37gBXX8YcsxM2bN3fu3Pnaa6/xKxBFCL3++utQT+f4/+CqkKxW67lz57p168av2U2aNLHb7Tqdzt/fv05no0wm27p1q8Vi0el0ZrOZJ53+/4enp2daWhpwAohTYKhQKFq2bLls2bJnz55x9V2ZmZl10TUIocWLF5eUlJjN5qKiIm9vbx5G3NzcLl++DLUwXP2Yw+H49ddfRWzqmDFjTCaTwWBITEwUXkvdpk2bBw8elJWVXb58uXv37kBqDuVIHTt2jImJMRgMQ4cO5e0jhIaGHj9+PD8/v7yaJfQPTdO5ubm3bt3q06cPJDRLXrYrYhjm7+8fHx9ffqWrMBVhWEdFRaWlpZ0/f55fmQLQh9rt9oMHD27evLmORJcRQvPnz4cioZycnM8//1yUB02ZMkWv19tstoSEBDHPdDKZbMKECWCapmmbzcZ7qasBYWFhhYWFFEUlJiZOmDCBhwVPT084aJWveQNYLBYR32Xfvn31er3RaNRoNLVioKwMlUq1f/9+vV6/Zs2aESNGVJgGCKHJkydDbSs/Z5ggiE8++QTkMbj9iuOh4TaxjIyMDRs2vLQ2V6FQjBgxAjbY8hYqVOt99tlns2fPHj9+/NWrV3fv3s3PTVUoFPfu3SsrK1u1atVnn33Wv3//hw8fhoWFRUVFzZw5s3///r6+vsLPSv7+/lqtlmXZnJyc7du3i6KB5enp+fTpU5ZlS0pKaisE/HIMHTr0zp076enpZrPZarXu379fXGVjmUx28OBBq9Wq1+snT57Mo4sRQpGRkY5qYLVaRTzi9u7du7S0tLS01GAwpKen89YbxjAsIiKCYZhr165Vp0rQtWtX2OT5iWd4e3s/evQITkEsy5aVlSUlJd2+ffv58+dxcXGlpaVQ0U+S5MWLF2suEycI4pdffoHieofDYbPZTCaTyWQq7304HI59+/ZJpVKpVDpq1Khly5YdPHiQ3yKoUqny8vLy8/Pbt28fERFx6tSp8p4ORVFms3nv3r1C9hwMw7799ltYm8RSnndzc5szZw54HCUlJbWi7XYKCoXiiy++OHz48Pnz5xMTE1999VURpyJCqEGDBiD69/jxY349Apzf1blMZrNZxMWpZ8+epaWl+fn5wFtVA7FyzQANFoqiamCsql+//pUrV1iWvXv3bm3t4zj+1VdfcfuhTqdbsmTJqFGjIJTq5ubWqlWrjz76CGgETCbTuHHjarDm6+vL9bDD4fjiiy/at29/8uTJ7Ozs8rMRNLoRQk2aNLl8+fLnn39e22YDmjRpYjKZMjMzAwICmjdv7u3tDeSL5V8uTdNz5syp/LdOvmsfHx/onJycHBHinBIJQRADBgwwmUwQftNqtXWi/t2rV69Dhw5t3769R48eMplMxE1GLpdfv36doiir1Xrp0iV+65yHhwf3ksq7TzAVZ86cKVZrJRJJ/fr1y8rK4MrBYrHUipqZA0Jo5MiRDMN8//33NewbMpls8uTJJEmWlZXVts85MUmKoi5dujRhwoQKFuRyeZs2ba5evQr8KQ0aNKjBmkwm46acWq329vaGm8+uXbuWZ/Hz8fFBCBEEMX78+FOnTvEOMoeHh2dmZt69e5dzOhBCb7/9ttVqhXARvF9nSM2rBEEQoGWgVqvHjBkjyvlFpVLt2LEDiCkYhomPj+/Ro4dwsxXRs2fPx48f79+/PzQ0VFw2pCFDhpSWlsIp9MqVK/zsKJVKmBt5eXmZmZlwAODGh7g94u/vD1x4DodDr9fze4sKhSIqKsput9e8cOI4HhISQpIkRVG1CmVhGDZp0iRg03j27FlAQEDldmIY5ufnl5eXB6raERERNTeYOxxWkKacPXs2R8327bffKhSK+vXrHzp0SIius6en54ULF86ePVvebVYqlV999dWFCxfAaWdZlrcyX4MGDbRaLU3TH3zwgSiuKUIoMDAQTokmk8lqtU6dOlVEOrJ/AS5egA1279693JcXvjd+9NFHcXFxcIem1+t5q8EolUqj0Wg0GhcuXBgcHDxy5EjOm6JpWkSKFIlEUt54fn4+PyN9+vQhSfLbb7996UgC8li73V4ryi8cxx8/fgyHlo8++qg6+ZOhQ4fm5uayLGs0GmvWRJDJZEBJbDKZKux1ISEht2/fhtl4/fr1rl27tm/ffvr06c63tsq2DRgwoEWLFuXfHUJIqVRu27YNGPUZhuEXGw8ICPjhhx9YllWr1Q0bNhTrTj80NBTO0nCjGBYWJv5dg7e3N3x5mqYvXLjA1YMTBCHkYZ6enrGxseBvUBRVVFTE+25ALpefOnWqTZs28L8EQZw+fRpWcZPJJBbPL2D8+PHclvvbb7/xM5KQkOBwOF4a8kEIeXt7l5SU2O32du3aOW8fCHNZlo2Li6uOXtXPz+/o0aPgz1ut1pp3RYlEAr7A7t27K0xsuVzesWPH5OTkvLy8bdu29ejRo0+fPsJHYUhIiEwmK39gIQgiICAArjRhfz537lxtzSKE2rVrB3Nm//79YlFCSaXS2bNnw+GTJMnY2Ng6IZuaMmUKR5dYWFjo5uaGYRhBED4+PhXktWuFrl27cocumqZrp+/x/4FhGMh9cz8ZNmwYNxVFXJwQQrGxsVzkwHkFlQpGgFjamYZ5eXllZGTY7fZXXnnF+Ue0b98evNMJEyZU2as4ji9cuJALrmq12pc6wCCA27179wo/HzFixJUrVzQaTWRk5Pjx48XKWIYs4vKNV6lUffv2hRQOmIo8pOMwDJs9ezbDMPn5+TUfj2sFhUKxYMECcJcsFsvcuXPFsvxvYBgG0l/cxcCuXbuaNWs2bNiwMWPG9O7dmzfp/cqVK0FyHfyoY8eOCTk9V/CW27Zty8UYeNusDIVCodVqOdeX336L4zgsEy+digihYcOGwY3u6NGjnX/EnDlzYHmu8iwqk8nefvttThmKpuk9e/a89Lgxf/78q1evtm7duvwPlUrl06dP4fCmVqvFYq+GIgTgWYX4kJub28cffwwHPGh2bZ12wFdffQWhhEaNGol4/65UKn///XfQMrBYLC91MfigSZMm3JeH+GRSUlJMTExKSsr+/fubN2/O78SI4/h3331nsVhgV6QoSqxcB4lEolQquXH24MEDUWwCJkyYwHmnZrOZ3w4QHR0NbuFLP6lQKA4ePAjip61atXLSPoZhsbGxMDcqCw0FBAQcPnwY1HI4ZlRn9HwaNmy4c+fOvXv3ch8OCQlJSkri0n2joqJEGdzg4wwdOtTX19fd3T00NHTatGnr1q0DLT0uMH769OnaPo4giJ9//hkIS8WtbQgKCkpISIB95cmTJ+KfEhFCT58+LX9NxzAM9IhOp1uzZg1vSSapVBoVFQV3xDBoOnfuXF0bJE5fFmEY9sorr5w9exYmDMMwN27cqFK/ll+zb926xXVFRkYGv9d57do1aFsNqxiGYaGhoZDXTlHUqVOnnA/04TgeExMDJ8DRo0fDU9zc3Hx8fPbu3ZuWlsbd91AUdfXqVSeVMxBCjRo1io+Pnz59uru7++DBg0GDjRsYVd7y8YBCofjkk0+OHz++ffv2/fv3FxUVwcJR/kYxMTGxOoXwGtCjRw/w20eMGCFKUzm89dZbWq0W5Df45WO8BFKpFE7/DocDMjPi4uIKCgpu37791ltvCdnEMAxbtWoVaDLD5X7Nu6uTk6dBgwYXLlzghlphYeGBAwfKT5gmTZq8ePGi5uvsGgCahOAdbd++nd+UfvbsGdyjzp8/383Nzd3dXS6Xgw8GwTClUtmhQ4cLFy7o9XqKokpKSmbMmOH8tMcwLCsrC7aOx48fjxw58p133lm/fn10dHRxcTGMRYZhDAbD0qVLa6UVgeP4gwcP7t+/f/z4cUhY5244zp07J9Y+4+/vHx0dXVJScuTIkcTERBAyY/+A2WyOjY3lUbCCENqxYwfDMGlpaaLc6ZfHO++8AzHk1NTUOqleCgoKgtUIlN5GjRollUph3Ai0jGHYoUOHIJDFMAzvtIwKIAgiOTmZWz71ev3OnTvbtm3r5eWlVCpXr15N03Rto5EcEELp6emc5Rq0tWuGn59fSUkJSZK//fZbZmamxWJRq9WZmZlxcXFjxowZMGBATEyM2WwGjTSSJG/fvl2rQylCKC0tjdusQATGYDDAWAFxvsLCwlmzZvF4j40bN+bcGa6fi4uLeftHVbZ/zZo1ZWVloMDDTUKapsvKyiZNmsTvJtDHxweylD///HNxHUiEENzi0jQ9Y8YMES3/+wH379+HHs/OzhZ3IWnduvWdO3dgHpaWlopIFKBQKMxmc3l32mAwxMXFcfKAVquVX+hMqVRCzIZl2ejoaN5Xw3K5fMiQIZBjxCWOwAwxmUylpaVwfrbb7QaD4ebNm3379q3t0Pnoo4/K54jBU+ARNE0/evSoVmqh5QHHrZKSkvLaSf379+dhqjoghLp06cJl9gMMBsOtW7datGjBzxcDTQ5IAOTh2b7U+P79+6FvRVyS/g2pVMoFu52UHHO+8PT+/ftwO0RR1Llz58RdpWQyWXx8PFNOCrf8oDx+/Di/1+nu7g4dotfrjxw5IsQ1gIrVFi1abNq0qfzaD7MFJFkvXLjQqVMnDw8PHq0NCQmJjIzktJNgYptMJq1We/PmzSZNmgg5XISEhKSnp3MZoXq9XnQRjtatW5vNZm6RKisr++CDD4RsBjiOp6SksCy7c+dO0WMqCKGlS5fa7Xa9Xi9uPsm/4O7unpOTQ9P0woULnZ9jznxSJpMdOHAANA/z8/PrYiHBMCwyMtJms1mtVlCQBpn4LVu28N6BIZFAo9Hk5+c7H898KXAcb9269d69e9euXTtnzpyJEyeGhIRAEF8iIMIklUp79OixZcuWiRMn1q9fPyAgoFWrVuHh4cLD1Aihxo0bQ5oOwzDnz58XvZ4QIfTmm28mJSXp9fqkpKTGjRsLfIRUKn348KHBYOjUqZNYjSwPHx+fpKSkb7/9tq5kpGpLM+P8hxFCKpVKRA2pGh6EEJLL5VKptGnTpkIUfyQSCcyQP41z5a8MDMPef//9yZMni5LD+SfA9e5c+O8EQsjT01O4DqkLdbsX/ZXx3zp0/uQlHxJiLBbLn/ZEF/6rUFuX+38QtYoLuDqTN1xd54ILLrjgggsuuFBHqFXYvE5b4sK/IUr2HSoH4dZc+I/D9R5rRp2oXzgcDnGtIYTEtenCn4wKS6rrbVaGyJcZCoVCKpUKvK+Hqm3g6YDQPO83B6F2KD8V0qQ6Qg17PoZhjRo1quvMB9FR5dfhKoARQmJ5TCL2DJDl1EUenLgGX/48giDc3NwaN27s6+sbGhrKj+oGIeTl5XXs2LGYmJhBgwYFBASIwpMF5bMkSa5bt064tSrh5+dXF1lOb731FkmSInI9/Dno1q3byJEjFQoFjuMRERErVqzw9vYODAzkKFeED1CCIF68eGG1WkXpdqlU+uTJE5vNtmrVKlEmD+ipAMWz+LzgFZ4kl8vHjBkzePDgs2fPRkdH5+XlnT9/PiMj48KFCx9//DHoPdTKpkqlmjFjRmJiolartdlsRUVF+fn5T548adasmfBv0rVrV7VaXZmLRRQQBJGTk5Ofn9+8eXNxO71bt25ms1n0BGsOjRo1OnXq1I0bN8Q126ZNm9LS0piYGIvFYrPZ1Gp1cHCwWJMQ1n0oIaAoSiBvmFQqffPNN6EaAXLlaZq+d+/erFmzwsLCajvPYcPv3bv33r17oRq7sLDQZDIdPXq0Q4cOnBiJOEAI+fr6rly5Uq1WA8UttB4S54E3kYf2E47j8+fP1+l0RqNRp9MlJiZCsj9FUbdv3xbuWEZERBiNxsGDBwu0UyXc3NygokJcMnaEUNu2bfmxtjiJd955R6PRPH78WNwVZPHixSRJQmWT1WoVZTHl4Ovr++OPPwLVr9FoFLhONWzYkKuYq1BEBjWizmfVwtSYOXMmkC2kpaX179+/efPmUVFRL168KCkpOXz4cJV8P3w6B+oGEhMTOUYDm82WkpJy8+bNuLg40GB7+vRpbaUj5HL57t277Xa72Ww+d+7cK6+80rJly9dff/327ds0TUdFRQnfbXr27KnRaM6fP18XroKbm5vRaCwpKXnrrbfEtdy/f3+TySRcVrFKYBi2adOmkpKSIUOGiGt50aJFUG6v0+lEXP4wDPP29s7MzORq+Tdv3izwhQ4aNIhjMIQpBCqRhYWF8BMnVYngqLl582adTkeS5MqVK7mTp1wu/+GHH7RarVqtXrx4sdATKRRPPH78uDytiMlkeuutt+rVq9ezZ89t27YxDKPX6w8fPlyrTQwhNHLkSLPZTFHUd999V94lkEql+fn5drt9w4YNAnu8RYsWarU6IyOjLggOvLy8SJIsLS318PAQ0SxC6P3337daraKXtwLCw8OBu1n0U+69e/eAuW/s2LGirH2Qbv7FF19YLBaKokBNgGGYBQsWCDQ7fvx4robz3r179erVAzcSx/GCggLgPXCm7FChUMybNw+EusaNG1fhlWEYNnPmTL1ezzDMkSNHgoODebYYw7CRI0cCswjH5pKamvrjjz9C9A/H8QMHDlgslrKysl69ejlvGSHk7+9vNBpB3HPw4MHlnWmEUN++fWmaTkhIEFjHqFQqS0pK1Gq1uJTEgGnTptntdo1GI+6YRgjduHHDYrHwo/yoGaDYRdP0ypUrxY3Qurm5qdVqlmXPnz8vysInk8nmzZsXHx8PnIAlJSU5OTnAkr58+XKBxkF0DKjuGjVqxP0cZinslidOnHipHW9v7/3797Mse/DgwcoqRnAX8OOPPzIMYzab+/fvz+fMBdOd4+ez2+2PHz/eunWrp6dn+QWvV69edrv9xYsX4eHhzhvv1q1bYWEhTdPff/99ZSUc2IoLCgp486lx8Pb2vnr1qtlsFl0vHiG0ZMkShmG0Wq24Y1oqlV66dImmaeEDrjJCQkKMRiNFUeXHnyho3rw5kAaFhYUJt6ZQKIDqzmq1arVaIB0/e/ZsfHy8TqerTgDPeezcuROm4q1btyrUkS9cuBD29oKCgpqNIIQ6duwIG3Xbtm2ru8uZMmUKfGbt2rW1HioIoQ8++AAY7/R6/Z07d+bNm9emTZvKD3v77bcZhjl69Kjz2xdwLloslrS0tOouP3Acv3//PkVRAm81goODf/vtt5KSEhGJcwAymez48eMwYcS9twwNDX348KHVam3SpIm4R1yQPWUYJjc3t2Z5jNpCJpOtXbuWYZjDhw8L72qE0KBBgyBSqtFounTpAkEad3f3gwcPpqenv/feewJ75sCBA8BMuXv37vI/9/T01Ov1EDh86QEBIfTRRx+BTEgNYZ4mTZqYzWaLxXLo0KFa+wuenp4QzCRJctGiRdVNM7hFASJaJ5+BYRjMXovFUuXcBuA4np6e/lKZsZfC19fXZDJlZGSIfi4KCwuDsSK6GxkREWE2m0tKSkQ/go4fPx7kSa5duybuJG/atCmICvbs2VO4NaVSGRsbyzBMcXFxefILhNDYsWOtVuvOnTsFPmL27NlApjpz5kxup3J3dy8tLYXd0hn9BS8vr9u3b9tstjfffLOG/qxfv35eXp7dbv/4449rvWq3bNmytLSUZdmLFy/6+PhU9zEcx41GI03Tzg9HDw8PIAXct29fDUMNgpNqtVrgrqhUKs1m861bt8RlfEAIde/enWVZ0VnwpFLpwIEDKYp68uSJuGxF4eHh586dAxLRUaNGiWgZx3Hw1e/evSvKlti5c2dwTT/77LMKv/31119Zli0tLRX4FI5qcOvWrbCLqFQqTn/BbDY7s3a3bdvWZrPFxsbW7JPL5fLz58/TNP3DDz9Ut2NV7bbCvZa3t7dGo5k8eXJZWVl1H2vXrp1cLrdYLMnJyS9tt0QiwTBs6tSpjRs3Tk1NnTNnjtForM5yv379ZDLZ06dPrVarM5arg5eXl0wms1qtDMMIsVMBCKHXX38d/cE1KqJlDMPeffddHMeTk5PFrY4PCwuD+8+CgoLY2FgRLeM4/sYbbyCEgEtSuMHFixcjhMxm865duyr8CgTYhCc/HDx4EFQSaJomCEKhUPzyyy/crnPixAlnvsi2bdvgnFJcXFzDx/z9/YH2/sGDB9WNw6r3SoTQu+++S9P0xIkT9Xp9dQ+QSqXvvvuuRCIpLS118gW4ubl17dqVpmlYTqr7mEwmW7RoEUVRiYmJzpitDgih4cOHSySSZ8+eOaNO4TwcDkezZs0cDodCoRC4WFRAcHDw8OHDWZZ99OiRuMtH//79YcvKy8ureejUFlKpFLYFSF4RaA12RYlEAiGx8r/CMAz0P2iaFviUy5cvUxQlk8lGjhyZkJDw+PFjTtgTxE+daSect8+cOVNze4KDgz08PEpLS2/fvl27nOoGDRokJiYWFRXVIBkLB2ugmh85cqSTlr/44gsgw60hjiSVSidNmgRs57US2a0MHMdzcnLsdvvIkSPFPRphGFZUVMQwTGRkpIjpaQihLl26sCxbVlZWOTIuBCqV6vfff4doxL59+0S0LJFI3NzcbDYbRVFvv/228H6WyWRarRZc9Aq/atu2LVyqFRYWCnwKQRAgNUOSpMVi0el03M35999/74wFhBAQ2/v7+9fwrVUq1ZEjRxiGuXr1aq1PSSNGjCBJ8urVq9WdVWQyWfPmzcvKyiiKOn36tPOHpeTkZIZhaoi1+vn5jRw5srCwkCTJJUuWCLye6tSpk9ls1ul0vOXgq4NSqXz48CHDMMKTEMpDKpXevn2bYZiYmBhxL0hatmzJia6JHkweMWKE1WoVS8ase/fuoBaamZlZvqlt27bNzMyE2fLxxx8LfApCaOjQoTCX4NAI/6jsElcHX19fOPjU8Kb8/f2nT58OQcqJEyfWejyvXr3aZDLFxcVxCr5c6xFCzZs337RpEyQQZGZmOh/hRAiBWkOVok5SqfTTTz/NzMyEQNyxY8cE7jYIoZiYGMilEP1+Xy6XZ2ZmMgyzf/9+EW8yWrVqBYv0iBEjRJzhBEGsW7cOpmJSUpLoiUfDhw8nSdJgMFSnbew8IAABiaZ37txp1KiRp6enm5tb586dYcg5xJNz7969e0lJSfk0VJIknR8q9erVg/v2ygNALperVKpff/3VaDQCI/uhQ4f4uDmffPKJxWKxWCzfffdd+/btQdtIKpXKZLI+ffpcvHgRAuJxcXE1b80V0KBBg7KystLS0gp/gmGYUqmcPn26TqeDlWnMmDHCx7dcLk9OTrbZbDNnzhQ9AVUulyclJYEcmljGEUL79+8nSTInJ0eUW3IOBEH88ssvML7Hjx8vomXA559/TlFUXl6eKMFkuFGENKa4uLgHDx4kJSVxelUOh+PFixei9DlBEHl5eeXTwY8dO+b8n0+YMMFqtRqNxubNm0v+qKKUy+XLli1LTU199uwZTBOz2Tx69Gie4zk4ODg5OdlqtVqt1rS0tM2bN//jH//45ptv3nzzzcuXL8Oe/uTJk9oKOUilUjirlP8rpVK5bdu20tJS7l61hsvGWiEwMDA7O9tkMjVq1Ej0qYjjOCTHb9q0SSzjXl5eubm5DMPcu3fPGZvOPxfH8ZkzZ0IqTK0kxJ3EgAEDKIpKSUkR5caoW7duUKkD1+J2u50rAHI4HBaLpYLmMW94e3tzU5FlWZ1OV6sMJJVKBavbxo0bV6xYkZCQAOronOqJVqvdu3evoOMAhmHLli3T6XQgwceyrMViAdkTm81mMpny8vJeeeWV2g7BBg0aFBUV0TRN03SvXr127dpltVpBCoYkydzcXD8/PxFDID4+PpAUzz8Ht0Z8++23drt9xYoVYk3Fvn37gjMCUV8R4eXlFRUVxbJscXFxXdRA7t69G67XRPHVf/rpJ7ishl2lvBgWJJwIfwQgODiYk9nNy8urbapGYGBgXl4eHBch/EPTdFJSklarnTVrVmhoqDgDQ6VSvfHGG3l5eVwhCUwYk8m0b9++kJAQfqX6J06cKC0tNRqNJElyHc0wTIMGDUTfuJo3b05RlMFgEIUQoDLGjh1LUdSuXbtEia8ghNavX88wjFqtFl3JJzQ0FBL6Hz9+XBckHV9//TUUKAo/hUJWp0aj4TSquP9aLJahQ4eKOE6Cg4Ph/KzX6wcNGsSj8e3atfvggw+SkpLu3LnTo0ePqVOn8iiddwoKhWLkyJHHjh07c+bM1KlTJ02aVK9ePSFPQgiFhYX5+fm99dZbr7/+erNmzeqCVgTQrFkzkEarI4YYuFF8+vSpWPYfPHjAsqy4qaEANze3tLS0srKyAwcO1EVvjxo1iqZpo9EoSlfgOL5v3z4oiYIJqdVq9+zZI7pCjlQqTUlJKS4ubtiwIe+W4zj+Z9PYOAOxqBNEQWBgYFRUVGZmZh1NRUiEELG6183NbeXKlXUiHF33jPrianUghEaMGHH9+vXIyMi33377b0e35UJFiMwp4oILfwv8RTZDDnW9D7jgggsuuOCCCy644IILLrjgggsuuPDXiwm54ML/NFw3E/+z+IvepIuHP3tkV9ebUqnU29vbGTaRWr0P12XGn48Ky6Uo/Q9J0aJn25QHjuN/+4VeeF8jhKKiohiG4RgNqkOtUjqGDx9+7NixBQsWiJ6/8ie8MxzH3dzc/ppadNUBIbRy5UqSJHU63ffffz9p0qQuXbrUq1evAnEuD7PPnz93OBw1cEoIQWho6M6dO/Pz8y9evNitWzex1g6pVFoXEmNVA8fxn376KTc3V+ByhRCaMGGCxWIRceQhhPbt2weVncXFxeKSsimVygULFpw8efLFixd5eXmisEiUR3BwMJScGgyG0NBQscziOL548eKoqKgff/yxU6dOovsLjRs31uv1nA4MoKysTGBpP0Lozp07RqNR3CUVIeTh4TF79uzTp09D+RhktI8bN05gz8hksitXroCmwPbt2+tk4eZSTBFCBEHs3LkTigxPnjwp0Oz27dutVquIUxHDsISEBG5AfPLJJ2JZlkgkCKEePXqkpaWB8aysLHG7e+nSpZw+l4iyGVA1Bm2mKComJua1114Ta3wjhICOHqYisGtDJvfevXuFWMYw7PHjxxqNRtzyrtDQ0Li4OKPRaDKZnj9/TlEUUEyQJFmz8M5LTz0hISGwJDkcjoKCApGdMoVC0adPn6+//jo2NjY3N/f58+dr166NjIy8ffu2VqvVaDRCZhFBEA8ePLBareLSfg4cOLCsrAxqyZwsxnUeOI5nZWXBhLl//764xufMmQNj+tmzZyIWTIWGhkJxHajxURQVGxv74Ycf+vj4CG+/XC4vLi7mCpqeP39+6NCh8ePH//jjjzXw6DoDqVSalJRkMpnEIijCMGzy5MkGgwHU0Pr27QtnAblc/ttvv+Xl5Wm12io12JwBQqh+/foajQa6wmaz1VZerVrIZLIOHTrADsApQup0uoULF86cOTM1NRUEVoVQsyGENBqN1WoVtz7Iy8vr8uXLsNQVFxeLS2+DEPrtt9+AI0yj0YhrGfSYGIYBrj5RzMpksi1btpjN5tzc3MzMTJCFhM4pLS0Vru7WpUsXq9UKW4FWqw0LC/P391coFN27dxd4ZHJ3dwfVGlEo8BBC3bp1A4MbNmyo0DaZTJabm8uy7Ny5c/l5OgRB9O3bt6ysjJsvAkWv/gUMw6ZPn56VlWU2m8HrSEtLmzNnzo8//qhUKr29vV977TWKotRqtZCVDyH05MkTiqLE1bvGMOz777+H2uqCgoJ58+aJaBzH8Q8++ACqn9VqtYi7ooeHR15eHtSzbt26VSyzX331FU3TGo3m5MmTs2bN2rZt29OnT0Hrk6KoqVOnCvFrEEJr1qyBwQdCLmI1W/IHA43VahXOo4EQ8vf312g0JpPp0aNHVSqxbt++3W63P3jwoLYV50CU3KpVq9WrV4PoKHTIzz//LHR4IIQGDx4MNHgwMmbNmuXj48NR2sCzL126ZDKZhJBWYBiWl5cHcgvienotW7YExgSj0RgVFSWiZYTQtm3bDAYDwzBlZWUiNtvT09NgMIDrcfXqVbHMpqWlMQyTnp7etGlTmUwWEhKyb98+KO1nWZaPrEo5EATBeac0TYt7OvLx8Xn+/DlN05VJ+2sLDw+PrKwsmqbXrl0rlUqr3Pe8vb0tFovBYHB+QQGCKalU6u/v36JFi/Hjx9+8eROWaYfD4WSz/5+kYYXxFBQUBPEfg8Gwb98+4JgC/h9g2oYFFQgghPCIORwOtVotkUhMJpO4pPfJyclGoxEhpFKpoqOjRZwwOI43a9YMAgn5+fkiNlupVMpkMmDB279/v1hm/fz8QB4zNzfXbrcXFhYuWbIEhAAYhvHx8RHCRA5E9/Bv2NLFabREIpFI5HJ5aWkpSZIXLlwQ8gYJgvjiiy8CAwPv3bu3ZMkSoNKo/DGj0Qhsq86Q7uE4HhISsnz58saNGyuVSi8vL2A3ttlsUqkUIeRwOITyuUil0q+//hpIDe7fvx8YGFhlLyCEvvrqK4Zhbty4wftZGIaBVM6AAQMENLlq/P777+Cy379/X0SzSqWSo4pMTU0V0XK9evXAbwRSc1FsIoSKi4utVuvevXu599ioUSM4FwnXWvT09IQ2A32OGE3+N0JDQ4uKiiwWixCSVVD/hesKb2/vGqa0TCYrLi62WCzOSPfOnz8/IyPj2LFj9erVg3wgHMfr1auXm5sLcQSGYZxsdrUH0w4dOsyePRvH8ezs7OPHj4PSVeWPORwOaPGjR4+ceV6VIAgiPz9fIpEIpOWvEvfv33c4HAghnU4notkePXpwrDxms1lEy2+99RY4eCzLiiUygxBiGAbH8QcPHoBxcILgpoRhmLy8PCH2Z82aBWatVuvbb78tSps5sCzr6emp1WqF6GQEBwd//PHHCKG9e/fW7HyFh4fDbllBrqMyWrVq9d133zVo0MBmswE9Isw9m83G0fzYbDYnRa+qPqm7u7vPnz/fx8cnLy9vypQpMJqr/CSGYWaz2eFwnD59GtVKl6McWJaFXddut/P485oBd9kOh0NcwZZ27dpxcY4dO3aIaJnzmmw2W3UaXrWFw+GIj4/v2rXr6dOnYWEKDAy8evUqOFG8XxyH+vXrw6qUkZHhpKaYk0AItW3bVi6X63Q63ksehmGLFy9u0aJFWVnZ1q1ba5jSOI537tzZ19dXr9e/1BkOCgqC5BaSJMu792az2dfXF/6dlJQkyF3v3r078DG/lMw3KChIq9UKvMzAMCw+Pp5l2e3bt/M2Up1lSEJgGEYUOQfObG5uLkdlW16LUzhAmNrhcFSmUecNiHDGxMQAgbxMJjt8+DCc+R0OR3R0tBDjMpkM6O7tdnsFZQfhwDDs4sWLLMueOnWKdx6FQqFISEigKGrZsmU1GEEIRUREgMDuunXrXpqh9fjxYxgAs2bNKm82MDDQZrPBr4Qm6129epWm6QcPHtR8IySTyeAG7PHjx0KCZgghyAI5c+YM75B6lV3s7u5ut9vhpkvEhJgWLVqAWXBIRMxNQwglJyeD5fT0dLHMSiSStm3bTp48uXv37suXLz9w4IDNZoNoO8MwH374oRDLY8aMgd4oLCwUPWNbJpMZjUaKokDNkp+R1atXgxJJkyZNqvsMQqhZs2aZmZkURZWWljpzr2Y0GuFNPXr0iItaYRi2ceNGWOMgZMivzf9CdHQ0y7IRERHVGYJrjDlz5phMJpPJJHDqYxgGariPHz/mJ3mNYVjlbVkmk4FEIcuyr732mpAWVngWMG3Da8jPzxdxkrdr145jwv7mm2/EMgvr/S+//HLgwAGIoEKqBsMw2dnZQtJBMAy7du0aWBNXyRjQo0cPm81ms9kaNmzIzwKGYb/88gvDMOfPn68uX0cqlb722msQpzWbze3atXPmncKZ0+FwlJWVQcQEIfTOO+9ABMvhcAhPnJDo9Xq73V7dOiSTybp06XLz5k2LxaJWq1u0aCFw6iOEZs+eTVFUTk5O06ZN+RmpUM+G4zjktdI0XVZWJlrykUTi7u5uMBi4LXH27Nm8TWF/AP7Xx8cnIyOD83tFzD0iCGL79u0lJSUc5TY8wmAwTJgwQYjlzp07w83zkydPRK+AQQh9+OGHdrs9Ly+Pdw4JnDMpijp+/HjlYQBJ4TNmzICDjM1mW7RokZNf5Pz581xPkiS5adOm7du3WywW+IndbhfBR7h69ardbo+Oji7fJjjfh4WFzZ8/v6CgANQ5Ro8eLcqeMGbMGJgzAhPo4IIrICBg6NChjx8/hksecQVbuGsM8EyEfP3mzZt37tz5iy++8PPzUyqVv//+O6e2KRbTNsDNze38+fNwk8aJI5Ak+cUXXwhZRnEcP336tM1mq1kVlzcQQsuWLbPZbLdu3eI9zyESQZJkTExM5QOXt7f3lClTNBoNTdNarXbx4sXOq80olUou1w/yB0tKSrgkm+fPn/Nr8P/DyJEjMzMzk5OTv/3224CAALlc3qRJk3fffXf06NG7du2CJLiysrIePXqItRDOmDHDbDYXFxcLDIUjhMaMGZOdnW02myGN84cffhA9EbywsBBWPoH3fgRBhISEtGnTZtmyZdevX+fmIfi9Ija7VatWoP/FjZuysjK4rBJi1t3dPSMjw263X7t2rS5q8zAMW7p0KUmS27ZtE9LUCxcu2Gy2goKC9evXl08UCwwMnDp1amFhIUVR+fn5Q4cOre11/KlTp9hy6jrle3jKlCm8G/xvyOXyM2fOgJgW1HGZTCa73Q4JxGazWavViquU1r9/fyjPA6V1IXjzzTe1Wi1c76SkpPA7fNYAmUym0Wgg00ig34thmJubm7+//549e0DOjXupJpNJrMGNENq1axd3gIEt9+jRo8JrPiZPnmy329VqdV3kZgCio6PtdvujR4+E9EaPHj0sFgso83788cfTp08PCQmZNWvWokWLioqK9Hp9Xl5e69ateRRhdevWDYKlFWC323fu3CnCBEEItWrVKiUlhZO2A8A83L59u7iVuBKJZN26dSCSPH78eIFfIDQ0FPpdr9cvXbpU9MJNiOnBgBZFSRvH8S5duqSkpJQ/yFEUJVbJGIZhJ06cgC0X3uOTJ09EeYPbtm2jafr06dOir3cAhNDBgwetVmtsbKyQ9+jm5paRkWE2m2maBh1Bg8FgtVpB1Gz9+vW8JT0Jghg6dCinicb+oaz44MEDUepIJBKJBCGkUCjatGkza9asTz/99NNPPx0/fnzz5s1FjH+Uf9bKlSvz8vJWrlwJCsdCrMlksrt37z569Ojrr7+uiwJqqJGlabqoqEgsOTelUhkVFWUymUB8kmGYW7duidh4giC2bdumVqvLyspWrVol1ks8cuSIxWJZtWpV3TGMfPLJJwaDoXv37kKMYBjWokWLlJQU8NIZhoEs3AsXLrRp00Zg41Uq1fLly7///vu0tLSioqInT540b95cJpPVdhj/VSiYPD09Yav5TzfEWeA4DpuMcFOQrT5lypTWrVvn5uaeO3cuPz9fr9cLt1zXgIoEsfqhSri7ux8/fvz1118XkvUGwDDM09Nzx44dSqXyt99+O3XqlFqtFm72fw6iE7H8pfC35xqrS/x3v/q/GWQy2d+L+6xWeClXigviwtXbPAFekKv7/mvgepUuuOCCCy644IILLrjgwv8cXDEYF/jBFUMXE65J6AJv8J+KoM7hGnwcEEJdu3b18PAQkc+77uDm5tawYcM6uiJCf0Bcm3UUSMdxXKVS/S1vy3Acf++990iSzM/PF04MJZVK58yZk5aWZjabf//99zoS7iIIYvDgwf369aujtWPmzJlQya7X68WtUUAIvfbaa1evXhUxzxM41BiGuXjxouhD0NvbOzs7G7I9J02aJNxg06ZNv/rqK5IkSZIsKSk5efIk76LWypBKpcnJyTRNkyTZvHlzscxKJBJfX99Lly61b99eRJsVERAQUFpaCryMAvOhZTLZyZMnwRRUgURGRoqrnCGRSBBCU6dOBcpW3sXgNWDy5MlFRUWQ/5WUlCTibCcIYubMmRRFFRcXi9VyHx+f5ORkyF02Go1CWTr/P7y8vB4/fqxWq8F+bGyskIVJpVJt3boVSKXL1z1QFCWEiLE8WrduDcIqUIolik2JRILjeHJyst1uX7RokVg2KwIhtGrVKpg5ubm5AtfUpk2bQhFWcXFxYWGhTqczGAzvvPOOuIlgOI4/ffqUZVmNRiMiDw0gIiKCq4632+3x8fEiGg8KCjKbzXa7vW/fvmLZHDFiBFQSWK3WhQsXimVWIpH4+/vfv39fr9eDOAJFUSaTiTdpP0IoNTW1wiTkygJFmTZQ+QGD2WAwvP/++8JtAsLCwmw2G8MwNYtSCQKO42lpaaAdJ5B8RaFQ5OfnAxnBnTt3Ll68qNPptFrt/fv3Q0JCxGqwRCIJDAzU6/U0TZtMJnGFwVQqFSftBk7O0qVLxTIulUq3b99O0/Tdu3dF3GmXLFkC80Sn04m4JYaHhxcXF9N/gCtzTU9P5+E6YRi2atWq8rXUFSDKQQDDsMjISJqmgZlfxCPAvHnzzGaz0WgUd7z9P6hUKoqiQMdG4GP++c9/kiQJdZbR0dHDhg1LS0uz2Ww5OTnichOHhobCrqXT6UTcb1UqFdDvwToNdBV5eXliTZshQ4YAN49A6u7yQAidO3fO8YdkjVhmCYK4fft2edYc8CrhxDh8+PDa1uBHRERotdrq5iHg4sWLApstk8mePXsG7oy4Og5ff/01SZJJSUl1mOgPayrLstOmTRNiZ9iwYUDI43A4gEB+2bJlCQkJNE0/f/5cCHdTBSCEFixYAFPx6tWronQ3UPp+8MEHQMfscDhgK2BZ1mw2i0IyIpVKX7x4QdP0lStXRAzJEgTx7NkzhmFEZIVCCB06dIh7mw6Hw2w2nz17FuoDgQOpVhsOjuMvXryoeR5CnwtcpOBEBz6CiEcADMMePHhA0/Tly5fraipiGHb+/HlYRYSMD4Ignj9/zgnQPXv2rG3btg0aNNi+fTssqPv27ROrzVKpFDRJGYbp37+/cIMYhr3++uunTp3i5CwdDgfUboOzLQpTm5eXF5y4aqDu5AE/P7/CwkKWZc+fPy+WTZVKFRsbC7xv8ELffPNNqVTq4+MzZsyY0tLS4uLiWqmUenl5lT8iAkdR+YMi9+8HDx4Iabmbmxv0hvPKFs4AIQS6XcnJyaLwPFQBDw+Phw8fsix77NgxIdtLaGgouKbg1y1YsCAiIqJ///4gEMkwjFg04bAlAvuI0WgUfrrAcbxr165ZWVnZ2dkw97ixwsmVfP3118Kb3b9/f4Zhnj17xlv+tkqz77//PtTLdunSRUSz48ePB7J6lmXVajV3I6VQKDIyMjQaTa2m4vr168vPQ+AIBl/XYDAAyxm3MTqj91QdVCpVeno6y7J6vV7E8ASGYUCPkpWVVRfsWxKJRDJo0CBww6ZPny7ETq9eveDAabVa79+/P3z48KZNm06YMEGtVjscDoPBIKR/y0OpVHKB9bVr1wq0hhCaMmUKR2QCo4Tj4OLohtasWSPwQQRBxMXFsSy7adMmEQ8wGIb9+uuvsGq0bNlSLLMSiSQsLAxojlmWjYuL49oMrualS5ecd4YRQuW9U4qiXnvtNaVS6e/v7+HhERAQoFQqgQYOlvLIyEjeYfxhw4aBWkFKSoqIniSO46mpqSzLZmRk1EnYRqlUHjhwgGXZtLQ0gZG31atXw1DWaDSnTp367rvvVq1alZiYCKQjIkbYJ02aBDPEarUKjxa2aNECeC+5kKnRaNTr9RaLBeYkjB7hqt3h4eGgRiQugyuIjbEsq9Vqxb28HTVqFKej9M9//pP7uUwmGzJkSK3OMk2bNi0f/klNTa3QmQih8PBw7iLXZDLxI3SSyWQ//fQTLEzfffcdDwvVQSqVQlz94sWLzo+EWiwnnp6eY8aMkUgkv/76q9Vq5dFEDoGBgXCTExMT8+jRo8zMTJqmO3To4O3tnZ6evnHjRiHGyyM0NFQmkzkcjvj4eIHSa+7u7tu3b4dFDqSXMjIytm/fLpPJ6tWrFxYW1qZNm8aNG+M47u/vj2GYEOXQQYMGyWSy58+fFxYWCmlzBfj5+QUFBSGEEhMTTSaTiJaLi4thzNnt9qNHj3I/t9vtN27cqBXzTXlHwOFwrF692vH/GY8cDkdubm6vXr3i4uI8PDyUSuWyZctmzpxZ2zYrlcrXXnsNwzCj0XjkyJHa/nkNcDgc0M91RZwzfPhwuC8SHmu6efOm3W63Wq137949evTo+PHjV65cuXTp0vDwcFGaCsAwLCYmxuFwqNVqIfrkgHfeeQd8XXDRU1JSZsyYERwc/Morr/j4+Hh5eXXt2vXp06dWqzU7O1tI5EYqlYJ7ExMTIy71/YQJE2ATEH6arYD9+/fDPpacnCzQIygfzzObzdVZw3H8rbfegmTDhIQEHg8C6l2WZbOzs8VNOQKhbofDkZ2dLf6uSBDEa6+9huN4UVGRcKHCLVu2dOrUSS6XBwcHBwQEJCUlZWVl7du3j6IogZbLo02bNq1bt3Y4HEVFRU7KTdaAt956y8fHByEEzHRLliy5e/duSUlJcXExLNsPHjzo2rXrvn37xo4d27hx44KCAn4PUigUoLZ5+vRpIVtrBSCEPD09QcRSiC5tZWAY1qdPH/j3N9984xBG2+fv7w//YBhmzZo11VljWTYgIAAOeA6Hg4dE5Lhx4+CQeffuXYFeXgU4/qDAgxR2EV+iRCKRqFQqOOCePHlS+AG3W7duFovFZrOp1eqioqIVK1aoVCpxE7UJggAeXpPJ1KpVK+EGz58/DxFCk8m0f/9+GNYVPgM3bHa7PS4ujt9TEEJHjhyBxB0RY6cSiYQgCFBZz8/PF3cTCAgIgIOixWIRODYQQtwhkCRJboZXhpeX16FDh+CTN2/erO3gUalUcPtiNptrFd11BhiGQQCSJEnnA5DOdpyHhwd8bciB4NvIf8Fms2EYJpfLwbUbP368t7e3cLMcEEKNGzceNmwYwzDHjx9/8eKFcJthYWHwvnEcP3/+fHXrKFwDNmzYkN/KEhQUNGzYMIlEUlxcbDAYBLS3Iry9vTEMY1kWpMtEtLxkyRL4siB4KsSUw+E4dOgQy7IIIZlMtnHjxiq70c3NbdSoUf/4xz/gT6pTp68Bb7zxhlQqdTgcSUlJ4vYzNAk8Z4SQ8JNRRfj5+YHipCiiHFKptKSkhGVZi8Wi0WhWrVoVHh4O8mai1Lm5ubkdP37caDRGRUWJcnWLEIJkRYfDYbPZ1q1bV2Uxl6enp16vpyhq586d/B7UuHFj4JP/5ZdfxE3UgGAyRVFz584V0SxC6MGDBxBSFijmA/D29gZlO4ixHzp0qPzVHMjODB8+PDMzEz5gMplqW7OCEAKxIJIkBfKOV4cTJ07AsVzEFPN/oVmzZnq93mq1iqIEQBAElErA5bjFYsnMzPzqq6/u3buXlJTUr18/IaMQIfTWW28VFRWVlZUNGjRIrEy3+Ph4cFBJkrxw4UKDBg0qKN65ubnBlzKbzbyvCho2bFhSUmI2m8eNGyeix47j+Lp162iazsvLE7dMDCEEMVKWZdetWydKmzt37syJ7UAlV6tWrRo3brxw4cJDhw49fvyYuzeyWCxbtmyprX2ZTFZUVAQVbXVUMXz27FkY28nJySKbDgoKArkPUY4ZIDsBbeV0PyCcxTDM2rVrhWTVhYeHJycnMwxz5coVsQqRpVJpbGwsNC85OfnGjRsjR4708/Pz8PC4fPlyXFxcVFQUnD0YhunduzfvEUkQRGFhIUmSGzZsEHGUhIaGZmRkMAzz8OFDcVOxEEKLFi2CN3jy5EmxQr4ymSwhIYG76OdUzOBm3/GHlujt27e9vb1r29urVq2CPI1du3bVUSn53r17uQoEkRNuGjZsaDQaCwoKxKoSaNSoEaS5cYljDMMYjcYnT54Ime0IoZ49e1osFqvVyrtSrkqzUVFRBoNh9+7db7zxBoiTIIRwHO/Tpw+8VzimP3v2TMhwRAh16tQpPT392LFjIt5kTJ061WKxkCQ5a9Ys0bWBe/XqBbV5arXa19dXLLMIocmTJ4NOJqcfys1Dm80WHR0dGhpa27nUoEEDjUYDmVIdOnQQq7UVsGnTJmizTqeDO0bRTAcEBJhMJpvN1qlTJ7FsdunSJS8vT6fT5eTkJCQkzJw5U5QKtMmTJ1sslpycHKVSKUo7AZB4VblPZTLZihUrLBaLXq8/ePCg8LAnjuO//vqriIUCEonEx8cnPj5+9+7d4kcRJBI3NzeTyQTDrnXr1uIaVygUo0eP3rlz56JFiw4dOqTT6YqKirKzsz/55JOWLVvW1uvBcfzcuXNQRjN9+vS6q2Dq0aOHWq02GAwzZszw9fUVcyrCrdSgQYNEX1NFByh41ZHiX3VPbNSoUbdu3cSa/ARB/L34u6RSae/evYODg/8cHR5+nQPn+U2bNp06dWrZsmV12lSCIHAcr8NH/L3Gx58MV+f89QHvyPWmXHDBhZfh77hOuNr851h2wQUXXHDBBRdccMEFF/67UeVpwiVf44IL/wFUvudwTUUXXPhTAXlalUtJXFNRZIirdoTKQSybEonk76iaVBf9wAHDMNErZqt7kLe3dw11mE7hT0gBCQoK2rNnz3ffffc3Dc2/9tprkFK7efNmHgWp5SeeQqHo1KnTsWPHDAaDxWKxWCyisAO6u7ufOHGisLBw6NChwq3VDLFyjxBCLVu2tFgsZWVlIua4cmjVqlVOTs7y5cvretQRBJGQkEBR1E8//cR/NYT69Dt37qxdu9bLy0vUFv4bgYGBUK23d+9eEfvFw8OjZ8+ed+/eHTNmTERERHBwcB0pQ86cORPIby5evNiyZctaPQLH8bCwMLlczv2VUqm8c+cOEB9DnaGQghWE0Jo1a9LT081ms81my8rKatq0qZA9PCgoaMiQIcuXL4+IiKicwd+oUaPIyMhWrVoJTP7CMKxDhw55eXlWq9VqtT579qxZs2biElKCvt2vv/5ah/oWEglBEMCNZLfb582bJ6hbTp8+TVFUSUlJlWy2ovRO9+7dIQ3/yJEjYuXvEQQRFRUFafIcY+K2bdvEJZWQSCQ4jl+4cMFms8GDIiMja9UnPj4+o0ePLv8nCKHWrVvDVKRpOi0tjXd9E0Lou+++S01NLS0tTU5Ozs7Ojo6Ozs3N3bBhA4/8dYSQSqV68OAB1C4VFRVVzkyePHmyzWa7cOGCkPGNEAoKCkpKSrLZbGaz2WAwWK1WqHXgbbMCMAyD6jxRauKrA47jsbGxUFOSlZXVpk0bQfNl4MCBNputtLTU3d29wq8QQqLsMxMnTlSr1RaLZdCgQQJNcQ0bPXq0wWCA0QxlyiRJ3rx5c86cOeIurq+88sqhQ4eSkpKgAKe29DYhISGVV59XXnkF3ASapnlzUiKExo8fbzQatVrtgAEDfH19pVJp165dCwsL9Xp9dHQ0j/qG/v37Q6mR2WweOXJkhalIEMSbb74J/Jq8lzwMwwYMGJCTk2MwGNRq9cOHD8+ePQsSd2fPnhXr3YEck9Fo7NevnygGKwO+CHDJ0zQ9ceJEoTUVwcHBwEdcuehBqVQGBAQIDwaA7GlWVpYo9R8IoZCQEPsf2Lhx4/z58+/fvw8Uknq9XqzCYoTQ0KFD9Xp9WVnZkiVL8vPzzWbz8+fPnR8uCKHKJysMw7755hsgwKdpeubMmfzGX2hoaFZWVmlpaYX6fYIgLl68yLLs8ePHa/Xu2rRpA3oNer2+RYsWlT/g7u4OZfK///47vzYTBDFt2jTg5Lfb7StWrGjcuLGXl9ePP/5IkmRhYaFYTlObNm0YhtFqtT4+PqIYLA/Y1R89egRUN0CN3bx5c6HryKJFixiG0el0jRs3Lv9zDMMaN248Z84cgb0DgqQMw1y6dEmUwufGjRsXFRXRNJ2enj5p0qTw8HAcx8PDw7VaLcMw+fn5olB9EQQRHx+v1+sZhnn+/HlCQsKNGzcoiqqVSFiVn8RxPDIykuPq5Ne9YWFhQM4/ePDgChYQQh06dCBJ0mq1ciRazjT13r17Op2OYZgqJzCO43379gV5ptWrV/Noc2ho6I4dO2w2m81ms9vtUVFRPXv2BM+rZcuW4KaKFRP65ZdfWJYtKCgQl4MXWjtnzhyj0cgpO0C5swiVxLNmzYJC+zfffLP8Sw0ODt66deuIESMEPsDLywuG3euvvy6ooRKJRCKRy+X3798H6eyhQ4dy2ywccuCLCKxpRAh5eXkBjwZQaZSWlkZGRhYUFDx//vydd94R2CE+Pj46nQ4s8wt4EgRx7NgxmqaLi4urdDTc3NxABWTr1q1OtrZt27aZmZkURV29erXKDyCEtmzZwrKsRqOpkqKyZgQFBanVanAEtFrtTz/9VD5q6u/vD6vA8OHDhfuoOI7PnDnT4XCYzWaxaC8QQqGhoYMHD75z547FYoElCcg1KIpKSEhQKpVCW968eXO9Xp+amsrFPAiCeOWVV54+fWoymQYMGCDwC/Tr1w8k0T/88ENBDZVIEEKffPIJ6Iq//vrr5RdvgiAg/mQ0GoWwvMABDKisQeoDgiKwBJrNZuG1y127dgUqF7Vazc9C9+7dYWPp2LFjlR9ACHXp0qWgoKC4uNhJH7VHjx6lpaUURdUwniIjI0G8pbYhX6lUCvKPdrt97969np6elXfya9eusSx76NAh4acYPz+/devWsSw7e/ZsUaYijuPvvvvuiRMn0tLSLl68eOzYscmTJ7/++us3btyAwKHNZhOFqE3SvHnz999/PygoqFu3buPGjbt37x484NmzZwInupubGxCHJSQkCO8UuAagafq9996rYM3NzQ3IhUtKSnhHFBBCGzdu5FRrioqKIiMjp02bxpHcbNu2TWCHIIR27NgB+y2/l4cQAkfm6dOn1XUpQkgul+fm5hYWFjqj9IwQunPnDsuyJSUlNXzBhIQEq9Wak5NTW6+vXr16ZWVlNptt1apVAQEBVT6id+/edrtdp9NVDh/WFp6enmVlZRRFiXVQHDp0KEmSFEWtWbOmQYMGsI4ghOrVqwcEwjRNi0KQLUEIeXh4yOXylStXXr9+nbseePvtt4WYhdMFRMa//vpr4YP4u+++A15wjvWdg5eX140bNxiGefToEb+pCPfvZWVlZrNZrVbHxsa2bNkyNDR09+7dnHa8QK5RhBDIFjgcDt56Y97e3qDx+s9//rOGLiUIQqPR6HQ6Z3wEX19f8JnbtGlT3WcwDLt79y5FURaLZd26dc43GCH0yy+/aDSa/Px8IPKqocF2u11gKgiGYWFhYTRN63Q6UW4UPTw80tPTIUpf4Sjr5uYGBHYg0yT8WRLJH7G+bdu2cUGh8+fPC9zHPDw8bt68ybJsUVGRcJ4iDMMg8paRkVHBh0EIderUKS8vT8jVpVwuP3TokNlsjo2NfeWVV7jRIJfLQbTE4XDw1odECI0YMeLUqVNwuqBpevDgwfxMDR48mKIog8FQ882hTCbLyMgwGAzOxJO9vb1h269h7CKE9u7dq1argZPS+dkSERFhMplKS0tr/soeHh7ANytQwxwhtHLlSofDce3aNVGuRpo1awYDr7IQHY7jK1asgLNMdYcFPnB3d//111+Bl7K4uFi4P9mzZ0840mzevFn4AcDT0xMuAB48eFChR2Qy2Y4dO9LT000m086dO/mdFdu2bavRaIqKiurVq1fhRn7v3r0wFXnHZiMiIkCbBBLoLl++zLtD+vXrZ7Vaz5w5U/OK4+Pjk5mZaTQanZmKgwYNgi9YM+fykCFDkpOTHz16dP/+fedzs4CwcN++fTWfWr28vEpKSiAGLmS0eHl5lZaWMgzTuXNn3kbK49GjRyaTyWw2V05RRAh17NgRvEhQRhQBCKHFixfb7Xaz2bx69WrhMeXAwEDYEk+cOCFc2RPDMND6MhgMFdxmDMO6deuWm5sLCTeff/45j0UEx/Hr16+TJFllgDQqKsqZkVodEEJarZabhzExMbyvahFCn3/+uc1m27FjRw1GMAwDbbP4+HhnhrVSqYTmnTx5sro5hhByd3fv0KHDwYMHjx8/7nxmTE5ODsuya9asqaElOI6PGDECXIYjR47w3s0gk8nhcNy4cUOUS2wcx4HXlyTJKg+xkBTJsuzcuXPFyU/w8vJKSUkhSXLw4MHCvwNCCGYORVGiMH9KpdKrV69arVaTyVSekhjDsL1793IM3yUlJX369Kmtg4oQatSokcViyc3NrXzQxzAMdFTsdjuPnkEIHThwAE6bLMumpKQIpPFu3759aWnp4cOHa2hM/fr1k5OTaZoeNWqUMzY9PT1h06YoauXKlVUOKfSH8syJEycOHz7s5LdACD1+/Jhl2W+++aa6tQPyUSHLR2B+PI7jMPNFuTnDMGzVqlVWqxXSjysv8TiOz5s3D9IVapdJVt2hGSHk6+sLY1GUtcTDwyMjI4Nl2adPn4pi0NPT8+TJk6mpqUuXLoVSEgzDgoKCTpw4YbfbQWuBpmlQC66tcYTQ5cuXqwsYuLm5QUjjwoULPFreqVMns9kMm2peXp7wNMvGjRtrtVqTyRQYGFj5twghPz+/Bw8e0DR9//59J0OICKEpU6bAzR5Ezj/44IMuXbq4u7tz0kN+fn6zZs36/fffx40bV6tvcfXqVZvNFhUVVWVMiCCIHj16wM5D0/T69euFuAwtWrRgWdZqtYoihA4Re2C4T09PDwsL4wYzQgjH8dmzZ8P9c2ZmZi2e6OnpWVJS8tprr1X+VUBAwGeffWY2m0eMGCH8CyCEvv32W5qmrVbre++9J8qu3aBBg4SEhBMnTrRr144bGYcOHSouLobRY7fbr127xq/EAQQtKIoaO3Zs5d+Gh4fb7XaLxcIjb0MqlULyKqR9C00X/qO1er3eZrNVzr6AS9HU1FSSJIuKipo2ber843Acv3jxInQmZHKRJHnp0qUJEyY0atRo9OjRU6dONZlMd+7cqa3/HxQUBLkpp06dCgwMRH9wlkLIGtSj7HY7SZJxcXECy4Pi4uJoms7NzRWlzMjDwyMvLw8uq7Ozs994440WLVr4+fl17tx51KhRz58/h22grKxs2LBhtdhyvL29IaG5wqqDYdicOXPMZnNJSYkoAdmgoKDExESKop48eSKk/Kc8li1bZrVaL168qFAo/Pz8JkyYEB0dDUk8oMe2ZMkS3qmnCoVCrVbb7fY7d+5UHtwjRoxITk7mkXWEENq/fz+sqS9evGjevDm/5lXGoUOHaJq+dOkSjuPcyJbJZPPmzSstLTUajXFxcTzuXcLCwrhYMYCm6cLCwvnz569evXrXrl3r1q2rfI3kDN577z273Q6570FBQc2aNWvXrl39+vVHjhyZk5MDmSvXr1+vMvHVeXh7e6vVaoqiFi5cKMQOB3d397i4OGi51WrVaDQ5OTnXr18vLCyEmhKSJHNzc+vXr1+7M9Gbb74J58vz589zMwTWQovFwrLsjRs3hF+J+vr6XrhwgaZpjUYjVhkrQuju3btms/nKlSvTpk2bPXu2yWTiBKpIkhw7dqyQRNm2bduCm6HRaCqE3ZRK5fvvvz969Gge9jEMy8nJgVy8iRMnilgvEhoaStO02WyeO3duaGhoq1atAgMDo6KiQG0mJyenY8eOPBqMEOrZs6der4dyXoPBUFJSsmnTphUrVqxYseK7776rEFt2HlKp1Gg0Mgxjs9n0en1cXNyTJ0+2b99uMBhgP9y1a5fwfezrr7+mKCo/P18shQ8cx7dt28aFvsH5ghoji8USGRkZFxdX5THhJVAoFBDkJUkyJSXFy8urU6dO169fhyoPu90+YcIEgRcY3t7ekA1D0/Tq1avFyrLHMCw/Px/OEg8ePDAajVar1Ww2m0ym1NTUqVOnChzlffv2hYFisViSkpLc3NxAF8Hf379Zs2bz5s3jd1Ps7e0NiTvx8fHOpLw4D5lMlpKSAnVhUOlnsVggrUytVguRssFxvGHDhmFhYR988EFoaGibNm0aN25cv379yqlqtQJC6O2339ZqtTA2uNRNmqYzMjJqDno7+XLlcvnJkydZls3NzRWRE0ClUq1YsQJO0QzDXLx48dNPP+3Ro0eTJk0UCgXPgYdh2HfffVdSUmK1WvV6/bBhw5YvXw5hK1BRfekFRs0PRgjt3LkToqYPHz7kfRteZctBjBb01Ww2240bNxYtWtSwYUPhSVISiSQ8PJzLz4aFSa1Wz58/PzQ0VIhWSUhIyIMHDxISEkQon6mE5s2bZ2dnkyRpt9vhhT59+nTWrFl/js4MDyCEIiIi7ty5Y7VabTYbSZJlZWULFiyoV6/eS//QyUeAayNc86tyAzw8PJo3bx4WFiZO92IY1q5du/nz50+fPj09PX3dunU9evRIS0vLzMycPXu2kxZq6Be5XJ6VlUVRVFlZmSg3IuXRp0+fZ8+e6XS61NTUPXv2KJVKEYUmMQxr06bNuXPn7t279+LFi9TU1LVr1zZr1uwvO6w5QBwPJNb/021xChiGSaXS9u3bt2vXTlxtVl9f35ycHJvNNn/+/Dpl0BAB8M7goF9BBt1JCy/9JITF+DdR2NNd+B8HQRB/wSWpYoNkMhlcKgJPI03T3K8qMzdWADfBXvpJJz/DD3Vn2YX/AiCEGIbhaib+082pHgL3K+5v/9Jf0gUXXHDBBRdccMEFF+oAtfKB6zRQ5IILwvGXiyM5j9qGZ8S9NXHBBXHxN56KtYWIF4wu/Jn4H7n3+mtNRalUWhciORwlj1gcxFVCKpWKRf5PEETDhg179+4tirWaIZPJ/sr+AkEQffv2raMWurm5+fr6ijveEEKBgYH/4XWfIIjAwEAcx3m0w83NLTExEfL31Gq1WKpjUDEMrF5Wq9VisZw9e3bevHliFYJwTzl16pTBYLh586Yo7/Wzzz6jafrnn38Wbqpm/PLLLw6Hw2KxiD50cBx/++23hZeDf/755yzLXrt2TZRWVcD3339vNBqXLFkiok2CIA4fPnzmzJk/actt0qSJm5tb+Rx5DMNCQ0O//PLL+vXrN2zYsLbt8PPzA3oySOZ++vSpwHQnhJCPjw9khANvJ+QWc/aVSqUoKRcIoWPHjgH5rCi0JRiGDRo0yGaziUWAXR0IgoD01Fu3bomYfYLjePPmzYGDMD09XaA1d3f3zMzMW7duidG0iti8eTOQU4poE8Ow8+fPFxUV1VbYg88LiIiIuHLlyv379x8+fOjj4wNvEcOwiIgIhmFUKhWPtGaotYd/OxyOiIgIgRQg3bp1e/78uclkKiwsnDZt2sSJE0eNGgV1riA1k5mZ6e7uLnzpksvlI0aMkEql9+/fP3funEBrEokEw7ApU6ZgGEaSpHBr1YEgiIEDB6anp//yyy/79u0TMUXJz8/v1KlTUqkUw7Bnz54JtGYymSwWy0tzwfkhOzsbistFXIlAg0SpVPbt27duc1wJgjh16hTUraxfv56rtsYwrFmzZp06dWrcuHG3bt1q+90CAwM5ElEoRbVYLLyreHr37p2Xl5ednb1w4cImTZpAPi3k1kql0rfffjspKclut0dHRwv0VDEM69Onj16vt9vtH3/8sRBTHPz8/AoLC81ms/AXWd1CgxBavny52WzW6/VPnjwRcaArlUrgAgUH5PvvvxdoEMdxvV6fmJgoSvMqYO7cuaBTKO5Z1M/PT6PR6PX6Jk2aiGi2Inx9fWHOMAyzfv16kOYECpm2bdv27NlzwIAB4eHhtd1twsPDbTYbNxWhIGvBggU8WiiXy+/cufPgwYMJEyZU2QwMwz744AOWZcvKytq1a8fjERwQQtHR0RRF6fV6sV4nQRAWi0Wr1fJz0Z3p+UaNGgHDSG5u7s8//yzW4q1QKBISEjgpS4Zhbt26JdDvQAiRJGkymeri6PX555/b7fbS0lJxiz/gDZrN5vbt24totiKaNm0KpXolJSWVC5MRQgRBeHh41Lbj3N3ddTodNw9h192/f39tm4cQunXrVlZWVkJCQg1t6NGjh8lkstlsAgkE/Pz80tLSGIa5f/++WE6OSqXSaDQGg4HHWREh5ObmBoU18L+VW4Xj+KVLl6Ak95dffhFrFMpkst27d0NpMqykdrvdZDIJLAvEMKygoMBut4si+1UB48aNoyhKrVbzKbGvHjKZDAg7RKM8rQyE0PDhw2HNO378eHWscOVVrJ0EQRAlJSVQ9QvRTq1W+84779S2hR4eHlar1WAw1MyrBcQNNE1Pnz69to8ojyZNmoAzVkHoTgi8vLwg5MuDrgohBEXSMBWrLGju1asXtDk7O5sfA03lh/r7+x88eJAjAo2JiRkyZMh77703bdo0Hi5SeWAYFhsbS1GUcI7cyti+fTtUVIsoYyyRSKRSqdVqpShqw4YNzn/3Wt8ZAC0F0G1UedaHCvramg0LC1OpVNyxMz8/f+HChVeuXKmtnSFDhjgcjkuXLhmNxho+BhsvhmGFhYW1fQQHoNKQSCS3b9/W6XS87VQARVFarRauvHJzc2v1t0DBJpFIWJaF/63wjgiC6NWrl0QisVqts2fP5q1RxQEhNGzYsHnz5vXr1w8ozyZMmHD9+nWGYcBFat++vdls1mq1vB8BzBrl6/VEAbi+UA+o1+vFNW632wmCEJ0o4N+Qy+VGoxHCKiI6DAihI0eOAEmpw+G4e/du9+7dOZKyWjUPOJS6d+9e8ycJgqBpmiTJRo0a8W62UqkEArgKar4CIZVKc3NzWWHq8NwBvsIPx48fD2e558+fC5edQwj17t07JyfHYrGUlpZu3bq1S5cuFd5as2bNmjVrJuSieP369SzLdu3aVWBrKwDDMCAv1Wq1ovCtcJDJZBD4eP78eV3VKPv4+MCLVKvVIj6jffv2oJoEB0Xe5D/e3t55eXkMw7w0DtGxY0eKovLy8ngPEYVCARKOUVFR4sascRzfv38/TdNr167lbaTKVWz06NEFBQUOh0On0wkXikAIAQWewWBISUkZN25c5SGBENqwYUNMTEyPHj14P8jf358kyfHjxwtrb0XUr18/Ly+PZdmYmBhxMxy8vLxMJpPD4cjJyXE+mFe76dSzZ0/o7tLSUnCBREHfvn25KZGQkMDbmWnSpElQUNCLFy8oiqrhYxiGDR06FMOw+/fvMwzD71k4ji9fvhwhtGvXLnEvAFmWbdSoEY7jwKpc2z+v4QKjX79+wcHBDofj9u3bcXFxAtuJ4ziIiJEkee7cuTNnzlQeEg6HY+/eva1bt96yZQvvtdvf3x94bsQNokqlUjhfXLt2TVzv12q1wnhWKBR1lVTIiey+9957YtlECP3++++wJdpsNiFN79SpE03TX375ZQ3vDAjFIMDwUj+2BgwdOpRlWZPJJC5dIuD48ePgeog4+HAcv3v3LsuyOp1u4MCBAq0hhF577TWgmU1MTKzhrYWHh+fk5JhMJt6h2qZNmzIMI/yKsjwQQl999RXDMHq9XsghpUqoVCrw8sxmc52kTBEEAaIOdru9S5cuYplt1aoVSDWyLLts2TIhpjp37mw2m5ctW1bDCPb29k5LS6NpWq/X884O79u3b1pamsPh6NixY10sexMmTLDb7Xq9XsR5PnDgQPBlSkpKhPN/tmjRIjk5GfQb33///Ro+OWnSJLia4u3GDxgwgGXZ5cuXi5g5HBAQkJqayjDMpk2bxE1Ilkgkcrkc7t7tdnufPn3ENS6RSCT//Oc/gWlbuLYpB4TQxYsXYUt88OCBQGvDhg0zGo379++v0heSy+WhoaExMTFGo9Fms40ePZrfU7jgh8ViEasUowLq168PJMKi6BxJ/pD1BKL7GTNmCDcYGBio1Wp1Ol1RUVENNyKhoaGgtltSUsJ7KrZq1Ypl2dOnT4u16iGEPv/8c0jMqIuEGHd3dy66+eGHH4puX/KPf/wDwsrz5s0Ty3EKDg6GWFNpaalw8v++ffuSJPnkyZPyUxHHcZVKNXv27Pv37+v1euD2Pnv2LO+jCySmMQyzd+/eOsq+d3d3P3r0KEgsimKQIIjr169D0Fig4ASgRYsWer2epmmDwVDdpZxcLv/www8hzrd//37efeXv72+324uLi8W6vHV3dwcm3sOHD9fFG8Qw7PfffweC8y+//FJ0+5Jdu3bRNF1lkg0/yGSye/fuATexKBzhI0aMoGn6xx9/9PX1hTQDlUrVtWvX8+fPA8E+y7KPHj3q0aOHkJhnly5dQG65Q4cOdRSqRght3LiRpum9e/eKZfDWrVuwKwqRJeSgUCji4uIYhjGbzR988EGVA3rgwIFFRUVQ9SbEjZLJZBRFFRQUiJUYFBAQYLFY4ApUFIOVMXXqVOC/FzGq8m9s2bIFREJ5ZIFUBrh5VqvVbrf/9ttvoixOERERkOVw69atoUOHfvzxx7GxsTqdzmg0UhRlt9vnzp3LIxOoPJRKZWJiot1u//LLL8UqqqwMhNC7774LE14sm1OmTKFp2maziZJh4+bmtmbNGqPRaDQai4qKWrVqVaFX3dzc1q9fD+lvAp1AuVxuNpsLCgqEhNnKY/DgwRaLRaPRiDKSq8SgQYNMJhNFUdnZ2eKv19nZ2QzD3L59W5Qh2K5dO4giPHr0SKykhD59+qjVauYPkCTJMMydO3e+/vprd3f36vRbnQdCaMCAAaDNJG6qVGV8+umnIAAolkEI+dI0LYqbJ5PJfvrpJyhJgTjk8OHDlUqlh4dHcHCwVCoNDg7+6quvLl++LFz4CSFks9mKiorEWvs2b95MkiRJkvXr16/wK09Pz61btwpvs7e3t16vpyiqqKhIeCrF/wOGYSkpKTRNR0ZGCu8RhNDMmTNhkR43bpwoLZRIJN7e3idOnCgqKiouLjabzTdu3Pj4449FXJPkcjmcEp89e1bXNdqHDx8GySexYhXdunWz2+02m+2XX34Rbg0qs19//fXU1FSNRhMVFRUREREUFITjuFwuxzAMyPBF6SUcx41GY1lZmSiqnhKJpH///hkZGcXFxdOnT4dCPMhMGj9+/NKlSz/88EPhfQ5ybFartbCwUNx6SAlC6Pr163a73UkFm5da+/jjjy0Wy/r168VNdKjTGeLv7x8VFWWxWN599926ewpg2LBhBoMhIyNDFH9SIpFgGLZ582abzbZ9+3ZRDAJg7gn3OGqGXq8vKCgQKz2NIIh//vOfCQkJRqNRp9NFRkYuWrRILpd7eHjwF2D7/0AI9e/ff+zYse3bt5fJZCL7qHK5vE2bNiJqIYpbJPYnAFK9AgMDRVGNduZxotO3/h35YKVS6YULFwYOHCju4RzDsGnTpt28efPevXviFkm54IILLvyP4W+3sbjwvwvXYHXhvxKuge2CCy644IIL/2Vwbe4uuFAd/lTNjCpZj1xwwQXJnzwVxUq/EIK/48WaC3UEGAl1Nx7qnKifH6RSqYeHx39WtEgqlbZq1apKFpa/CAiCkMvlohez1gCZTPZnPu6vA4QQjMnu3buLOx4IgnBzc1MoFF26dBF/pAlfORQKhZ+fn/NTEcfxrl279u7dWyqVipWLdOXKFZvNZrfbReRQUKlUwistywMh5Onp6enp+SfMkKCgIIvFQpKkWHQB7dq127Nnz4wZM/4W01sqlT58+NBqtdZcouHM8MMwbPDgwXFxceX1JliWLSwsFJNTAwr/xo4dO23atN27dy9YsGD69Olubm61miFyuTw4ONjJb3X58uXU1FTgtz106BBv8QwAQRA9evRQq9XQTUDyJVxrUaVSXbhwgSTJoqIicUdevXr18vLyrFZr3e3eICISFRVltVqtVmvlGoXaWvPw8Dh48CBJksB+ZLVax48fL9wJkkqlCoWiXr16b7zxxokTJz7++OPx48eLSPz522+/MQwj0GBAQEB6ejowA1cAy7JRUVGivUepVLp27VqgrOYeoNVqT58+XTMJd3l4eHg40yCpVPrTTz9BmS/3LH4ZzOCBDBgwIC8vD8QFwCBFUcnJyU2bNuVhs7zxLVu2gFZccXGxuGxCSqVSo9FQFCWchKY6EAQxfvx4kiRpmj58+LCQsQIr9e3btzkmW+hqg8Hw6quv8raMEOrcuXN0dPTjx4+NRiNJkmaz2WAwlJWVffHFF6IQXiKEPvzww5eSrNa8fxAE8fjxY/ju8MUZhjEajVA+xrLsjRs3RJuKnp6eP/74Y3FxMZAjwCNhy7JYLOfOnXNmQjoTsyEIIisri9Mhgq9H0/SgQYN4NNvLy2vBggU6nY7rJiCZZhjGYDA8evTI+XWkMurVq1dQUADt3LJli7g+KoZhq1evttlsdZd33qlTpxcvXsD4FrgqeXl57dmzh1OtAeUWEM8oKysbMGAAD5sIocGDBwPjs8FgyM3NTU5Ozs3NLSsrKysrKywsfOedd0SphFy2bBnDMELcrvDwcKBfg7G6a9cuLy+voKCgH374AarSLly4IE4iu1wunzFjBhCZcAMaqks4b8RoNAosiEYIjRkzBohcuae8ePEiOjr6p59+4rEEymSylJSU8j4D2ASmLEDNNI01t/aVV16BnRZYicUt9cIwbNKkSWazuS6YHSUSiVwuv3btmt1u12q1kZGRQo7iOI5HRkYCQRFN0zqd7quvvpo9e3ZUVBSsgIWFhTwGYpcuXR49emS32zMyMl577TV/f/+wsLCIiIgLFy7k5uYyDGMymcaOHSswiCCVStPS0mw2m5DXB+TlMMaWLFkCYxXDsJYtW8LwEyIG8W8olcoJEyao1WqLxcKteYcPH96xY0ePHj1ef/31mJgYKIjOzMzkXfQklUqnTJliMpm4r2Sz2ZKTk1u1asVvZ5fJZD///DPnLwFIkoyNjV2/fj242SzL6vV63svVtGnTgDPSbrcvWLBA3IA4hmFHjx5Vq9ViUUiUB8hmANXFwYMHhSzYCKEpU6ZYrVbQpYqPjx87dqyfn59MJuvVq5fFYgFvDVQ6nEdQUNCvv/4KdeoNGzbkxoCnp2eLFi2AOp1l2YsXLwp0U5VKJey6vI/6UqmU2xJXrFhRvjM3bdoEu9cXX3whdHj4+fndunULZgjAYDCsXbvWx8cHbudwHA8JCfntt9/sdrvFYpkzZw6PWAhCaNasWbDBcme5vXv3Cjl9ff311+XPLcBM0b59ezc3t65du2o0GnhWWVkZ76d07doVOrouqIQUCsX169dJkly0aJG4liV/MDuyLPvw4UOBm3nnzp0NBgO4BlevXvXy8uLiNAqFIioqCl5BYmKikxE7iUSCEPrmm2/Ac27btm2Fv0IIhYaGfvPNNxAZEhhu6dChg1qtJkmSt0/3008/cUe2Ci6MTCbLyMhwOBybN28W0kgJjuOXL1+GoyccrhISEpYvX16B+VOhUMyaNUuv15vN5qtXr/LYxORyeXx8PDcPgShFyDxUqVRWq5WbhyRJLl68mDsWurm5QYCBZdnY2Fjey1VoaCjsigzDCAw/VkZgYGBycrJOpxP3CCqRSHAc/+qrr1iWNRqNAvkpmjdvDosawzAbNmyovEG9++67cBwgSfLy5ctOfhccx58+fWqz2VasWFHd2wkPD8/Pz2cY5ocffhASERk4cCBIL/PbFRFC3EirPPj9/Pxg+gwfPpx3CyUIoRkzZthsNuhotVo9ffr0yvd7GIa1a9cOlCeAa4PHyG7cuDGsrNxUnDx5Mv+m/8HXCtYyMzMr0DoGBQXp9XqYpadPn+b9FF9fXy4aJK64LI7jn332GUVRCQkJ4iocSSSSTp06wVnj4cOHQm4aVCrVw4cPYXg8evSoygiKQqG4cuUKOJMURf3000/OWIarToPBULPzOXLkSLPZnJ+fL4TvC/o5MTGRn6Pr6enJbYkLFy6s8FvQ5yZJUlD4VKVSpaWlwZIWHx//7bffVunJAMEETP3ExEQenSKVSoFHmNvELBaLkBs/HMfVajUXzqq8ILVv3760tNThcFgsFiFibGPGjIHXQNO0WPQzgM6dO2dkZLAsO3HiRHGPoEqlcs2aNSzL5ubmCklywDDsu+++g5WIJMnqvESE0MSJE7mYvjMi3gihQYMGMQxz4cKFmj/s5+eXlZVVUlLCWzMCIdSxY0eGYQ4dOsRvtpw+fZobtxVcDJlMtmHDBpZlIyMj+TXvX9i+fTvcOOXm5pY/N1dAcHDw7du34Ri5c+dOHgEAX1/fXbt2wfYLX0kg3eDYsWO5LVGn01VY+BFCn332GSwxZ86cEejbwFPsdnsFp72ysGGtMG7cOBi7bdu25W2kSjRp0gRCLJcvX+Z9SkQIzZ49mwt9bdmypYbdFdZ09g8x6ZfqGiCE5s+fT9P0/Pnza/4khmEbN25kGGbbtm18voZEIpFIvv32W5Zlv//+e35L3rZt22AM3Lp1q0GDBuV/FRERAZHeZs2a8W6eBCEUHx9P0/TNmzdrPrN169ZNp9OxLMvvAI0Q8vb2njRpUlFREXc3unXrVt4tl8lk9+/f52b1Rx99VOEDSqXy0aNHQGQqcKAvXLiQ86gr7IpCClAQQr/++issSaKLEM2dOxfklkeOHMl7v1WpVFqtFtZfk8lU8+UejuNffvkl7J8Gg+Gl8x8htHDhQride+knBw0aZLVaN27cWOvv8AdmzJjBsuwPP/zArzd0Oh2Mgfj4+PJvnCCItLQ0iHoISupCCBkMBoZhJk6cWIMhLy8v0B5jGGbMmDE8vgxCSC6Xh4eHc+FphmGEiKuAqBvnnQ4dOrT8b3Ecnzt3Lsi5paSkCOSbmzlzJuecVGizv78/76nYrFmzkpISOMeKy4gXGhqanZ3tcDiysrJ4yyIghA4ePAidDC+r5veO4/itW7dgcSRJ0pnoyIQJExiGKSoqqvljQMxrt9uXLl3Ke1mBjeu9997j977gNpVl2QpxuwYNGsB4/v333/k17F/w9PQEhQl3d/fqvqRSqVy1ahUIdGzcuJHf1MdxPDg4eP78+cCjDKG2IUOG8Gu2TCbbvHkzt7tardYJEyaA70QQhI+PT3R09L179+Apb775psBj2JUrV7hQ0927d4WY4oDjOITpGYaZNGmSiAdFIBqE8bF48WLelkeMGAHjD5b8Tp061WAKIdS9e/fY2FgYr2lpac48IiwsjGXZzMzMmqNKQ4YMAd0L3tTyCKGzZ8+yLFtDqLZmcMptERER3A/79+/PUdQLpZD38vKy2WwkSfbp06fyaoFhWJMmTY4fPw40+Lm5ubzlUBBCn3zySUZGRvmcqZrF+moAjuOxsbHcVLTZbAUFBdHR0TqdDr4OZL1ZrdZff/1VoDQAQmjz5s1wmeFwOIqLi0XJbAoLC0tJSQGtKyFJeZXh7e29b98+6Bbein9SqRSi5eC/mM3m4cOHe3t7VzmOCYJYuHBhZmYmfNhisRw7dsyZpwQGBlIUZTKZOnbsWOUHMAwLCwtTq9UURe3bt493zAymIsMwq1ev5reXPHnyhGVZjUYzfPhwDMMwDGvQoAGctliWffLkidAcLDc3N5DHyMjI6NSpk5+fH0EQCCF3d3dPT89JkybduHHDarUyDJOfnx8WFsZ7ifX29l61apXJZIKzhN1uT0tL463ogBD6+eefuWwEkiRtNhtstpB3arFYUlJS+vfvX9uakiqfNWzYMO6IazQay6+LvNG1a1ez2QxZXeIeFDt16pSSkgKXCryXTgzDFi9ezC1AkNeRnp7+5MmTBQsW9O/f39/ff+jQoR06dJg5c+aePXuSk5NhBTQYDF988YWTWpRKpRI0iLZu3Vr+TyDp/NVXXz1w4MDt27ftdntWVlZoaCi/7wIGFy9eTNN0zdq4NYAgiIKCgrt37/bt21cmk7m7u+/evRuEA+12uzhXXD/++KPFYgEHIDk5efPmzevXr4d8t/j4eAhPFxYWNmzYUMiYJgji/v37XGqr1WodPXq0EIPh4eHcMQZUe81ms9FovHHjhrh51QghcNW4TViUQoGGDRvCrlhaWlqvXj3hBgEIoVWrVkEpncBAAmyMsNg5ygHWO8jepv8A7Ic6nW7u3Ll9+vRx8s26u7vPnTvXYDBoNJovv/yySZMmTZo0UalUly9fLi4uBjUUm82WkZExatQogUvq4cOHaZpeu3Ytb6dGKpW6ubkRBBEYGDh27Nj4+HjwGnQ6nTgp4CEhIdeuXYPkeuhT2GGsVqvNZjMYDDk5OYMGDRL+sMDAwDt37jAM8+TJk8rCYLWFSqWCiK5Op9u/f3/Dhg2Fb4BVAiF0/vx5biparVZRntK1a9fi4uL/a+98Wk6J4jjemX/NFCnRQwmvQGRhp1l5B94CZWWjLKztleyslI2UyAZJiY2SwqxmQYyy0Pg3YZR7F6c7Pd2n517XHPd2PefzAs78as6f3znn+z2/2+2mKEqpVPooqHgsVI7jxuOxIAjX67VQKOgM1Ww2Q6XLtx8GHe3I+nw+a64amJjUajW/389x3P3BAwC8Xm+73YYGNNjOZrPRhDvL5TISiSCp0hGLxXQqPd6HTdN0r9eDidhgMEDT8aCRnOf5TqcjyzKUDquqKsvybDar1WqhUOjOPPi3ARkMBr/f/4sjovthGEaSpNVq5XK5kN8EvIeiqGw2q92tCYKgv02GYer1+vF4VFV1sVg0m0273e52u51OZyaT8Xg8j13KsywriiI0FsmyrF+NAACwWCz9fn+9Xk8mk/l8Pp1Oi8VitVqNRqOj0UiSpOVyWalUwuHwY8kCAMBut5fLZZh/Qb8B7Hvw8QtU0yvcyiYSCVTPRPA8Dx1Leq5YPm0dAMCyLMMwJElqyzHizyACAODz+Z46CCEEQSSTSbhhVhQFScVMkiTH4/HpdLpcLjABgdPffr8fDofpdNpkMv1pjwEABINBaAFVVTWXy6H6d9p4+CkkkiQpikJV0Y0gCI7jHA6H1Wp9xgsdcO1FKCEGAKRSqXw+j+vh/FWgKBdhAmw0GrvdbqvVOhwOoijudrvBYBCPx20222PLC0VRjUZD29dtt9tAIIAq2hfgdDopivLRN/yMTQ3m/wPt8GZZlqbpt7c3VK91vRKwJOu/jgLzBdBySDwIP0OnYPhLg3sVBoPBYDAYzEvzHSQxv1ckRhDCAAAAAElFTkSuQmCC\n",
          "text/plain": "<IPython.core.display.Image object>"
         },
         "metadata": {},
         "output_type": "display_data"
        }
       ]
      }
     },
     "d8918086d84b4e059c1a7776c5093b5d": {
      "model_module": "@jupyter-widgets/base",
      "model_module_version": "2.0.0",
      "model_name": "LayoutModel",
      "state": {}
     },
     "da112483152f4add885d1a194d49b1be": {
      "model_module": "@jupyter-widgets/controls",
      "model_module_version": "2.0.0",
      "model_name": "HTMLStyleModel",
      "state": {
       "description_width": "",
       "font_size": null,
       "text_color": null
      }
     },
     "dcbe77ad42694b049783e082bf27e03f": {
      "model_module": "@jupyter-widgets/base",
      "model_module_version": "2.0.0",
      "model_name": "LayoutModel",
      "state": {
       "visibility": "hidden"
      }
     },
     "dd0b19a7941e46eba93b2bf86d20b7a2": {
      "model_module": "@jupyter-widgets/controls",
      "model_module_version": "2.0.0",
      "model_name": "FloatProgressModel",
      "state": {
       "layout": "IPY_MODEL_0bc1760a86f04c7eb93f3fef1c5384b5",
       "max": 198,
       "style": "IPY_MODEL_1b9a8aea85a141d19057f29103d7f8e0",
       "value": 198
      }
     },
     "e030d0bae3884b04bc00bbfde40e7b38": {
      "model_module": "@jupyter-widgets/controls",
      "model_module_version": "2.0.0",
      "model_name": "ProgressStyleModel",
      "state": {
       "description_width": ""
      }
     },
     "e0dfe456c1b1477385fe3dabde0f40cf": {
      "model_module": "@jupyter-widgets/controls",
      "model_module_version": "2.0.0",
      "model_name": "FloatProgressModel",
      "state": {
       "layout": "IPY_MODEL_d2f7675e0cd54bb49cf27d75ec485ab7",
       "max": 198,
       "style": "IPY_MODEL_45ed5e1b051d44fd8c509246f6ec2646",
       "value": 198
      }
     },
     "e208083af7604d379a2dc7b46b0bdebf": {
      "model_module": "@jupyter-widgets/controls",
      "model_module_version": "2.0.0",
      "model_name": "HTMLStyleModel",
      "state": {
       "description_width": "",
       "font_size": null,
       "text_color": null
      }
     },
     "e36706cd8cb44d098f12ec984d8b56d9": {
      "model_module": "@jupyter-widgets/controls",
      "model_module_version": "2.0.0",
      "model_name": "HTMLModel",
      "state": {
       "layout": "IPY_MODEL_9bc634d8cd8c4e6bb3040a575af352ea",
       "style": "IPY_MODEL_12a5bb123bc548f290e675619fb12c83",
       "value": "Batch: 100%"
      }
     },
     "e461afe40f6c40a6883331507395ad0c": {
      "model_module": "@jupyter-widgets/base",
      "model_module_version": "2.0.0",
      "model_name": "LayoutModel",
      "state": {}
     },
     "e620b3d341e54803b10c33adc021e759": {
      "model_module": "@jupyter-widgets/base",
      "model_module_version": "2.0.0",
      "model_name": "LayoutModel",
      "state": {}
     },
     "e8433f6f9fa64b648d708816d202adb1": {
      "model_module": "@jupyter-widgets/controls",
      "model_module_version": "2.0.0",
      "model_name": "ProgressStyleModel",
      "state": {
       "description_width": ""
      }
     },
     "e8d3d8865d0d47039b1241130b51d6f6": {
      "model_module": "@jupyter-widgets/controls",
      "model_module_version": "2.0.0",
      "model_name": "HTMLStyleModel",
      "state": {
       "description_width": "",
       "font_size": null,
       "text_color": null
      }
     },
     "e97100b4163d44e9b1433a8d88020383": {
      "model_module": "@jupyter-widgets/controls",
      "model_module_version": "2.0.0",
      "model_name": "HTMLStyleModel",
      "state": {
       "description_width": "",
       "font_size": null,
       "text_color": null
      }
     },
     "e9ca3a2f849646a5a481b59f897ef707": {
      "model_module": "@jupyter-widgets/controls",
      "model_module_version": "2.0.0",
      "model_name": "FloatProgressModel",
      "state": {
       "layout": "IPY_MODEL_02ce76165d8546ee875edab950d2cd3c",
       "max": 198,
       "style": "IPY_MODEL_66346b45d1d94776b81e6fa577138792",
       "value": 198
      }
     },
     "ec27a265adc84252b1dfa9f2ac3cb124": {
      "model_module": "@jupyter-widgets/controls",
      "model_module_version": "2.0.0",
      "model_name": "HTMLStyleModel",
      "state": {
       "description_width": "",
       "font_size": null,
       "text_color": null
      }
     },
     "ec400ed068444e57873f7519723d2a9c": {
      "model_module": "@jupyter-widgets/base",
      "model_module_version": "2.0.0",
      "model_name": "LayoutModel",
      "state": {}
     },
     "ec423816d7014f2f9dad116a56154601": {
      "model_module": "@jupyter-widgets/base",
      "model_module_version": "2.0.0",
      "model_name": "LayoutModel",
      "state": {
       "visibility": "hidden"
      }
     },
     "ec4e5569f72544cdba1cce3e64cd4a39": {
      "model_module": "@jupyter-widgets/controls",
      "model_module_version": "2.0.0",
      "model_name": "ProgressStyleModel",
      "state": {
       "description_width": ""
      }
     },
     "ec5af4a11de34ede881bbab5a41d8398": {
      "model_module": "@jupyter-widgets/controls",
      "model_module_version": "2.0.0",
      "model_name": "HTMLModel",
      "state": {
       "layout": "IPY_MODEL_d68fe53a9f2a426b9af2b31f88169c86",
       "style": "IPY_MODEL_641fed38576a410486071e8f71a9550a",
       "value": " 198/198 [00:27&lt;00:00,  7.85it/s, W1:2.1 G]"
      }
     },
     "f0ff2239da0b4ac98617def24111e9df": {
      "model_module": "@jupyter-widgets/controls",
      "model_module_version": "2.0.0",
      "model_name": "ProgressStyleModel",
      "state": {
       "description_width": ""
      }
     },
     "f25740428c8d496092a51210d4e742a1": {
      "model_module": "@jupyter-widgets/base",
      "model_module_version": "2.0.0",
      "model_name": "LayoutModel",
      "state": {}
     },
     "f29cbd92b6c44da3b38229a050190394": {
      "model_module": "@jupyter-widgets/base",
      "model_module_version": "2.0.0",
      "model_name": "LayoutModel",
      "state": {
       "visibility": "hidden"
      }
     },
     "f2a94e8993cc4262a244359f3234fe0e": {
      "model_module": "@jupyter-widgets/controls",
      "model_module_version": "2.0.0",
      "model_name": "HTMLModel",
      "state": {
       "layout": "IPY_MODEL_b76ddfc3ad8944758890b7a709120548",
       "style": "IPY_MODEL_c36fe6b700924709a50b3f627ba22f97",
       "value": " 198/198 [00:28&lt;00:00,  6.13it/s, W1:6.4 G]"
      }
     },
     "f3faa780119a481d9620466d6bdf4187": {
      "model_module": "@jupyter-widgets/controls",
      "model_module_version": "2.0.0",
      "model_name": "HTMLModel",
      "state": {
       "layout": "IPY_MODEL_9075bc1e9ea644daa124a4804bd92b01",
       "style": "IPY_MODEL_fd268e91a1a64ccca871ff0e19de3386",
       "value": " 198/198 [00:27&lt;00:00,  8.00it/s, W1:3.4 G]"
      }
     },
     "f435fc101a1a44ca8ff391d74f99e018": {
      "model_module": "@jupyter-widgets/controls",
      "model_module_version": "2.0.0",
      "model_name": "HTMLStyleModel",
      "state": {
       "description_width": "",
       "font_size": null,
       "text_color": null
      }
     },
     "f56572276daf40839c7a2f7a5826e002": {
      "model_module": "@jupyter-widgets/controls",
      "model_module_version": "2.0.0",
      "model_name": "HTMLModel",
      "state": {
       "layout": "IPY_MODEL_1d2ed495cd524a368b82aa2b4c43b6ce",
       "style": "IPY_MODEL_055573a84e33495fb78e22c7c4ace60c",
       "value": " 198/198 [00:27&lt;00:00,  8.02it/s, W1:6.4 G]"
      }
     },
     "f584c73fe1ab4965a661e795916275a3": {
      "model_module": "@jupyter-widgets/base",
      "model_module_version": "2.0.0",
      "model_name": "LayoutModel",
      "state": {}
     },
     "f63d4337046f4e4a81c1502a89217401": {
      "model_module": "@jupyter-widgets/controls",
      "model_module_version": "2.0.0",
      "model_name": "HTMLStyleModel",
      "state": {
       "description_width": "",
       "font_size": null,
       "text_color": null
      }
     },
     "f673df8e550f441caab2f74544613416": {
      "model_module": "@jupyter-widgets/controls",
      "model_module_version": "2.0.0",
      "model_name": "HTMLModel",
      "state": {
       "layout": "IPY_MODEL_e620b3d341e54803b10c33adc021e759",
       "style": "IPY_MODEL_0f92c4df82834736a21e2aecfae2c62b",
       "value": " 198/198 [00:28&lt;00:00,  6.84it/s, W1:3.8 G]"
      }
     },
     "f6afead0ca9e4feaa13dca05bd522c6c": {
      "model_module": "@jupyter-widgets/controls",
      "model_module_version": "2.0.0",
      "model_name": "FloatProgressModel",
      "state": {
       "layout": "IPY_MODEL_d5d075825c1e4b9fbef1070f999aa0fb",
       "max": 198,
       "style": "IPY_MODEL_acaa0c9601cd4c24951f680bfbab8326",
       "value": 198
      }
     },
     "faa123fa90d3471485c1f0d97d035142": {
      "model_module": "@jupyter-widgets/controls",
      "model_module_version": "2.0.0",
      "model_name": "HTMLStyleModel",
      "state": {
       "description_width": "",
       "font_size": null,
       "text_color": null
      }
     },
     "fc5dfb02a17d4147a06ac05b0c61160d": {
      "model_module": "@jupyter-widgets/base",
      "model_module_version": "2.0.0",
      "model_name": "LayoutModel",
      "state": {}
     },
     "fd1b61903e054a46bc44eed2986f55bc": {
      "model_module": "@jupyter-widgets/base",
      "model_module_version": "2.0.0",
      "model_name": "LayoutModel",
      "state": {
       "visibility": "hidden"
      }
     },
     "fd268e91a1a64ccca871ff0e19de3386": {
      "model_module": "@jupyter-widgets/controls",
      "model_module_version": "2.0.0",
      "model_name": "HTMLStyleModel",
      "state": {
       "description_width": "",
       "font_size": null,
       "text_color": null
      }
     },
     "fd30d3018c574192af262eafe318d350": {
      "model_module": "@jupyter-widgets/base",
      "model_module_version": "2.0.0",
      "model_name": "LayoutModel",
      "state": {
       "visibility": "hidden"
      }
     },
     "ff57a4e5d5bb402f855be73614828dd2": {
      "model_module": "@jupyter-widgets/base",
      "model_module_version": "2.0.0",
      "model_name": "LayoutModel",
      "state": {}
     }
    },
    "version_major": 2,
    "version_minor": 0
   }
  }
 },
 "nbformat": 4,
 "nbformat_minor": 5
}
